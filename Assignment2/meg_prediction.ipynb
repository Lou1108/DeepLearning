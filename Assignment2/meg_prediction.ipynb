{
 "cells": [
  {
   "cell_type": "code",
   "id": "initial_id",
   "metadata": {
    "collapsed": true,
    "ExecuteTime": {
     "end_time": "2025-05-14T09:49:56.314535Z",
     "start_time": "2025-05-14T09:49:56.299120Z"
    }
   },
   "source": [
    "# code snippet from assignment\n",
    "import h5py\n",
    "\n",
    "def get_dataset_name(filename_with_dir):\n",
    "    filename_without_dir = filename_with_dir.split( '/')[-1]\n",
    "    temp = filename_without_dir.split ('_')[:-1]\n",
    "    dataset_name = \"_\". join(temp)\n",
    "    return dataset_name\n",
    "\n",
    "filename_path=\"../dataset/Final Project data/Intra/test/rest_105923_10.h5\"\n",
    "with h5py.File(filename_path , 'r') as f :\n",
    "    dataset_name = get_dataset_name(filename_path)\n",
    "    matrix = f.get(dataset_name )[()]\n",
    "    print(type(matrix))\n",
    "    print(matrix.shape)\n"
   ],
   "outputs": [
    {
     "name": "stdout",
     "output_type": "stream",
     "text": [
      "<class 'numpy.ndarray'>\n",
      "(248, 35624)\n"
     ]
    }
   ],
   "execution_count": 18
  },
  {
   "metadata": {},
   "cell_type": "code",
   "outputs": [],
   "execution_count": null,
   "source": "",
   "id": "28b1816aac1a0390"
  }
 ],
 "metadata": {
  "kernelspec": {
   "display_name": "Python 3",
   "language": "python",
   "name": "python3"
  },
  "language_info": {
   "codemirror_mode": {
    "name": "ipython",
    "version": 2
   },
   "file_extension": ".py",
   "mimetype": "text/x-python",
   "name": "python",
   "nbconvert_exporter": "python",
   "pygments_lexer": "ipython2",
   "version": "2.7.6"
  }
 },
 "nbformat": 4,
 "nbformat_minor": 5
}
