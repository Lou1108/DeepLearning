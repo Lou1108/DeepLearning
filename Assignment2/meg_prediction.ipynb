{
  "cells": [
    {
      "cell_type": "code",
      "id": "initial_id",
      "metadata": {
        "collapsed": true,
        "ExecuteTime": {
          "end_time": "2025-05-21T09:20:40.023374Z",
          "start_time": "2025-05-21T09:20:40.020926Z"
        },
        "id": "initial_id",
        "outputId": "b9252c22-a840-4521-8da3-f560aca4a260",
        "colab": {
          "base_uri": "https://localhost:8080/",
          "height": 0
        }
      },
      "source": [
        "from google.colab import drive\n",
        "drive.mount('/content/drive')"
      ],
      "outputs": [
        {
          "output_type": "stream",
          "name": "stdout",
          "text": [
            "Drive already mounted at /content/drive; to attempt to forcibly remount, call drive.mount(\"/content/drive\", force_remount=True).\n"
          ]
        }
      ],
      "execution_count": 25
    },
    {
      "metadata": {
        "ExecuteTime": {
          "end_time": "2025-05-21T09:27:21.610813Z",
          "start_time": "2025-05-21T09:27:21.606168Z"
        },
        "id": "5dbabf48dcec70d8"
      },
      "cell_type": "code",
      "source": [
        "import os\n",
        "import h5py\n",
        "import numpy as np\n",
        "from collections import Counter\n",
        "from sklearn.preprocessing import LabelEncoder\n",
        "from sklearn.model_selection import train_test_split\n",
        "from tensorflow.keras.utils import to_categorical\n",
        "from tensorflow.keras import layers, models\n",
        "import tensorflow as tf"
      ],
      "id": "5dbabf48dcec70d8",
      "outputs": [],
      "execution_count": 43
    },
    {
      "metadata": {
        "ExecuteTime": {
          "end_time": "2025-05-21T09:27:43.894167Z",
          "start_time": "2025-05-21T09:27:37.526568Z"
        },
        "id": "28b1816aac1a0390",
        "outputId": "70e9e56f-fa4c-489f-d753-ea046bf8eda8",
        "colab": {
          "base_uri": "https://localhost:8080/",
          "height": 0
        }
      },
      "cell_type": "code",
      "source": [
        "def get_dataset_name(filename_with_dir):\n",
        "    filename_without_dir = filename_with_dir.split('/')[-1]\n",
        "    temp = filename_without_dir.split('_')[:-1]\n",
        "    dataset_name = '_'.join(temp)\n",
        "    return dataset_name\n",
        "\n",
        "def get_label_from_filename(filename):\n",
        "    base = os.path.basename(filename)\n",
        "    if base.startswith('rest'):\n",
        "        return 'rest'\n",
        "    elif base.startswith('task_motor'):\n",
        "        return 'motor'\n",
        "    elif base.startswith('task_story_math'):\n",
        "        return 'math'\n",
        "    elif base.startswith('task_working_memory'):\n",
        "        return 'memory'\n",
        "    else:\n",
        "        return 'unknown'\n",
        "\n",
        "def load_all_data(data_folder):\n",
        "    X, y = [], []\n",
        "    files = sorted([os.path.join(data_folder, f) for f in os.listdir(data_folder) if f.endswith('.h5')])\n",
        "    for file in files:\n",
        "        with h5py.File(file, 'r') as f:\n",
        "            dataset_name = get_dataset_name(file)\n",
        "            matrix = f.get(dataset_name)[()]\n",
        "            X.append(matrix)\n",
        "            y.append(get_label_from_filename(file))\n",
        "    return np.array(X), np.array(y)\n",
        "\n",
        "data_folder = '/content/drive/MyDrive/DeepLearning Project/Final Project data/Cross/train'  # or Intra/train\n",
        "X, y = load_all_data(data_folder)\n",
        "print(X.shape, y.shape)\n",
        "print(\"Labels:\", np.unique(y))"
      ],
      "id": "28b1816aac1a0390",
      "outputs": [
        {
          "output_type": "stream",
          "name": "stdout",
          "text": [
            "(64, 248, 35624) (64,)\n",
            "Labels: ['math' 'memory' 'motor' 'rest']\n"
          ]
        }
      ],
      "execution_count": 44
    },
    {
      "metadata": {
        "ExecuteTime": {
          "end_time": "2025-05-21T09:30:42.601008Z",
          "start_time": "2025-05-21T09:30:42.598041Z"
        },
        "id": "a1e1fdd05320ae73",
        "outputId": "f407145b-5920-4f05-9fcd-978b765801a7",
        "colab": {
          "base_uri": "https://localhost:8080/"
        }
      },
      "cell_type": "code",
      "source": [
        "from scipy.signal import butter, lfilter\n",
        "\n",
        "def butter_bandpass(lowcut, highcut, fs, order=5):\n",
        "    nyq = 0.5 * fs\n",
        "    low = lowcut / nyq\n",
        "    high = highcut / nyq\n",
        "    b, a = butter(order, [low, high], btype='band')\n",
        "    return b, a\n",
        "\n",
        "def bandpass_filter(data, lowcut=1.0, highcut=40.0, fs=1000.0, order=5):\n",
        "    # data: (channels, time)\n",
        "    b, a = butter_bandpass(lowcut, highcut, fs, order=order)\n",
        "    return lfilter(b, a, data, axis=-1)\n",
        "\n",
        "def preprocess_data(X, downsample_factor=70, method='zscore', bandpass=False, log_transform=False, baseline_correct=False):\n",
        "    \"\"\"\n",
        "    Preprocess X using downsampling and different normalization methods.\n",
        "    New: bandpass filter, log-transform, baseline correction options.\n",
        "    \"\"\"\n",
        "    X_downsampled = X[:, :, ::downsample_factor]\n",
        "\n",
        "    # Apply bandpass filter if needed\n",
        "    if bandpass:\n",
        "        # Assume sampling rate is 1000Hz, change if your data is different\n",
        "        X_downsampled = np.array([bandpass_filter(sample, lowcut=1, highcut=40, fs=1000, order=3) for sample in X_downsampled])\n",
        "\n",
        "    # Log-transform if requested\n",
        "    if log_transform:\n",
        "        X_downsampled = np.sign(X_downsampled) * np.log1p(np.abs(X_downsampled))\n",
        "\n",
        "    # Baseline correction (remove mean over time, per channel)\n",
        "    if baseline_correct:\n",
        "        X_downsampled = X_downsampled - np.mean(X_downsampled, axis=2, keepdims=True)\n",
        "\n",
        "    # Choose normalization\n",
        "    X_norm = []\n",
        "\n",
        "    if method == 'zscore':\n",
        "        for sample in X_downsampled:\n",
        "            sample_norm = (sample - np.mean(sample, axis=1, keepdims=True)) / (np.std(sample, axis=1, keepdims=True) + 1e-7)\n",
        "            X_norm.append(sample_norm)\n",
        "        X_norm = np.array(X_norm)\n",
        "    elif method == 'minmax':\n",
        "        for sample in X_downsampled:\n",
        "            min_ = np.min(sample, axis=1, keepdims=True)\n",
        "            max_ = np.max(sample, axis=1, keepdims=True)\n",
        "            sample_norm = (sample - min_) / (max_ - min_ + 1e-7)\n",
        "            X_norm.append(sample_norm)\n",
        "        X_norm = np.array(X_norm)\n",
        "    elif method == 'global_zscore':\n",
        "        mean = np.mean(X_downsampled)\n",
        "        std = np.std(X_downsampled)\n",
        "        X_norm = (X_downsampled - mean) / (std + 1e-7)\n",
        "    elif method == 'raw':\n",
        "        X_norm = X_downsampled\n",
        "    else:\n",
        "        raise ValueError(\"Unknown method: %s\" % method)\n",
        "\n",
        "    return X_norm\n",
        "\n",
        "# EXAMPLES of usage:\n",
        "# Standard z-score, with bandpass filter and baseline correction:\n",
        "X_prep = preprocess_data(X, downsample_factor=70, method='zscore', bandpass=True, baseline_correct=True)\n",
        "print(X_prep.shape)\n",
        "\n",
        "# Try other combos:\n",
        "# X_prep = preprocess_data(X, downsample_factor=35, method='minmax', log_transform=True)\n",
        "# X_prep = preprocess_data(X, downsample_factor=70, method='raw', baseline_correct=True)"
      ],
      "id": "a1e1fdd05320ae73",
      "outputs": [
        {
          "output_type": "stream",
          "name": "stdout",
          "text": [
            "(64, 248, 509)\n"
          ]
        }
      ],
      "execution_count": 66
    },
    {
      "metadata": {
        "ExecuteTime": {
          "end_time": "2025-05-21T09:31:28.552357Z",
          "start_time": "2025-05-21T09:30:54.524439Z"
        },
        "id": "4984709f2174a899",
        "outputId": "8af6fd64-305e-4fd3-d15a-b2cf23ccce19",
        "colab": {
          "base_uri": "https://localhost:8080/"
        }
      },
      "cell_type": "code",
      "source": [
        "X_ready = np.transpose(X_prep, (0, 2, 1))\n",
        "print(X_ready.shape)  # (samples, time, channels)"
      ],
      "id": "4984709f2174a899",
      "outputs": [
        {
          "output_type": "stream",
          "name": "stdout",
          "text": [
            "(64, 509, 248)\n"
          ]
        }
      ],
      "execution_count": 67
    },
    {
      "metadata": {
        "ExecuteTime": {
          "end_time": "2025-05-21T09:40:18.690889Z",
          "start_time": "2025-05-21T09:40:16.574553Z"
        },
        "id": "24751168f5a77d91",
        "outputId": "70381d4c-b0ea-4a9c-df1d-5627ce0a0d9b",
        "colab": {
          "base_uri": "https://localhost:8080/"
        }
      },
      "cell_type": "code",
      "source": [
        "le = LabelEncoder()\n",
        "y_int = le.fit_transform(y)\n",
        "print(Counter(y_int))  # Optional: check class balance"
      ],
      "id": "24751168f5a77d91",
      "outputs": [
        {
          "output_type": "stream",
          "name": "stdout",
          "text": [
            "Counter({np.int64(3): 16, np.int64(2): 16, np.int64(0): 16, np.int64(1): 16})\n"
          ]
        }
      ],
      "execution_count": 68
    },
    {
      "metadata": {
        "ExecuteTime": {
          "end_time": "2025-05-21T09:41:44.396407Z",
          "start_time": "2025-05-21T09:40:33.079005Z"
        },
        "id": "9ca1dd7456cfa2ff",
        "outputId": "bec0bbd0-f2f9-40bf-b3dc-71a7bfc98de9",
        "colab": {
          "base_uri": "https://localhost:8080/"
        }
      },
      "cell_type": "code",
      "source": [
        "def sliding_window_augment(X, y, crop_len=128, step=32):\n",
        "    X_aug, y_aug = [], []\n",
        "    for xi, yi in zip(X, y):\n",
        "        for start in range(0, X.shape[1] - crop_len + 1, step):\n",
        "            crop = xi[start:start+crop_len, :]\n",
        "            X_aug.append(crop)\n",
        "            y_aug.append(yi)\n",
        "    return np.array(X_aug), np.array(y_aug)\n",
        "\n",
        "X_aug, y_aug = sliding_window_augment(X_ready, y_int, crop_len=128, step=32)\n",
        "print(X_aug.shape, y_aug.shape)"
      ],
      "id": "9ca1dd7456cfa2ff",
      "outputs": [
        {
          "output_type": "stream",
          "name": "stdout",
          "text": [
            "(768, 128, 248) (768,)\n"
          ]
        }
      ],
      "execution_count": 69
    },
    {
      "cell_type": "code",
      "source": [
        "X_train, X_val, y_train, y_val = train_test_split(\n",
        "    X_aug, y_aug, test_size=0.2, stratify=y_aug, random_state=42\n",
        ")\n",
        "print(X_train.shape, X_val.shape)"
      ],
      "metadata": {
        "id": "KmRe5jf4ZsqL",
        "outputId": "151b030f-c0c5-4c76-f12c-bef180662df5",
        "colab": {
          "base_uri": "https://localhost:8080/"
        }
      },
      "id": "KmRe5jf4ZsqL",
      "execution_count": 70,
      "outputs": [
        {
          "output_type": "stream",
          "name": "stdout",
          "text": [
            "(614, 128, 248) (154, 128, 248)\n"
          ]
        }
      ]
    },
    {
      "cell_type": "code",
      "source": [
        "from tensorflow.keras.layers import Bidirectional\n",
        "\n",
        "model = Sequential([\n",
        "    Bidirectional(LSTM(32, return_sequences=True), input_shape=input_shape),\n",
        "    Dropout(0.5),\n",
        "    LSTM(16),\n",
        "    Dropout(0.5),\n",
        "    Dense(16, activation='relu'),\n",
        "    Dropout(0.5),\n",
        "    Dense(4, activation='softmax')\n",
        "])\n",
        "model.compile(optimizer='adam', loss='sparse_categorical_crossentropy', metrics=['accuracy'])\n",
        "model.summary()"
      ],
      "metadata": {
        "id": "SWsvfgEKeBu6",
        "outputId": "86f6142c-cfbe-4605-ed52-aa45fb0161cc",
        "colab": {
          "base_uri": "https://localhost:8080/",
          "height": 407
        }
      },
      "id": "SWsvfgEKeBu6",
      "execution_count": 71,
      "outputs": [
        {
          "output_type": "stream",
          "name": "stderr",
          "text": [
            "/usr/local/lib/python3.11/dist-packages/keras/src/layers/rnn/bidirectional.py:107: UserWarning: Do not pass an `input_shape`/`input_dim` argument to a layer. When using Sequential models, prefer using an `Input(shape)` object as the first layer in the model instead.\n",
            "  super().__init__(**kwargs)\n"
          ]
        },
        {
          "output_type": "display_data",
          "data": {
            "text/plain": [
              "\u001b[1mModel: \"sequential_9\"\u001b[0m\n"
            ],
            "text/html": [
              "<pre style=\"white-space:pre;overflow-x:auto;line-height:normal;font-family:Menlo,'DejaVu Sans Mono',consolas,'Courier New',monospace\"><span style=\"font-weight: bold\">Model: \"sequential_9\"</span>\n",
              "</pre>\n"
            ]
          },
          "metadata": {}
        },
        {
          "output_type": "display_data",
          "data": {
            "text/plain": [
              "┏━━━━━━━━━━━━━━━━━━━━━━━━━━━━━━━━━┳━━━━━━━━━━━━━━━━━━━━━━━━┳━━━━━━━━━━━━━━━┓\n",
              "┃\u001b[1m \u001b[0m\u001b[1mLayer (type)                   \u001b[0m\u001b[1m \u001b[0m┃\u001b[1m \u001b[0m\u001b[1mOutput Shape          \u001b[0m\u001b[1m \u001b[0m┃\u001b[1m \u001b[0m\u001b[1m      Param #\u001b[0m\u001b[1m \u001b[0m┃\n",
              "┡━━━━━━━━━━━━━━━━━━━━━━━━━━━━━━━━━╇━━━━━━━━━━━━━━━━━━━━━━━━╇━━━━━━━━━━━━━━━┩\n",
              "│ bidirectional_1 (\u001b[38;5;33mBidirectional\u001b[0m) │ (\u001b[38;5;45mNone\u001b[0m, \u001b[38;5;34m128\u001b[0m, \u001b[38;5;34m64\u001b[0m)        │        \u001b[38;5;34m71,936\u001b[0m │\n",
              "├─────────────────────────────────┼────────────────────────┼───────────────┤\n",
              "│ dropout_13 (\u001b[38;5;33mDropout\u001b[0m)            │ (\u001b[38;5;45mNone\u001b[0m, \u001b[38;5;34m128\u001b[0m, \u001b[38;5;34m64\u001b[0m)        │             \u001b[38;5;34m0\u001b[0m │\n",
              "├─────────────────────────────────┼────────────────────────┼───────────────┤\n",
              "│ lstm_5 (\u001b[38;5;33mLSTM\u001b[0m)                   │ (\u001b[38;5;45mNone\u001b[0m, \u001b[38;5;34m16\u001b[0m)             │         \u001b[38;5;34m5,184\u001b[0m │\n",
              "├─────────────────────────────────┼────────────────────────┼───────────────┤\n",
              "│ dropout_14 (\u001b[38;5;33mDropout\u001b[0m)            │ (\u001b[38;5;45mNone\u001b[0m, \u001b[38;5;34m16\u001b[0m)             │             \u001b[38;5;34m0\u001b[0m │\n",
              "├─────────────────────────────────┼────────────────────────┼───────────────┤\n",
              "│ dense_18 (\u001b[38;5;33mDense\u001b[0m)                │ (\u001b[38;5;45mNone\u001b[0m, \u001b[38;5;34m16\u001b[0m)             │           \u001b[38;5;34m272\u001b[0m │\n",
              "├─────────────────────────────────┼────────────────────────┼───────────────┤\n",
              "│ dropout_15 (\u001b[38;5;33mDropout\u001b[0m)            │ (\u001b[38;5;45mNone\u001b[0m, \u001b[38;5;34m16\u001b[0m)             │             \u001b[38;5;34m0\u001b[0m │\n",
              "├─────────────────────────────────┼────────────────────────┼───────────────┤\n",
              "│ dense_19 (\u001b[38;5;33mDense\u001b[0m)                │ (\u001b[38;5;45mNone\u001b[0m, \u001b[38;5;34m4\u001b[0m)              │            \u001b[38;5;34m68\u001b[0m │\n",
              "└─────────────────────────────────┴────────────────────────┴───────────────┘\n"
            ],
            "text/html": [
              "<pre style=\"white-space:pre;overflow-x:auto;line-height:normal;font-family:Menlo,'DejaVu Sans Mono',consolas,'Courier New',monospace\">┏━━━━━━━━━━━━━━━━━━━━━━━━━━━━━━━━━┳━━━━━━━━━━━━━━━━━━━━━━━━┳━━━━━━━━━━━━━━━┓\n",
              "┃<span style=\"font-weight: bold\"> Layer (type)                    </span>┃<span style=\"font-weight: bold\"> Output Shape           </span>┃<span style=\"font-weight: bold\">       Param # </span>┃\n",
              "┡━━━━━━━━━━━━━━━━━━━━━━━━━━━━━━━━━╇━━━━━━━━━━━━━━━━━━━━━━━━╇━━━━━━━━━━━━━━━┩\n",
              "│ bidirectional_1 (<span style=\"color: #0087ff; text-decoration-color: #0087ff\">Bidirectional</span>) │ (<span style=\"color: #00d7ff; text-decoration-color: #00d7ff\">None</span>, <span style=\"color: #00af00; text-decoration-color: #00af00\">128</span>, <span style=\"color: #00af00; text-decoration-color: #00af00\">64</span>)        │        <span style=\"color: #00af00; text-decoration-color: #00af00\">71,936</span> │\n",
              "├─────────────────────────────────┼────────────────────────┼───────────────┤\n",
              "│ dropout_13 (<span style=\"color: #0087ff; text-decoration-color: #0087ff\">Dropout</span>)            │ (<span style=\"color: #00d7ff; text-decoration-color: #00d7ff\">None</span>, <span style=\"color: #00af00; text-decoration-color: #00af00\">128</span>, <span style=\"color: #00af00; text-decoration-color: #00af00\">64</span>)        │             <span style=\"color: #00af00; text-decoration-color: #00af00\">0</span> │\n",
              "├─────────────────────────────────┼────────────────────────┼───────────────┤\n",
              "│ lstm_5 (<span style=\"color: #0087ff; text-decoration-color: #0087ff\">LSTM</span>)                   │ (<span style=\"color: #00d7ff; text-decoration-color: #00d7ff\">None</span>, <span style=\"color: #00af00; text-decoration-color: #00af00\">16</span>)             │         <span style=\"color: #00af00; text-decoration-color: #00af00\">5,184</span> │\n",
              "├─────────────────────────────────┼────────────────────────┼───────────────┤\n",
              "│ dropout_14 (<span style=\"color: #0087ff; text-decoration-color: #0087ff\">Dropout</span>)            │ (<span style=\"color: #00d7ff; text-decoration-color: #00d7ff\">None</span>, <span style=\"color: #00af00; text-decoration-color: #00af00\">16</span>)             │             <span style=\"color: #00af00; text-decoration-color: #00af00\">0</span> │\n",
              "├─────────────────────────────────┼────────────────────────┼───────────────┤\n",
              "│ dense_18 (<span style=\"color: #0087ff; text-decoration-color: #0087ff\">Dense</span>)                │ (<span style=\"color: #00d7ff; text-decoration-color: #00d7ff\">None</span>, <span style=\"color: #00af00; text-decoration-color: #00af00\">16</span>)             │           <span style=\"color: #00af00; text-decoration-color: #00af00\">272</span> │\n",
              "├─────────────────────────────────┼────────────────────────┼───────────────┤\n",
              "│ dropout_15 (<span style=\"color: #0087ff; text-decoration-color: #0087ff\">Dropout</span>)            │ (<span style=\"color: #00d7ff; text-decoration-color: #00d7ff\">None</span>, <span style=\"color: #00af00; text-decoration-color: #00af00\">16</span>)             │             <span style=\"color: #00af00; text-decoration-color: #00af00\">0</span> │\n",
              "├─────────────────────────────────┼────────────────────────┼───────────────┤\n",
              "│ dense_19 (<span style=\"color: #0087ff; text-decoration-color: #0087ff\">Dense</span>)                │ (<span style=\"color: #00d7ff; text-decoration-color: #00d7ff\">None</span>, <span style=\"color: #00af00; text-decoration-color: #00af00\">4</span>)              │            <span style=\"color: #00af00; text-decoration-color: #00af00\">68</span> │\n",
              "└─────────────────────────────────┴────────────────────────┴───────────────┘\n",
              "</pre>\n"
            ]
          },
          "metadata": {}
        },
        {
          "output_type": "display_data",
          "data": {
            "text/plain": [
              "\u001b[1m Total params: \u001b[0m\u001b[38;5;34m77,460\u001b[0m (302.58 KB)\n"
            ],
            "text/html": [
              "<pre style=\"white-space:pre;overflow-x:auto;line-height:normal;font-family:Menlo,'DejaVu Sans Mono',consolas,'Courier New',monospace\"><span style=\"font-weight: bold\"> Total params: </span><span style=\"color: #00af00; text-decoration-color: #00af00\">77,460</span> (302.58 KB)\n",
              "</pre>\n"
            ]
          },
          "metadata": {}
        },
        {
          "output_type": "display_data",
          "data": {
            "text/plain": [
              "\u001b[1m Trainable params: \u001b[0m\u001b[38;5;34m77,460\u001b[0m (302.58 KB)\n"
            ],
            "text/html": [
              "<pre style=\"white-space:pre;overflow-x:auto;line-height:normal;font-family:Menlo,'DejaVu Sans Mono',consolas,'Courier New',monospace\"><span style=\"font-weight: bold\"> Trainable params: </span><span style=\"color: #00af00; text-decoration-color: #00af00\">77,460</span> (302.58 KB)\n",
              "</pre>\n"
            ]
          },
          "metadata": {}
        },
        {
          "output_type": "display_data",
          "data": {
            "text/plain": [
              "\u001b[1m Non-trainable params: \u001b[0m\u001b[38;5;34m0\u001b[0m (0.00 B)\n"
            ],
            "text/html": [
              "<pre style=\"white-space:pre;overflow-x:auto;line-height:normal;font-family:Menlo,'DejaVu Sans Mono',consolas,'Courier New',monospace\"><span style=\"font-weight: bold\"> Non-trainable params: </span><span style=\"color: #00af00; text-decoration-color: #00af00\">0</span> (0.00 B)\n",
              "</pre>\n"
            ]
          },
          "metadata": {}
        }
      ]
    },
    {
      "cell_type": "code",
      "source": [
        "history = model.fit(\n",
        "    X_train, y_train,\n",
        "    validation_data=(X_val, y_val),\n",
        "    epochs=30,\n",
        "    batch_size=32\n",
        ")"
      ],
      "metadata": {
        "id": "09XTuCyMeQHd",
        "outputId": "f840913e-d263-49d5-b297-4936f8c61e50",
        "colab": {
          "base_uri": "https://localhost:8080/"
        }
      },
      "id": "09XTuCyMeQHd",
      "execution_count": 72,
      "outputs": [
        {
          "output_type": "stream",
          "name": "stdout",
          "text": [
            "Epoch 1/30\n",
            "\u001b[1m20/20\u001b[0m \u001b[32m━━━━━━━━━━━━━━━━━━━━\u001b[0m\u001b[37m\u001b[0m \u001b[1m7s\u001b[0m 133ms/step - accuracy: 0.2649 - loss: 1.3862 - val_accuracy: 0.2468 - val_loss: 1.3865\n",
            "Epoch 2/30\n",
            "\u001b[1m20/20\u001b[0m \u001b[32m━━━━━━━━━━━━━━━━━━━━\u001b[0m\u001b[37m\u001b[0m \u001b[1m2s\u001b[0m 97ms/step - accuracy: 0.2764 - loss: 1.3844 - val_accuracy: 0.2468 - val_loss: 1.3863\n",
            "Epoch 3/30\n",
            "\u001b[1m20/20\u001b[0m \u001b[32m━━━━━━━━━━━━━━━━━━━━\u001b[0m\u001b[37m\u001b[0m \u001b[1m2s\u001b[0m 102ms/step - accuracy: 0.2518 - loss: 1.3868 - val_accuracy: 0.2532 - val_loss: 1.3862\n",
            "Epoch 4/30\n",
            "\u001b[1m20/20\u001b[0m \u001b[32m━━━━━━━━━━━━━━━━━━━━\u001b[0m\u001b[37m\u001b[0m \u001b[1m2s\u001b[0m 99ms/step - accuracy: 0.2465 - loss: 1.3856 - val_accuracy: 0.2468 - val_loss: 1.3863\n",
            "Epoch 5/30\n",
            "\u001b[1m20/20\u001b[0m \u001b[32m━━━━━━━━━━━━━━━━━━━━\u001b[0m\u001b[37m\u001b[0m \u001b[1m2s\u001b[0m 107ms/step - accuracy: 0.2439 - loss: 1.3879 - val_accuracy: 0.2532 - val_loss: 1.3863\n",
            "Epoch 6/30\n",
            "\u001b[1m20/20\u001b[0m \u001b[32m━━━━━━━━━━━━━━━━━━━━\u001b[0m\u001b[37m\u001b[0m \u001b[1m2s\u001b[0m 105ms/step - accuracy: 0.2743 - loss: 1.3851 - val_accuracy: 0.2532 - val_loss: 1.3862\n",
            "Epoch 7/30\n",
            "\u001b[1m20/20\u001b[0m \u001b[32m━━━━━━━━━━━━━━━━━━━━\u001b[0m\u001b[37m\u001b[0m \u001b[1m2s\u001b[0m 97ms/step - accuracy: 0.2333 - loss: 1.3878 - val_accuracy: 0.2468 - val_loss: 1.3863\n",
            "Epoch 8/30\n",
            "\u001b[1m20/20\u001b[0m \u001b[32m━━━━━━━━━━━━━━━━━━━━\u001b[0m\u001b[37m\u001b[0m \u001b[1m2s\u001b[0m 104ms/step - accuracy: 0.2360 - loss: 1.3867 - val_accuracy: 0.2468 - val_loss: 1.3863\n",
            "Epoch 9/30\n",
            "\u001b[1m20/20\u001b[0m \u001b[32m━━━━━━━━━━━━━━━━━━━━\u001b[0m\u001b[37m\u001b[0m \u001b[1m2s\u001b[0m 116ms/step - accuracy: 0.2438 - loss: 1.3862 - val_accuracy: 0.2468 - val_loss: 1.3863\n",
            "Epoch 10/30\n",
            "\u001b[1m20/20\u001b[0m \u001b[32m━━━━━━━━━━━━━━━━━━━━\u001b[0m\u001b[37m\u001b[0m \u001b[1m2s\u001b[0m 98ms/step - accuracy: 0.2184 - loss: 1.3876 - val_accuracy: 0.2532 - val_loss: 1.3863\n",
            "Epoch 11/30\n",
            "\u001b[1m20/20\u001b[0m \u001b[32m━━━━━━━━━━━━━━━━━━━━\u001b[0m\u001b[37m\u001b[0m \u001b[1m2s\u001b[0m 97ms/step - accuracy: 0.2705 - loss: 1.3861 - val_accuracy: 0.2662 - val_loss: 1.3863\n",
            "Epoch 12/30\n",
            "\u001b[1m20/20\u001b[0m \u001b[32m━━━━━━━━━━━━━━━━━━━━\u001b[0m\u001b[37m\u001b[0m \u001b[1m2s\u001b[0m 96ms/step - accuracy: 0.2248 - loss: 1.3868 - val_accuracy: 0.2532 - val_loss: 1.3863\n",
            "Epoch 13/30\n",
            "\u001b[1m20/20\u001b[0m \u001b[32m━━━━━━━━━━━━━━━━━━━━\u001b[0m\u001b[37m\u001b[0m \u001b[1m2s\u001b[0m 95ms/step - accuracy: 0.2417 - loss: 1.3868 - val_accuracy: 0.2532 - val_loss: 1.3863\n",
            "Epoch 14/30\n",
            "\u001b[1m20/20\u001b[0m \u001b[32m━━━━━━━━━━━━━━━━━━━━\u001b[0m\u001b[37m\u001b[0m \u001b[1m2s\u001b[0m 98ms/step - accuracy: 0.2310 - loss: 1.3870 - val_accuracy: 0.2532 - val_loss: 1.3863\n",
            "Epoch 15/30\n",
            "\u001b[1m20/20\u001b[0m \u001b[32m━━━━━━━━━━━━━━━━━━━━\u001b[0m\u001b[37m\u001b[0m \u001b[1m2s\u001b[0m 101ms/step - accuracy: 0.2853 - loss: 1.3852 - val_accuracy: 0.2468 - val_loss: 1.3863\n",
            "Epoch 16/30\n",
            "\u001b[1m20/20\u001b[0m \u001b[32m━━━━━━━━━━━━━━━━━━━━\u001b[0m\u001b[37m\u001b[0m \u001b[1m2s\u001b[0m 103ms/step - accuracy: 0.2499 - loss: 1.3868 - val_accuracy: 0.2468 - val_loss: 1.3863\n",
            "Epoch 17/30\n",
            "\u001b[1m20/20\u001b[0m \u001b[32m━━━━━━━━━━━━━━━━━━━━\u001b[0m\u001b[37m\u001b[0m \u001b[1m2s\u001b[0m 97ms/step - accuracy: 0.2678 - loss: 1.3868 - val_accuracy: 0.2468 - val_loss: 1.3863\n",
            "Epoch 18/30\n",
            "\u001b[1m20/20\u001b[0m \u001b[32m━━━━━━━━━━━━━━━━━━━━\u001b[0m\u001b[37m\u001b[0m \u001b[1m2s\u001b[0m 99ms/step - accuracy: 0.2325 - loss: 1.3876 - val_accuracy: 0.2468 - val_loss: 1.3863\n",
            "Epoch 19/30\n",
            "\u001b[1m20/20\u001b[0m \u001b[32m━━━━━━━━━━━━━━━━━━━━\u001b[0m\u001b[37m\u001b[0m \u001b[1m2s\u001b[0m 98ms/step - accuracy: 0.2605 - loss: 1.3858 - val_accuracy: 0.2468 - val_loss: 1.3863\n",
            "Epoch 20/30\n",
            "\u001b[1m20/20\u001b[0m \u001b[32m━━━━━━━━━━━━━━━━━━━━\u001b[0m\u001b[37m\u001b[0m \u001b[1m2s\u001b[0m 97ms/step - accuracy: 0.2425 - loss: 1.3853 - val_accuracy: 0.2468 - val_loss: 1.3863\n",
            "Epoch 21/30\n",
            "\u001b[1m20/20\u001b[0m \u001b[32m━━━━━━━━━━━━━━━━━━━━\u001b[0m\u001b[37m\u001b[0m \u001b[1m2s\u001b[0m 100ms/step - accuracy: 0.2553 - loss: 1.3876 - val_accuracy: 0.2468 - val_loss: 1.3863\n",
            "Epoch 22/30\n",
            "\u001b[1m20/20\u001b[0m \u001b[32m━━━━━━━━━━━━━━━━━━━━\u001b[0m\u001b[37m\u001b[0m \u001b[1m2s\u001b[0m 99ms/step - accuracy: 0.2518 - loss: 1.3856 - val_accuracy: 0.2468 - val_loss: 1.3863\n",
            "Epoch 23/30\n",
            "\u001b[1m20/20\u001b[0m \u001b[32m━━━━━━━━━━━━━━━━━━━━\u001b[0m\u001b[37m\u001b[0m \u001b[1m2s\u001b[0m 93ms/step - accuracy: 0.2791 - loss: 1.3849 - val_accuracy: 0.2468 - val_loss: 1.3864\n",
            "Epoch 24/30\n",
            "\u001b[1m20/20\u001b[0m \u001b[32m━━━━━━━━━━━━━━━━━━━━\u001b[0m\u001b[37m\u001b[0m \u001b[1m2s\u001b[0m 95ms/step - accuracy: 0.2558 - loss: 1.3849 - val_accuracy: 0.2532 - val_loss: 1.3863\n",
            "Epoch 25/30\n",
            "\u001b[1m20/20\u001b[0m \u001b[32m━━━━━━━━━━━━━━━━━━━━\u001b[0m\u001b[37m\u001b[0m \u001b[1m2s\u001b[0m 99ms/step - accuracy: 0.2303 - loss: 1.3898 - val_accuracy: 0.2468 - val_loss: 1.3863\n",
            "Epoch 26/30\n",
            "\u001b[1m20/20\u001b[0m \u001b[32m━━━━━━━━━━━━━━━━━━━━\u001b[0m\u001b[37m\u001b[0m \u001b[1m2s\u001b[0m 98ms/step - accuracy: 0.2690 - loss: 1.3863 - val_accuracy: 0.2468 - val_loss: 1.3864\n",
            "Epoch 27/30\n",
            "\u001b[1m20/20\u001b[0m \u001b[32m━━━━━━━━━━━━━━━━━━━━\u001b[0m\u001b[37m\u001b[0m \u001b[1m2s\u001b[0m 99ms/step - accuracy: 0.2499 - loss: 1.3875 - val_accuracy: 0.2532 - val_loss: 1.3863\n",
            "Epoch 28/30\n",
            "\u001b[1m20/20\u001b[0m \u001b[32m━━━━━━━━━━━━━━━━━━━━\u001b[0m\u001b[37m\u001b[0m \u001b[1m2s\u001b[0m 101ms/step - accuracy: 0.2605 - loss: 1.3857 - val_accuracy: 0.2468 - val_loss: 1.3864\n",
            "Epoch 29/30\n",
            "\u001b[1m20/20\u001b[0m \u001b[32m━━━━━━━━━━━━━━━━━━━━\u001b[0m\u001b[37m\u001b[0m \u001b[1m2s\u001b[0m 98ms/step - accuracy: 0.2467 - loss: 1.3859 - val_accuracy: 0.2468 - val_loss: 1.3864\n",
            "Epoch 30/30\n",
            "\u001b[1m20/20\u001b[0m \u001b[32m━━━━━━━━━━━━━━━━━━━━\u001b[0m\u001b[37m\u001b[0m \u001b[1m2s\u001b[0m 97ms/step - accuracy: 0.3077 - loss: 1.3856 - val_accuracy: 0.2468 - val_loss: 1.3863\n"
          ]
        }
      ]
    }
  ],
  "metadata": {
    "kernelspec": {
      "display_name": "Python 3",
      "name": "python3"
    },
    "language_info": {
      "codemirror_mode": {
        "name": "ipython",
        "version": 2
      },
      "file_extension": ".py",
      "mimetype": "text/x-python",
      "name": "python",
      "nbconvert_exporter": "python",
      "pygments_lexer": "ipython2",
      "version": "2.7.6"
    },
    "colab": {
      "provenance": [],
      "gpuType": "V28"
    },
    "accelerator": "TPU"
  },
  "nbformat": 4,
  "nbformat_minor": 5
}