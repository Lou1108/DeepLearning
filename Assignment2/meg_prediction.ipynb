{
 "cells": [
  {
   "cell_type": "code",
   "execution_count": 2,
   "metadata": {
    "collapsed": true
   },
   "outputs": [
    {
     "name": "stdout",
     "output_type": "stream",
     "text": [
      "<class 'numpy.ndarray'>\n",
      "(248, 35624)\n"
     ]
    }
   ],
   "source": [
    "# code snippet from assignment\n",
    "import h5py\n",
    "\n",
    "def get_dataset_name(filename_with_dir):\n",
    "    filename_without_dir = filename_with_dir.split( '/')[-1]\n",
    "    temp = filename_without_dir.split ('_')[:-1]\n",
    "    dataset_name = \"_\". join(temp)\n",
    "    return dataset_name\n",
    "\n",
    "filename_path=\"Final Project data/Intra/train/rest_105923_1.h5\"\n",
    "with h5py.File(filename_path , 'r') as f :\n",
    "    dataset_name = get_dataset_name(filename_path)\n",
    "    matrix = f.get(dataset_name)[()]\n",
    "    print(type(matrix))\n",
    "    print(matrix.shape)\n",
    "\n"
   ]
  },
  {
   "cell_type": "markdown",
   "source": [
    "# Preprocess Data\n",
    "Apply a lowpass filter for downsampling the frequency"
   ],
   "metadata": {
    "collapsed": false
   }
  },
  {
   "cell_type": "code",
   "execution_count": null,
   "outputs": [],
   "source": [
    "from scipy.signal import butter, filtfilt, decimate"
   ],
   "metadata": {
    "collapsed": false
   }
  },
  {
   "cell_type": "code",
   "execution_count": 5,
   "outputs": [],
   "source": [
    "\n",
    "def bandpass_filter(data, lowcut, highcut, fs, order=5):\n",
    "    nyq = 0.5 * fs\n",
    "    low = lowcut / nyq\n",
    "    high = highcut / nyq\n",
    "    b, a = butter(order, [low, high], btype='band')\n",
    "    return filtfilt(b, a, data, axis=-1)\n",
    "\n",
    "\n",
    "def downsample(data, orig_fs, target_fs):\n",
    "    factor = int(orig_fs / target_fs)\n",
    "    return decimate(data, factor, axis=-1, ftype='fir', zero_phase=True)\n"
   ],
   "metadata": {
    "collapsed": false
   }
  },
  {
   "cell_type": "code",
   "execution_count": 6,
   "outputs": [],
   "source": [
    "def preprocess_meg_data(X, orig_fs=2034, target_fs=250):\n",
    "    X_filtered = bandpass_filter(X, lowcut=1.0, highcut=150.0, fs=orig_fs)\n",
    "    X_downsampled = downsample(X_filtered, orig_fs, target_fs)\n",
    "    return X_downsampled"
   ],
   "metadata": {
    "collapsed": false
   }
  },
  {
   "cell_type": "code",
   "execution_count": 7,
   "outputs": [
    {
     "data": {
      "text/plain": "array([[ 2.18956707e+18,  4.20197016e+18,  3.66164512e+18, ...,\n         2.11973300e+02,  1.78498186e+02,  1.65716907e+02],\n       [-8.17380985e+16, -1.56838055e+17, -1.36637716e+17, ...,\n        -7.00141468e+00, -5.88507364e+00, -5.45171620e+00],\n       [-1.84122552e+18, -3.53196557e+18, -3.07566408e+18, ...,\n        -1.66047151e+02, -1.39640859e+02, -1.29429832e+02],\n       ...,\n       [-4.52889542e+17, -8.69036074e+17, -7.57149611e+17, ...,\n        -5.05190159e+01, -4.24915263e+01, -3.93910196e+01],\n       [ 1.35075372e+18,  2.59238252e+18,  2.25927456e+18, ...,\n         1.46016156e+02,  1.22839621e+02,  1.13917608e+02],\n       [ 1.17346380e+18,  2.25269979e+18,  1.96403854e+18, ...,\n         2.52284808e+02,  2.12341972e+02,  1.97019263e+02]])"
     },
     "execution_count": 7,
     "metadata": {},
     "output_type": "execute_result"
    }
   ],
   "source": [
    "preprocess_meg_data(matrix)"
   ],
   "metadata": {
    "collapsed": false
   }
  },
  {
   "cell_type": "code",
   "execution_count": null,
   "outputs": [],
   "source": [],
   "metadata": {
    "collapsed": false
   }
  }
 ],
 "metadata": {
  "kernelspec": {
   "display_name": "Python 3",
   "language": "python",
   "name": "python3"
  },
  "language_info": {
   "codemirror_mode": {
    "name": "ipython",
    "version": 2
   },
   "file_extension": ".py",
   "mimetype": "text/x-python",
   "name": "python",
   "nbconvert_exporter": "python",
   "pygments_lexer": "ipython2",
   "version": "2.7.6"
  }
 },
 "nbformat": 4,
 "nbformat_minor": 0
}
