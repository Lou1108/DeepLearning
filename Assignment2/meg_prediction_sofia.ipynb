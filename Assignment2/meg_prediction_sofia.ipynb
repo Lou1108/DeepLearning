{
  "cells": [
    {
      "cell_type": "markdown",
      "metadata": {
        "id": "view-in-github",
        "colab_type": "text"
      },
      "source": [
        "<a href=\"https://colab.research.google.com/github/Lou1108/DeepLearning/blob/main/Assignment2/meg_prediction_sofia.ipynb\" target=\"_parent\"><img src=\"https://colab.research.google.com/assets/colab-badge.svg\" alt=\"Open In Colab\"/></a>"
      ]
    },
    {
      "cell_type": "code",
      "source": [
        "from google.colab import drive\n",
        "drive.mount('/content/drive')"
      ],
      "metadata": {
        "id": "dcA3Y7868uwe",
        "outputId": "35994c8c-32f3-4830-e51a-f1b302f9676e",
        "colab": {
          "base_uri": "https://localhost:8080/"
        }
      },
      "execution_count": 3,
      "outputs": [
        {
          "output_type": "stream",
          "name": "stdout",
          "text": [
            "Drive already mounted at /content/drive; to attempt to forcibly remount, call drive.mount(\"/content/drive\", force_remount=True).\n"
          ]
        }
      ]
    },
    {
      "cell_type": "markdown",
      "source": [
        "\n",
        "What we need to do\n",
        "*   do the pre processing seperately and save the data\n",
        "*   check and try different models to see if there's one working better with the data\n",
        "* grid search on the number of the neurons in the layers\n",
        "\n"
      ],
      "metadata": {
        "id": "CC3Gi1ynLdkJ"
      }
    },
    {
      "cell_type": "markdown",
      "source": [
        "### Assignment 2"
      ],
      "metadata": {
        "collapsed": false,
        "id": "L8ezBb7w8mlu"
      }
    },
    {
      "cell_type": "markdown",
      "source": [
        "# Imports and Variables\n"
      ],
      "metadata": {
        "collapsed": false,
        "id": "OiBo88t48mlw"
      }
    },
    {
      "cell_type": "code",
      "execution_count": 78,
      "outputs": [],
      "source": [
        "import os\n",
        "import glob\n",
        "import h5py\n",
        "import numpy as np\n",
        "from collections import Counter\n",
        "\n",
        "from sklearn.preprocessing import LabelEncoder, StandardScaler, MinMaxScaler\n",
        "from sklearn.model_selection import train_test_split\n",
        "from scipy.signal import butter, filtfilt, decimate\n",
        "\n",
        "import tensorflow as tf\n",
        "from tensorflow.keras import layers, models\n",
        "from tensorflow.keras.utils import to_categorical\n",
        "from tensorflow.keras.callbacks import EarlyStopping\n",
        "from tensorflow.keras.models import Sequential, Model\n",
        "from tensorflow.keras.layers import (\n",
        "    Input,\n",
        "    Conv1D,\n",
        "    Conv2D,\n",
        "    DepthwiseConv2D,\n",
        "    SeparableConv2D,\n",
        "    MaxPooling1D,\n",
        "    AveragePooling2D,\n",
        "    LSTM,\n",
        "    Flatten,\n",
        "    Dense,\n",
        "    Dropout,\n",
        "    BatchNormalization,\n",
        "    Activation,\n",
        ")\n"
      ],
      "metadata": {
        "id": "xjEzx_dU8mlx"
      }
    },
    {
      "cell_type": "code",
      "execution_count": 87,
      "outputs": [],
      "source": [
        "TRAIN_PATH = \"/content/drive/MyDrive/Deep Learning/Final Project data/Intra/train\"\n",
        "TEST_PATH = \"/content/drive/MyDrive/Deep Learning/Final Project data/Intra/test\"\n",
        "\n",
        "\n",
        "# data specific\n",
        "NUM_CHANNELS = 248\n",
        "NUM_CLASSES = 4\n",
        "LABEL_MAP = {'rest':0, 'task_motor':1, 'task_story_math':2, 'task_working_memory':3}\n",
        "NUM_CLASSES = len(LABEL_MAP)\n",
        "orig_fs=2034\n",
        "target_fs=250\n",
        "DOWNSAMPLE_FACTOR =  int(orig_fs / target_fs)\n",
        "\n",
        "# Model specific\n",
        "NUM_EPOCHS = 1\n",
        "NORMALIZATION_METHOD = \"minmax\"  # Choose: \"minmax\", \"zscore\", or \"perchannel\""
      ],
      "metadata": {
        "id": "eQAfSBIk8mly"
      }
    },
    {
      "cell_type": "code",
      "source": [
        "def load_data(file_paths):\n",
        "    data = []\n",
        "    labels = []\n",
        "    for file_path in file_paths:\n",
        "        # Extractin the label\n",
        "        filename = file_path.split('/')[-1]\n",
        "\n",
        "        #handling the different task naming conventions\n",
        "        if 'rest' in filename:\n",
        "            labels.append(LABEL_MAP['rest'])\n",
        "        elif 'motor' in filename:\n",
        "            labels.append(LABEL_MAP['task_motor'])\n",
        "        elif 'story' in filename or 'math' in filename:\n",
        "             labels.append(LABEL_MAP['task_story_math'])\n",
        "        elif 'working' in filename or 'memory' in filename:\n",
        "            labels.append(LABEL_MAP['task_working_memory'])\n",
        "        else:\n",
        "            # iff a file doesn't match\n",
        "            print(f\"Could not determine task for file: {filename}\")\n",
        "            continue\n",
        "\n",
        "        with h5py.File(file_path, 'r') as f:\n",
        "            # Instead of guessing the dataset name, we get the first key from the file\n",
        "            # This is robust because we know there is only one dataset per file[cite: 10].\n",
        "            dataset_name = list(f.keys())[0]\n",
        "            matrix = f[dataset_name][()]\n",
        "            data.append(matrix)\n",
        "\n",
        "    #convert to numpy arrays\n",
        "    return np.array(data), np.array(labels)"
      ],
      "metadata": {
        "id": "-2dLNIm-R4e_"
      },
      "execution_count": 64,
      "outputs": []
    },
    {
      "cell_type": "code",
      "source": [
        "train_files = glob.glob(f\"{TRAIN_PATH}/*.h5\")\n",
        "test_files = glob.glob(f\"{TEST_PATH}/*.h5\")\n",
        "\n",
        "X_train, y_train = load_data(train_files)\n",
        "X_test, y_test = load_data(test_files)\n",
        "\n",
        "print(f\"Shape of X_train: {X_train.shape}\")\n",
        "print(f\"Shape of y_train: {y_train.shape}\")\n",
        "print(f\"Shape of X_test: {X_test.shape}\")\n",
        "print(f\"Uniqe labels: {np.unique(y_train)}\")\n",
        "print(f\"Number of training samples: {len(X_train)}\")"
      ],
      "metadata": {
        "colab": {
          "base_uri": "https://localhost:8080/"
        },
        "id": "3hd1oikTR6bt",
        "outputId": "58e58e5e-ee59-4836-c7b5-ab4236baa99f"
      },
      "execution_count": 67,
      "outputs": [
        {
          "output_type": "stream",
          "name": "stdout",
          "text": [
            "Shape of X_train: (32, 248, 35624)\n",
            "Shape of y_train: (32,)\n",
            "Shape of X_test: (8, 248, 35624)\n",
            "Uniqe labels: [0 1 2 3]\n",
            "Number of training samples: 32\n"
          ]
        }
      ]
    },
    {
      "cell_type": "markdown",
      "source": [
        "# Load and Preprocess Data\n",
        "Apply a lowpass filter for downsampling the frequency"
      ],
      "metadata": {
        "collapsed": false,
        "id": "rMkRhjwP8mlz"
      }
    },
    {
      "cell_type": "code",
      "execution_count": 79,
      "outputs": [],
      "source": [
        "# lowpass filter ---> check it\n",
        "# def bandpass_filter(data, lowcut=1.0, highcut=150.0, fs=2034, order=5):\n",
        "#     nyq = 0.5 * fs\n",
        "#     low = lowcut / nyq\n",
        "#     high = highcut / nyq\n",
        "#     b, a = butter(order, [low, high], btype='band')\n",
        "#     return filtfilt(b, a, data, axis=-1)"
      ],
      "metadata": {
        "id": "LpkQDTbw8ml0"
      }
    },
    {
      "cell_type": "markdown",
      "source": [
        "Normalization functions"
      ],
      "metadata": {
        "id": "DAJEqi7fZ_Qn"
      }
    },
    {
      "cell_type": "code",
      "execution_count": 80,
      "outputs": [],
      "source": [
        "def min_max_scale_sample(data):\n",
        "    scaler = MinMaxScaler()\n",
        "    return scaler.fit_transform(data.reshape(-1, 1)).reshape(data.shape)\n",
        "\n",
        "def z_score_normalize(data):\n",
        "    mean = data.mean(axis=-1, keepdims=True)\n",
        "    std = data.std(axis=-1, keepdims=True)\n",
        "    return (data - mean) / (std + 1e-8)\n",
        "\n",
        "def time_norm(data):\n",
        "    n_samples, n_channels, n_timesteps = data.shape\n",
        "    reshaped_data = data.reshape(n_samples * n_channels, n_timesteps)\n",
        "\n",
        "    scaler = StandardScaler()\n",
        "    scaled_data = scaler.fit_transform(reshaped_data)\n",
        "\n",
        "    # Reshape back to the original shape\n",
        "    return scaled_data.reshape(n_samples, n_channels, n_timesteps)"
      ],
      "metadata": {
        "id": "Xz1hYGOl8ml0"
      }
    },
    {
      "cell_type": "code",
      "source": [
        "def normalization(data):\n",
        "    if NORMALIZATION_METHOD == \"minmax\":\n",
        "        data = min_max_scale_sample(data)\n",
        "    elif NORMALIZATION_METHOD == \"zscore\":\n",
        "        data = z_score_normalize(data)\n",
        "    elif NORMALIZATION_METHOD == \"time\":\n",
        "        data = time_norm(data)\n",
        "    return data"
      ],
      "metadata": {
        "id": "X5DRAbFpAtb1"
      },
      "execution_count": 82,
      "outputs": []
    },
    {
      "cell_type": "code",
      "source": [
        "N_TIMESTEPS = X_train.shape[2]\n",
        "X_train_ds=decimate(X_train, DOWNSAMPLE_FACTOR, axis=-1, ftype='fir', zero_phase=True)\n",
        "X_test_ds=decimate(X_test, DOWNSAMPLE_FACTOR, axis=-1, ftype='fir', zero_phase=True)\n",
        "N_TIMESTEPS_DS = X_train_ds.shape[2]\n",
        "\n",
        "print(f\"Original number of time steps: {N_TIMESTEPS}\")\n",
        "print(f\"Downsampled number of time steps: {N_TIMESTEPS_DS}\")"
      ],
      "metadata": {
        "colab": {
          "base_uri": "https://localhost:8080/"
        },
        "id": "vPq7J8NzW5Vx",
        "outputId": "e6cc0cae-9ce5-4899-c2f2-67cd0a17d6b5"
      },
      "execution_count": 83,
      "outputs": [
        {
          "output_type": "stream",
          "name": "stdout",
          "text": [
            "Original number of time steps: 35624\n",
            "Downsampled number of time steps: 4453\n"
          ]
        }
      ]
    },
    {
      "cell_type": "code",
      "source": [
        "X_train_norm = normalization(X_train_ds)\n",
        "X_test_norm = normalization(X_test_ds)"
      ],
      "metadata": {
        "colab": {
          "base_uri": "https://localhost:8080/"
        },
        "id": "48sf8LYnXWJ8",
        "outputId": "419f91b0-e2fc-4060-feb2-6a2e97191a05"
      },
      "execution_count": 84,
      "outputs": [
        {
          "output_type": "stream",
          "name": "stdout",
          "text": [
            "\n",
            "Normalizing data...\n"
          ]
        }
      ]
    },
    {
      "cell_type": "code",
      "source": [
        "#DL models in Keras often expect the channel dimension last\n",
        "#reshaping from (samples, channels, timesteps) to (samples, timesteps, channels)\n",
        "X_train_final = np.transpose(X_train_norm, (0, 2, 1))\n",
        "X_test_final = np.transpose(X_test_norm, (0, 2, 1))\n",
        "\n",
        "print(f\"Final shape of training data for the model: {X_train_final.shape}\")"
      ],
      "metadata": {
        "colab": {
          "base_uri": "https://localhost:8080/"
        },
        "id": "Xw3xOOCOZh5H",
        "outputId": "39028fa7-efd0-4bb6-90a3-2a6766bc4c9d"
      },
      "execution_count": 85,
      "outputs": [
        {
          "output_type": "stream",
          "name": "stdout",
          "text": [
            "Final shape of training data for the model: (32, 4453, 248)\n"
          ]
        }
      ]
    },
    {
      "cell_type": "markdown",
      "source": [
        "# Define Models"
      ],
      "metadata": {
        "collapsed": false,
        "id": "0-1A4UUp8ml0"
      }
    },
    {
      "cell_type": "markdown",
      "source": [
        "###CNN model"
      ],
      "metadata": {
        "id": "n3Pio1E9aOAV"
      }
    },
    {
      "cell_type": "code",
      "execution_count": 86,
      "outputs": [],
      "source": [
        "def build_cnn_model(input_shape, num_classes):\n",
        "    model = Sequential([\n",
        "        Input(shape=input_shape),\n",
        "\n",
        "        #1st convolutional block\n",
        "        Conv1D(filters=64, kernel_size=10, activation='relu', padding='same'),\n",
        "        BatchNormalization(),\n",
        "        MaxPooling1D(pool_size=4),\n",
        "\n",
        "        #2nd convolutional block\n",
        "        Conv1D(filters=128, kernel_size=10, activation='relu', padding='same'),\n",
        "        BatchNormalization(),\n",
        "        MaxPooling1D(pool_size=4),\n",
        "\n",
        "        # 3rd convolutional block\n",
        "        Conv1D(filters=256, kernel_size=10, activation='relu', padding='same'),\n",
        "        BatchNormalization(),\n",
        "        MaxPooling1D(pool_size=4),\n",
        "\n",
        "        # Flatten the features and feed to dense layers\n",
        "        Flatten(),\n",
        "\n",
        "        # dense layers for classification\n",
        "        Dense(128, activation='relu'),\n",
        "        Dropout(0.5),\n",
        "        Dense(num_classes, activation='softmax')\n",
        "    ])\n",
        "\n",
        "    return model"
      ],
      "metadata": {
        "id": "3HqP8fNR8ml3"
      }
    },
    {
      "cell_type": "code",
      "source": [
        "INPUT_SHAPE = (N_TIMESTEPS_DS, NUM_CHANNELS)\n",
        "\n",
        "cnn_model = build_cnn_model(INPUT_SHAPE, NUM_CLASSES)\n",
        "cnn_model.compile(\n",
        "    optimizer='adam',\n",
        "    loss='sparse_categorical_crossentropy', # Use sparse CE because our labels are integers\n",
        "    metrics=['accuracy']\n",
        ")\n",
        "cnn_model.summary()"
      ],
      "metadata": {
        "colab": {
          "base_uri": "https://localhost:8080/",
          "height": 593
        },
        "id": "su0puieRateP",
        "outputId": "4feb506a-0908-4156-f732-1ce1ac8820b4"
      },
      "execution_count": 89,
      "outputs": [
        {
          "output_type": "display_data",
          "data": {
            "text/plain": [
              "\u001b[1mModel: \"sequential\"\u001b[0m\n"
            ],
            "text/html": [
              "<pre style=\"white-space:pre;overflow-x:auto;line-height:normal;font-family:Menlo,'DejaVu Sans Mono',consolas,'Courier New',monospace\"><span style=\"font-weight: bold\">Model: \"sequential\"</span>\n",
              "</pre>\n"
            ]
          },
          "metadata": {}
        },
        {
          "output_type": "display_data",
          "data": {
            "text/plain": [
              "┏━━━━━━━━━━━━━━━━━━━━━━━━━━━━━━━━━┳━━━━━━━━━━━━━━━━━━━━━━━━┳━━━━━━━━━━━━━━━┓\n",
              "┃\u001b[1m \u001b[0m\u001b[1mLayer (type)                   \u001b[0m\u001b[1m \u001b[0m┃\u001b[1m \u001b[0m\u001b[1mOutput Shape          \u001b[0m\u001b[1m \u001b[0m┃\u001b[1m \u001b[0m\u001b[1m      Param #\u001b[0m\u001b[1m \u001b[0m┃\n",
              "┡━━━━━━━━━━━━━━━━━━━━━━━━━━━━━━━━━╇━━━━━━━━━━━━━━━━━━━━━━━━╇━━━━━━━━━━━━━━━┩\n",
              "│ conv1d (\u001b[38;5;33mConv1D\u001b[0m)                 │ (\u001b[38;5;45mNone\u001b[0m, \u001b[38;5;34m4453\u001b[0m, \u001b[38;5;34m64\u001b[0m)       │       \u001b[38;5;34m158,784\u001b[0m │\n",
              "├─────────────────────────────────┼────────────────────────┼───────────────┤\n",
              "│ batch_normalization             │ (\u001b[38;5;45mNone\u001b[0m, \u001b[38;5;34m4453\u001b[0m, \u001b[38;5;34m64\u001b[0m)       │           \u001b[38;5;34m256\u001b[0m │\n",
              "│ (\u001b[38;5;33mBatchNormalization\u001b[0m)            │                        │               │\n",
              "├─────────────────────────────────┼────────────────────────┼───────────────┤\n",
              "│ max_pooling1d (\u001b[38;5;33mMaxPooling1D\u001b[0m)    │ (\u001b[38;5;45mNone\u001b[0m, \u001b[38;5;34m1113\u001b[0m, \u001b[38;5;34m64\u001b[0m)       │             \u001b[38;5;34m0\u001b[0m │\n",
              "├─────────────────────────────────┼────────────────────────┼───────────────┤\n",
              "│ conv1d_1 (\u001b[38;5;33mConv1D\u001b[0m)               │ (\u001b[38;5;45mNone\u001b[0m, \u001b[38;5;34m1113\u001b[0m, \u001b[38;5;34m128\u001b[0m)      │        \u001b[38;5;34m82,048\u001b[0m │\n",
              "├─────────────────────────────────┼────────────────────────┼───────────────┤\n",
              "│ batch_normalization_1           │ (\u001b[38;5;45mNone\u001b[0m, \u001b[38;5;34m1113\u001b[0m, \u001b[38;5;34m128\u001b[0m)      │           \u001b[38;5;34m512\u001b[0m │\n",
              "│ (\u001b[38;5;33mBatchNormalization\u001b[0m)            │                        │               │\n",
              "├─────────────────────────────────┼────────────────────────┼───────────────┤\n",
              "│ max_pooling1d_1 (\u001b[38;5;33mMaxPooling1D\u001b[0m)  │ (\u001b[38;5;45mNone\u001b[0m, \u001b[38;5;34m278\u001b[0m, \u001b[38;5;34m128\u001b[0m)       │             \u001b[38;5;34m0\u001b[0m │\n",
              "├─────────────────────────────────┼────────────────────────┼───────────────┤\n",
              "│ conv1d_2 (\u001b[38;5;33mConv1D\u001b[0m)               │ (\u001b[38;5;45mNone\u001b[0m, \u001b[38;5;34m278\u001b[0m, \u001b[38;5;34m256\u001b[0m)       │       \u001b[38;5;34m327,936\u001b[0m │\n",
              "├─────────────────────────────────┼────────────────────────┼───────────────┤\n",
              "│ batch_normalization_2           │ (\u001b[38;5;45mNone\u001b[0m, \u001b[38;5;34m278\u001b[0m, \u001b[38;5;34m256\u001b[0m)       │         \u001b[38;5;34m1,024\u001b[0m │\n",
              "│ (\u001b[38;5;33mBatchNormalization\u001b[0m)            │                        │               │\n",
              "├─────────────────────────────────┼────────────────────────┼───────────────┤\n",
              "│ max_pooling1d_2 (\u001b[38;5;33mMaxPooling1D\u001b[0m)  │ (\u001b[38;5;45mNone\u001b[0m, \u001b[38;5;34m69\u001b[0m, \u001b[38;5;34m256\u001b[0m)        │             \u001b[38;5;34m0\u001b[0m │\n",
              "├─────────────────────────────────┼────────────────────────┼───────────────┤\n",
              "│ flatten (\u001b[38;5;33mFlatten\u001b[0m)               │ (\u001b[38;5;45mNone\u001b[0m, \u001b[38;5;34m17664\u001b[0m)          │             \u001b[38;5;34m0\u001b[0m │\n",
              "├─────────────────────────────────┼────────────────────────┼───────────────┤\n",
              "│ dense (\u001b[38;5;33mDense\u001b[0m)                   │ (\u001b[38;5;45mNone\u001b[0m, \u001b[38;5;34m128\u001b[0m)            │     \u001b[38;5;34m2,261,120\u001b[0m │\n",
              "├─────────────────────────────────┼────────────────────────┼───────────────┤\n",
              "│ dropout (\u001b[38;5;33mDropout\u001b[0m)               │ (\u001b[38;5;45mNone\u001b[0m, \u001b[38;5;34m128\u001b[0m)            │             \u001b[38;5;34m0\u001b[0m │\n",
              "├─────────────────────────────────┼────────────────────────┼───────────────┤\n",
              "│ dense_1 (\u001b[38;5;33mDense\u001b[0m)                 │ (\u001b[38;5;45mNone\u001b[0m, \u001b[38;5;34m4\u001b[0m)              │           \u001b[38;5;34m516\u001b[0m │\n",
              "└─────────────────────────────────┴────────────────────────┴───────────────┘\n"
            ],
            "text/html": [
              "<pre style=\"white-space:pre;overflow-x:auto;line-height:normal;font-family:Menlo,'DejaVu Sans Mono',consolas,'Courier New',monospace\">┏━━━━━━━━━━━━━━━━━━━━━━━━━━━━━━━━━┳━━━━━━━━━━━━━━━━━━━━━━━━┳━━━━━━━━━━━━━━━┓\n",
              "┃<span style=\"font-weight: bold\"> Layer (type)                    </span>┃<span style=\"font-weight: bold\"> Output Shape           </span>┃<span style=\"font-weight: bold\">       Param # </span>┃\n",
              "┡━━━━━━━━━━━━━━━━━━━━━━━━━━━━━━━━━╇━━━━━━━━━━━━━━━━━━━━━━━━╇━━━━━━━━━━━━━━━┩\n",
              "│ conv1d (<span style=\"color: #0087ff; text-decoration-color: #0087ff\">Conv1D</span>)                 │ (<span style=\"color: #00d7ff; text-decoration-color: #00d7ff\">None</span>, <span style=\"color: #00af00; text-decoration-color: #00af00\">4453</span>, <span style=\"color: #00af00; text-decoration-color: #00af00\">64</span>)       │       <span style=\"color: #00af00; text-decoration-color: #00af00\">158,784</span> │\n",
              "├─────────────────────────────────┼────────────────────────┼───────────────┤\n",
              "│ batch_normalization             │ (<span style=\"color: #00d7ff; text-decoration-color: #00d7ff\">None</span>, <span style=\"color: #00af00; text-decoration-color: #00af00\">4453</span>, <span style=\"color: #00af00; text-decoration-color: #00af00\">64</span>)       │           <span style=\"color: #00af00; text-decoration-color: #00af00\">256</span> │\n",
              "│ (<span style=\"color: #0087ff; text-decoration-color: #0087ff\">BatchNormalization</span>)            │                        │               │\n",
              "├─────────────────────────────────┼────────────────────────┼───────────────┤\n",
              "│ max_pooling1d (<span style=\"color: #0087ff; text-decoration-color: #0087ff\">MaxPooling1D</span>)    │ (<span style=\"color: #00d7ff; text-decoration-color: #00d7ff\">None</span>, <span style=\"color: #00af00; text-decoration-color: #00af00\">1113</span>, <span style=\"color: #00af00; text-decoration-color: #00af00\">64</span>)       │             <span style=\"color: #00af00; text-decoration-color: #00af00\">0</span> │\n",
              "├─────────────────────────────────┼────────────────────────┼───────────────┤\n",
              "│ conv1d_1 (<span style=\"color: #0087ff; text-decoration-color: #0087ff\">Conv1D</span>)               │ (<span style=\"color: #00d7ff; text-decoration-color: #00d7ff\">None</span>, <span style=\"color: #00af00; text-decoration-color: #00af00\">1113</span>, <span style=\"color: #00af00; text-decoration-color: #00af00\">128</span>)      │        <span style=\"color: #00af00; text-decoration-color: #00af00\">82,048</span> │\n",
              "├─────────────────────────────────┼────────────────────────┼───────────────┤\n",
              "│ batch_normalization_1           │ (<span style=\"color: #00d7ff; text-decoration-color: #00d7ff\">None</span>, <span style=\"color: #00af00; text-decoration-color: #00af00\">1113</span>, <span style=\"color: #00af00; text-decoration-color: #00af00\">128</span>)      │           <span style=\"color: #00af00; text-decoration-color: #00af00\">512</span> │\n",
              "│ (<span style=\"color: #0087ff; text-decoration-color: #0087ff\">BatchNormalization</span>)            │                        │               │\n",
              "├─────────────────────────────────┼────────────────────────┼───────────────┤\n",
              "│ max_pooling1d_1 (<span style=\"color: #0087ff; text-decoration-color: #0087ff\">MaxPooling1D</span>)  │ (<span style=\"color: #00d7ff; text-decoration-color: #00d7ff\">None</span>, <span style=\"color: #00af00; text-decoration-color: #00af00\">278</span>, <span style=\"color: #00af00; text-decoration-color: #00af00\">128</span>)       │             <span style=\"color: #00af00; text-decoration-color: #00af00\">0</span> │\n",
              "├─────────────────────────────────┼────────────────────────┼───────────────┤\n",
              "│ conv1d_2 (<span style=\"color: #0087ff; text-decoration-color: #0087ff\">Conv1D</span>)               │ (<span style=\"color: #00d7ff; text-decoration-color: #00d7ff\">None</span>, <span style=\"color: #00af00; text-decoration-color: #00af00\">278</span>, <span style=\"color: #00af00; text-decoration-color: #00af00\">256</span>)       │       <span style=\"color: #00af00; text-decoration-color: #00af00\">327,936</span> │\n",
              "├─────────────────────────────────┼────────────────────────┼───────────────┤\n",
              "│ batch_normalization_2           │ (<span style=\"color: #00d7ff; text-decoration-color: #00d7ff\">None</span>, <span style=\"color: #00af00; text-decoration-color: #00af00\">278</span>, <span style=\"color: #00af00; text-decoration-color: #00af00\">256</span>)       │         <span style=\"color: #00af00; text-decoration-color: #00af00\">1,024</span> │\n",
              "│ (<span style=\"color: #0087ff; text-decoration-color: #0087ff\">BatchNormalization</span>)            │                        │               │\n",
              "├─────────────────────────────────┼────────────────────────┼───────────────┤\n",
              "│ max_pooling1d_2 (<span style=\"color: #0087ff; text-decoration-color: #0087ff\">MaxPooling1D</span>)  │ (<span style=\"color: #00d7ff; text-decoration-color: #00d7ff\">None</span>, <span style=\"color: #00af00; text-decoration-color: #00af00\">69</span>, <span style=\"color: #00af00; text-decoration-color: #00af00\">256</span>)        │             <span style=\"color: #00af00; text-decoration-color: #00af00\">0</span> │\n",
              "├─────────────────────────────────┼────────────────────────┼───────────────┤\n",
              "│ flatten (<span style=\"color: #0087ff; text-decoration-color: #0087ff\">Flatten</span>)               │ (<span style=\"color: #00d7ff; text-decoration-color: #00d7ff\">None</span>, <span style=\"color: #00af00; text-decoration-color: #00af00\">17664</span>)          │             <span style=\"color: #00af00; text-decoration-color: #00af00\">0</span> │\n",
              "├─────────────────────────────────┼────────────────────────┼───────────────┤\n",
              "│ dense (<span style=\"color: #0087ff; text-decoration-color: #0087ff\">Dense</span>)                   │ (<span style=\"color: #00d7ff; text-decoration-color: #00d7ff\">None</span>, <span style=\"color: #00af00; text-decoration-color: #00af00\">128</span>)            │     <span style=\"color: #00af00; text-decoration-color: #00af00\">2,261,120</span> │\n",
              "├─────────────────────────────────┼────────────────────────┼───────────────┤\n",
              "│ dropout (<span style=\"color: #0087ff; text-decoration-color: #0087ff\">Dropout</span>)               │ (<span style=\"color: #00d7ff; text-decoration-color: #00d7ff\">None</span>, <span style=\"color: #00af00; text-decoration-color: #00af00\">128</span>)            │             <span style=\"color: #00af00; text-decoration-color: #00af00\">0</span> │\n",
              "├─────────────────────────────────┼────────────────────────┼───────────────┤\n",
              "│ dense_1 (<span style=\"color: #0087ff; text-decoration-color: #0087ff\">Dense</span>)                 │ (<span style=\"color: #00d7ff; text-decoration-color: #00d7ff\">None</span>, <span style=\"color: #00af00; text-decoration-color: #00af00\">4</span>)              │           <span style=\"color: #00af00; text-decoration-color: #00af00\">516</span> │\n",
              "└─────────────────────────────────┴────────────────────────┴───────────────┘\n",
              "</pre>\n"
            ]
          },
          "metadata": {}
        },
        {
          "output_type": "display_data",
          "data": {
            "text/plain": [
              "\u001b[1m Total params: \u001b[0m\u001b[38;5;34m2,832,196\u001b[0m (10.80 MB)\n"
            ],
            "text/html": [
              "<pre style=\"white-space:pre;overflow-x:auto;line-height:normal;font-family:Menlo,'DejaVu Sans Mono',consolas,'Courier New',monospace\"><span style=\"font-weight: bold\"> Total params: </span><span style=\"color: #00af00; text-decoration-color: #00af00\">2,832,196</span> (10.80 MB)\n",
              "</pre>\n"
            ]
          },
          "metadata": {}
        },
        {
          "output_type": "display_data",
          "data": {
            "text/plain": [
              "\u001b[1m Trainable params: \u001b[0m\u001b[38;5;34m2,831,300\u001b[0m (10.80 MB)\n"
            ],
            "text/html": [
              "<pre style=\"white-space:pre;overflow-x:auto;line-height:normal;font-family:Menlo,'DejaVu Sans Mono',consolas,'Courier New',monospace\"><span style=\"font-weight: bold\"> Trainable params: </span><span style=\"color: #00af00; text-decoration-color: #00af00\">2,831,300</span> (10.80 MB)\n",
              "</pre>\n"
            ]
          },
          "metadata": {}
        },
        {
          "output_type": "display_data",
          "data": {
            "text/plain": [
              "\u001b[1m Non-trainable params: \u001b[0m\u001b[38;5;34m896\u001b[0m (3.50 KB)\n"
            ],
            "text/html": [
              "<pre style=\"white-space:pre;overflow-x:auto;line-height:normal;font-family:Menlo,'DejaVu Sans Mono',consolas,'Courier New',monospace\"><span style=\"font-weight: bold\"> Non-trainable params: </span><span style=\"color: #00af00; text-decoration-color: #00af00\">896</span> (3.50 KB)\n",
              "</pre>\n"
            ]
          },
          "metadata": {}
        }
      ]
    },
    {
      "cell_type": "markdown",
      "source": [
        "Training and evaluation of CNN"
      ],
      "metadata": {
        "id": "kzZQzySPbMdN"
      }
    },
    {
      "cell_type": "code",
      "source": [
        "history_cnn = cnn_model.fit(\n",
        "    X_train_final,\n",
        "    y_train,\n",
        "    epochs=10,\n",
        "    batch_size=16      # smaller batch size for better generalization\n",
        "    # validation_split=0.2 # 20% of training data for validation\n",
        ")\n",
        "\n",
        "# Evaluate on test Sets\n",
        "loss_cnn, acc_cnn = cnn_model.evaluate(X_test_final, y_test, verbose=0)\n",
        "print(f\"accuracy on test set: {acc_cnn * 100:.2f}%\")"
      ],
      "metadata": {
        "colab": {
          "base_uri": "https://localhost:8080/"
        },
        "id": "-3OyZ3y0bFgY",
        "outputId": "080d59d8-f479-41fd-d37a-acdf449e7c70"
      },
      "execution_count": 92,
      "outputs": [
        {
          "output_type": "stream",
          "name": "stdout",
          "text": [
            "Epoch 1/10\n",
            "\u001b[1m2/2\u001b[0m \u001b[32m━━━━━━━━━━━━━━━━━━━━\u001b[0m\u001b[37m\u001b[0m \u001b[1m3s\u001b[0m 1s/step - accuracy: 0.9375 - loss: 5.1715\n",
            "Epoch 2/10\n",
            "\u001b[1m2/2\u001b[0m \u001b[32m━━━━━━━━━━━━━━━━━━━━\u001b[0m\u001b[37m\u001b[0m \u001b[1m5s\u001b[0m 1s/step - accuracy: 0.9583 - loss: 1.4737\n",
            "Epoch 3/10\n",
            "\u001b[1m2/2\u001b[0m \u001b[32m━━━━━━━━━━━━━━━━━━━━\u001b[0m\u001b[37m\u001b[0m \u001b[1m7s\u001b[0m 2s/step - accuracy: 0.8958 - loss: 2.0566\n",
            "Epoch 4/10\n",
            "\u001b[1m2/2\u001b[0m \u001b[32m━━━━━━━━━━━━━━━━━━━━\u001b[0m\u001b[37m\u001b[0m \u001b[1m4s\u001b[0m 1s/step - accuracy: 0.9583 - loss: 0.3474\n",
            "Epoch 5/10\n",
            "\u001b[1m2/2\u001b[0m \u001b[32m━━━━━━━━━━━━━━━━━━━━\u001b[0m\u001b[37m\u001b[0m \u001b[1m5s\u001b[0m 1s/step - accuracy: 0.9792 - loss: 0.4446\n",
            "Epoch 6/10\n",
            "\u001b[1m2/2\u001b[0m \u001b[32m━━━━━━━━━━━━━━━━━━━━\u001b[0m\u001b[37m\u001b[0m \u001b[1m4s\u001b[0m 2s/step - accuracy: 0.9167 - loss: 0.5780\n",
            "Epoch 7/10\n",
            "\u001b[1m2/2\u001b[0m \u001b[32m━━━━━━━━━━━━━━━━━━━━\u001b[0m\u001b[37m\u001b[0m \u001b[1m4s\u001b[0m 1s/step - accuracy: 1.0000 - loss: 1.4901e-08\n",
            "Epoch 8/10\n",
            "\u001b[1m2/2\u001b[0m \u001b[32m━━━━━━━━━━━━━━━━━━━━\u001b[0m\u001b[37m\u001b[0m \u001b[1m5s\u001b[0m 1s/step - accuracy: 1.0000 - loss: 7.1569e-04\n",
            "Epoch 9/10\n",
            "\u001b[1m2/2\u001b[0m \u001b[32m━━━━━━━━━━━━━━━━━━━━\u001b[0m\u001b[37m\u001b[0m \u001b[1m6s\u001b[0m 1s/step - accuracy: 1.0000 - loss: 0.0000e+00\n",
            "Epoch 10/10\n",
            "\u001b[1m2/2\u001b[0m \u001b[32m━━━━━━━━━━━━━━━━━━━━\u001b[0m\u001b[37m\u001b[0m \u001b[1m4s\u001b[0m 1s/step - accuracy: 1.0000 - loss: 0.0000e+00\n",
            "accuracy on test set: 25.00%\n"
          ]
        }
      ]
    },
    {
      "cell_type": "code",
      "source": [],
      "metadata": {
        "id": "TiUCRw4lbXwg"
      },
      "execution_count": null,
      "outputs": []
    }
  ],
  "metadata": {
    "kernelspec": {
      "display_name": "Python 3",
      "language": "python",
      "name": "python3"
    },
    "language_info": {
      "codemirror_mode": {
        "name": "ipython",
        "version": 2
      },
      "file_extension": ".py",
      "mimetype": "text/x-python",
      "name": "python",
      "nbconvert_exporter": "python",
      "pygments_lexer": "ipython2",
      "version": "2.7.6"
    },
    "colab": {
      "provenance": [],
      "include_colab_link": true
    }
  },
  "nbformat": 4,
  "nbformat_minor": 0
}