{
  "cells": [
    {
      "cell_type": "markdown",
      "metadata": {
        "id": "view-in-github",
        "colab_type": "text"
      },
      "source": [
        "<a href=\"https://colab.research.google.com/github/Lou1108/DeepLearning/blob/main/Assignment2/final.ipynb\" target=\"_parent\"><img src=\"https://colab.research.google.com/assets/colab-badge.svg\" alt=\"Open In Colab\"/></a>"
      ]
    },
    {
      "cell_type": "code",
      "execution_count": 1,
      "metadata": {
        "colab": {
          "base_uri": "https://localhost:8080/"
        },
        "id": "XPrEaErn1Sy_",
        "outputId": "1a402545-8b94-4218-c202-f9d32672afdb"
      },
      "outputs": [
        {
          "output_type": "stream",
          "name": "stdout",
          "text": [
            "Mounted at /content/drive\n"
          ]
        }
      ],
      "source": [
        "from google.colab import drive\n",
        "drive.mount('/content/drive')"
      ]
    },
    {
      "cell_type": "code",
      "execution_count": 2,
      "metadata": {
        "colab": {
          "base_uri": "https://localhost:8080/"
        },
        "id": "PdSh_2Ia1ULE",
        "outputId": "09444150-3474-4343-82fa-32f5a8bf72a5"
      },
      "outputs": [
        {
          "output_type": "stream",
          "name": "stdout",
          "text": [
            "Requirement already satisfied: tensorflow in /usr/local/lib/python3.11/dist-packages (2.18.0)\n",
            "Requirement already satisfied: absl-py>=1.0.0 in /usr/local/lib/python3.11/dist-packages (from tensorflow) (1.4.0)\n",
            "Requirement already satisfied: astunparse>=1.6.0 in /usr/local/lib/python3.11/dist-packages (from tensorflow) (1.6.3)\n",
            "Requirement already satisfied: flatbuffers>=24.3.25 in /usr/local/lib/python3.11/dist-packages (from tensorflow) (25.2.10)\n",
            "Requirement already satisfied: gast!=0.5.0,!=0.5.1,!=0.5.2,>=0.2.1 in /usr/local/lib/python3.11/dist-packages (from tensorflow) (0.6.0)\n",
            "Requirement already satisfied: google-pasta>=0.1.1 in /usr/local/lib/python3.11/dist-packages (from tensorflow) (0.2.0)\n",
            "Requirement already satisfied: libclang>=13.0.0 in /usr/local/lib/python3.11/dist-packages (from tensorflow) (18.1.1)\n",
            "Requirement already satisfied: opt-einsum>=2.3.2 in /usr/local/lib/python3.11/dist-packages (from tensorflow) (3.4.0)\n",
            "Requirement already satisfied: packaging in /usr/local/lib/python3.11/dist-packages (from tensorflow) (24.2)\n",
            "Requirement already satisfied: protobuf!=4.21.0,!=4.21.1,!=4.21.2,!=4.21.3,!=4.21.4,!=4.21.5,<6.0.0dev,>=3.20.3 in /usr/local/lib/python3.11/dist-packages (from tensorflow) (5.29.5)\n",
            "Requirement already satisfied: requests<3,>=2.21.0 in /usr/local/lib/python3.11/dist-packages (from tensorflow) (2.32.3)\n",
            "Requirement already satisfied: setuptools in /usr/local/lib/python3.11/dist-packages (from tensorflow) (75.2.0)\n",
            "Requirement already satisfied: six>=1.12.0 in /usr/local/lib/python3.11/dist-packages (from tensorflow) (1.17.0)\n",
            "Requirement already satisfied: termcolor>=1.1.0 in /usr/local/lib/python3.11/dist-packages (from tensorflow) (3.1.0)\n",
            "Requirement already satisfied: typing-extensions>=3.6.6 in /usr/local/lib/python3.11/dist-packages (from tensorflow) (4.14.0)\n",
            "Requirement already satisfied: wrapt>=1.11.0 in /usr/local/lib/python3.11/dist-packages (from tensorflow) (1.17.2)\n",
            "Requirement already satisfied: grpcio<2.0,>=1.24.3 in /usr/local/lib/python3.11/dist-packages (from tensorflow) (1.73.0)\n",
            "Requirement already satisfied: tensorboard<2.19,>=2.18 in /usr/local/lib/python3.11/dist-packages (from tensorflow) (2.18.0)\n",
            "Requirement already satisfied: keras>=3.5.0 in /usr/local/lib/python3.11/dist-packages (from tensorflow) (3.8.0)\n",
            "Requirement already satisfied: numpy<2.1.0,>=1.26.0 in /usr/local/lib/python3.11/dist-packages (from tensorflow) (2.0.2)\n",
            "Requirement already satisfied: h5py>=3.11.0 in /usr/local/lib/python3.11/dist-packages (from tensorflow) (3.14.0)\n",
            "Requirement already satisfied: ml-dtypes<0.5.0,>=0.4.0 in /usr/local/lib/python3.11/dist-packages (from tensorflow) (0.4.1)\n",
            "Requirement already satisfied: tensorflow-io-gcs-filesystem>=0.23.1 in /usr/local/lib/python3.11/dist-packages (from tensorflow) (0.37.1)\n",
            "Requirement already satisfied: wheel<1.0,>=0.23.0 in /usr/local/lib/python3.11/dist-packages (from astunparse>=1.6.0->tensorflow) (0.45.1)\n",
            "Requirement already satisfied: rich in /usr/local/lib/python3.11/dist-packages (from keras>=3.5.0->tensorflow) (13.9.4)\n",
            "Requirement already satisfied: namex in /usr/local/lib/python3.11/dist-packages (from keras>=3.5.0->tensorflow) (0.1.0)\n",
            "Requirement already satisfied: optree in /usr/local/lib/python3.11/dist-packages (from keras>=3.5.0->tensorflow) (0.16.0)\n",
            "Requirement already satisfied: charset-normalizer<4,>=2 in /usr/local/lib/python3.11/dist-packages (from requests<3,>=2.21.0->tensorflow) (3.4.2)\n",
            "Requirement already satisfied: idna<4,>=2.5 in /usr/local/lib/python3.11/dist-packages (from requests<3,>=2.21.0->tensorflow) (3.10)\n",
            "Requirement already satisfied: urllib3<3,>=1.21.1 in /usr/local/lib/python3.11/dist-packages (from requests<3,>=2.21.0->tensorflow) (2.4.0)\n",
            "Requirement already satisfied: certifi>=2017.4.17 in /usr/local/lib/python3.11/dist-packages (from requests<3,>=2.21.0->tensorflow) (2025.4.26)\n",
            "Requirement already satisfied: markdown>=2.6.8 in /usr/local/lib/python3.11/dist-packages (from tensorboard<2.19,>=2.18->tensorflow) (3.8)\n",
            "Requirement already satisfied: tensorboard-data-server<0.8.0,>=0.7.0 in /usr/local/lib/python3.11/dist-packages (from tensorboard<2.19,>=2.18->tensorflow) (0.7.2)\n",
            "Requirement already satisfied: werkzeug>=1.0.1 in /usr/local/lib/python3.11/dist-packages (from tensorboard<2.19,>=2.18->tensorflow) (3.1.3)\n",
            "Requirement already satisfied: MarkupSafe>=2.1.1 in /usr/local/lib/python3.11/dist-packages (from werkzeug>=1.0.1->tensorboard<2.19,>=2.18->tensorflow) (3.0.2)\n",
            "Requirement already satisfied: markdown-it-py>=2.2.0 in /usr/local/lib/python3.11/dist-packages (from rich->keras>=3.5.0->tensorflow) (3.0.0)\n",
            "Requirement already satisfied: pygments<3.0.0,>=2.13.0 in /usr/local/lib/python3.11/dist-packages (from rich->keras>=3.5.0->tensorflow) (2.19.1)\n",
            "Requirement already satisfied: mdurl~=0.1 in /usr/local/lib/python3.11/dist-packages (from markdown-it-py>=2.2.0->rich->keras>=3.5.0->tensorflow) (0.1.2)\n"
          ]
        }
      ],
      "source": [
        "%pip install tensorflow"
      ]
    },
    {
      "cell_type": "code",
      "execution_count": 3,
      "metadata": {
        "colab": {
          "base_uri": "https://localhost:8080/"
        },
        "id": "Y1KnKQK11pfd",
        "outputId": "4d508d4d-1d0e-4ac6-dccc-55bbed83ad66"
      },
      "outputs": [
        {
          "output_type": "stream",
          "name": "stdout",
          "text": [
            "Collecting keras-tcn\n",
            "  Downloading keras_tcn-3.5.6-py3-none-any.whl.metadata (13 kB)\n",
            "Requirement already satisfied: numpy in /usr/local/lib/python3.11/dist-packages (from keras-tcn) (2.0.2)\n",
            "Requirement already satisfied: tensorflow in /usr/local/lib/python3.11/dist-packages (from keras-tcn) (2.18.0)\n",
            "Requirement already satisfied: absl-py>=1.0.0 in /usr/local/lib/python3.11/dist-packages (from tensorflow->keras-tcn) (1.4.0)\n",
            "Requirement already satisfied: astunparse>=1.6.0 in /usr/local/lib/python3.11/dist-packages (from tensorflow->keras-tcn) (1.6.3)\n",
            "Requirement already satisfied: flatbuffers>=24.3.25 in /usr/local/lib/python3.11/dist-packages (from tensorflow->keras-tcn) (25.2.10)\n",
            "Requirement already satisfied: gast!=0.5.0,!=0.5.1,!=0.5.2,>=0.2.1 in /usr/local/lib/python3.11/dist-packages (from tensorflow->keras-tcn) (0.6.0)\n",
            "Requirement already satisfied: google-pasta>=0.1.1 in /usr/local/lib/python3.11/dist-packages (from tensorflow->keras-tcn) (0.2.0)\n",
            "Requirement already satisfied: libclang>=13.0.0 in /usr/local/lib/python3.11/dist-packages (from tensorflow->keras-tcn) (18.1.1)\n",
            "Requirement already satisfied: opt-einsum>=2.3.2 in /usr/local/lib/python3.11/dist-packages (from tensorflow->keras-tcn) (3.4.0)\n",
            "Requirement already satisfied: packaging in /usr/local/lib/python3.11/dist-packages (from tensorflow->keras-tcn) (24.2)\n",
            "Requirement already satisfied: protobuf!=4.21.0,!=4.21.1,!=4.21.2,!=4.21.3,!=4.21.4,!=4.21.5,<6.0.0dev,>=3.20.3 in /usr/local/lib/python3.11/dist-packages (from tensorflow->keras-tcn) (5.29.5)\n",
            "Requirement already satisfied: requests<3,>=2.21.0 in /usr/local/lib/python3.11/dist-packages (from tensorflow->keras-tcn) (2.32.3)\n",
            "Requirement already satisfied: setuptools in /usr/local/lib/python3.11/dist-packages (from tensorflow->keras-tcn) (75.2.0)\n",
            "Requirement already satisfied: six>=1.12.0 in /usr/local/lib/python3.11/dist-packages (from tensorflow->keras-tcn) (1.17.0)\n",
            "Requirement already satisfied: termcolor>=1.1.0 in /usr/local/lib/python3.11/dist-packages (from tensorflow->keras-tcn) (3.1.0)\n",
            "Requirement already satisfied: typing-extensions>=3.6.6 in /usr/local/lib/python3.11/dist-packages (from tensorflow->keras-tcn) (4.14.0)\n",
            "Requirement already satisfied: wrapt>=1.11.0 in /usr/local/lib/python3.11/dist-packages (from tensorflow->keras-tcn) (1.17.2)\n",
            "Requirement already satisfied: grpcio<2.0,>=1.24.3 in /usr/local/lib/python3.11/dist-packages (from tensorflow->keras-tcn) (1.73.0)\n",
            "Requirement already satisfied: tensorboard<2.19,>=2.18 in /usr/local/lib/python3.11/dist-packages (from tensorflow->keras-tcn) (2.18.0)\n",
            "Requirement already satisfied: keras>=3.5.0 in /usr/local/lib/python3.11/dist-packages (from tensorflow->keras-tcn) (3.8.0)\n",
            "Requirement already satisfied: h5py>=3.11.0 in /usr/local/lib/python3.11/dist-packages (from tensorflow->keras-tcn) (3.14.0)\n",
            "Requirement already satisfied: ml-dtypes<0.5.0,>=0.4.0 in /usr/local/lib/python3.11/dist-packages (from tensorflow->keras-tcn) (0.4.1)\n",
            "Requirement already satisfied: tensorflow-io-gcs-filesystem>=0.23.1 in /usr/local/lib/python3.11/dist-packages (from tensorflow->keras-tcn) (0.37.1)\n",
            "Requirement already satisfied: wheel<1.0,>=0.23.0 in /usr/local/lib/python3.11/dist-packages (from astunparse>=1.6.0->tensorflow->keras-tcn) (0.45.1)\n",
            "Requirement already satisfied: rich in /usr/local/lib/python3.11/dist-packages (from keras>=3.5.0->tensorflow->keras-tcn) (13.9.4)\n",
            "Requirement already satisfied: namex in /usr/local/lib/python3.11/dist-packages (from keras>=3.5.0->tensorflow->keras-tcn) (0.1.0)\n",
            "Requirement already satisfied: optree in /usr/local/lib/python3.11/dist-packages (from keras>=3.5.0->tensorflow->keras-tcn) (0.16.0)\n",
            "Requirement already satisfied: charset-normalizer<4,>=2 in /usr/local/lib/python3.11/dist-packages (from requests<3,>=2.21.0->tensorflow->keras-tcn) (3.4.2)\n",
            "Requirement already satisfied: idna<4,>=2.5 in /usr/local/lib/python3.11/dist-packages (from requests<3,>=2.21.0->tensorflow->keras-tcn) (3.10)\n",
            "Requirement already satisfied: urllib3<3,>=1.21.1 in /usr/local/lib/python3.11/dist-packages (from requests<3,>=2.21.0->tensorflow->keras-tcn) (2.4.0)\n",
            "Requirement already satisfied: certifi>=2017.4.17 in /usr/local/lib/python3.11/dist-packages (from requests<3,>=2.21.0->tensorflow->keras-tcn) (2025.4.26)\n",
            "Requirement already satisfied: markdown>=2.6.8 in /usr/local/lib/python3.11/dist-packages (from tensorboard<2.19,>=2.18->tensorflow->keras-tcn) (3.8)\n",
            "Requirement already satisfied: tensorboard-data-server<0.8.0,>=0.7.0 in /usr/local/lib/python3.11/dist-packages (from tensorboard<2.19,>=2.18->tensorflow->keras-tcn) (0.7.2)\n",
            "Requirement already satisfied: werkzeug>=1.0.1 in /usr/local/lib/python3.11/dist-packages (from tensorboard<2.19,>=2.18->tensorflow->keras-tcn) (3.1.3)\n",
            "Requirement already satisfied: MarkupSafe>=2.1.1 in /usr/local/lib/python3.11/dist-packages (from werkzeug>=1.0.1->tensorboard<2.19,>=2.18->tensorflow->keras-tcn) (3.0.2)\n",
            "Requirement already satisfied: markdown-it-py>=2.2.0 in /usr/local/lib/python3.11/dist-packages (from rich->keras>=3.5.0->tensorflow->keras-tcn) (3.0.0)\n",
            "Requirement already satisfied: pygments<3.0.0,>=2.13.0 in /usr/local/lib/python3.11/dist-packages (from rich->keras>=3.5.0->tensorflow->keras-tcn) (2.19.1)\n",
            "Requirement already satisfied: mdurl~=0.1 in /usr/local/lib/python3.11/dist-packages (from markdown-it-py>=2.2.0->rich->keras>=3.5.0->tensorflow->keras-tcn) (0.1.2)\n",
            "Downloading keras_tcn-3.5.6-py3-none-any.whl (12 kB)\n",
            "Installing collected packages: keras-tcn\n",
            "Successfully installed keras-tcn-3.5.6\n"
          ]
        }
      ],
      "source": [
        "%pip install keras-tcn"
      ]
    },
    {
      "cell_type": "code",
      "execution_count": 4,
      "metadata": {
        "colab": {
          "base_uri": "https://localhost:8080/"
        },
        "id": "AeDy0nQo23N_",
        "outputId": "d8f42f09-eb73-4f5a-830f-acdd8fb28323"
      },
      "outputs": [
        {
          "output_type": "stream",
          "name": "stdout",
          "text": [
            "Name: keras-tcn\n",
            "Version: 3.5.6\n",
            "Summary: Keras TCN\n",
            "Home-page: \n",
            "Author: Philippe Remy\n",
            "Author-email: \n",
            "License: \n",
            "Location: /usr/local/lib/python3.11/dist-packages\n",
            "Requires: numpy, tensorflow\n",
            "Required-by: \n"
          ]
        }
      ],
      "source": [
        "!pip show keras-tcn"
      ]
    },
    {
      "cell_type": "code",
      "execution_count": 5,
      "metadata": {
        "colab": {
          "base_uri": "https://localhost:8080/"
        },
        "id": "aq3lobWD_Nxy",
        "outputId": "89b4483a-4117-4095-e5a1-5bbca2cb388d"
      },
      "outputs": [
        {
          "output_type": "stream",
          "name": "stdout",
          "text": [
            "Collecting keras_tuner\n",
            "  Downloading keras_tuner-1.4.7-py3-none-any.whl.metadata (5.4 kB)\n",
            "Requirement already satisfied: keras in /usr/local/lib/python3.11/dist-packages (from keras_tuner) (3.8.0)\n",
            "Requirement already satisfied: packaging in /usr/local/lib/python3.11/dist-packages (from keras_tuner) (24.2)\n",
            "Requirement already satisfied: requests in /usr/local/lib/python3.11/dist-packages (from keras_tuner) (2.32.3)\n",
            "Collecting kt-legacy (from keras_tuner)\n",
            "  Downloading kt_legacy-1.0.5-py3-none-any.whl.metadata (221 bytes)\n",
            "Requirement already satisfied: absl-py in /usr/local/lib/python3.11/dist-packages (from keras->keras_tuner) (1.4.0)\n",
            "Requirement already satisfied: numpy in /usr/local/lib/python3.11/dist-packages (from keras->keras_tuner) (2.0.2)\n",
            "Requirement already satisfied: rich in /usr/local/lib/python3.11/dist-packages (from keras->keras_tuner) (13.9.4)\n",
            "Requirement already satisfied: namex in /usr/local/lib/python3.11/dist-packages (from keras->keras_tuner) (0.1.0)\n",
            "Requirement already satisfied: h5py in /usr/local/lib/python3.11/dist-packages (from keras->keras_tuner) (3.14.0)\n",
            "Requirement already satisfied: optree in /usr/local/lib/python3.11/dist-packages (from keras->keras_tuner) (0.16.0)\n",
            "Requirement already satisfied: ml-dtypes in /usr/local/lib/python3.11/dist-packages (from keras->keras_tuner) (0.4.1)\n",
            "Requirement already satisfied: charset-normalizer<4,>=2 in /usr/local/lib/python3.11/dist-packages (from requests->keras_tuner) (3.4.2)\n",
            "Requirement already satisfied: idna<4,>=2.5 in /usr/local/lib/python3.11/dist-packages (from requests->keras_tuner) (3.10)\n",
            "Requirement already satisfied: urllib3<3,>=1.21.1 in /usr/local/lib/python3.11/dist-packages (from requests->keras_tuner) (2.4.0)\n",
            "Requirement already satisfied: certifi>=2017.4.17 in /usr/local/lib/python3.11/dist-packages (from requests->keras_tuner) (2025.4.26)\n",
            "Requirement already satisfied: typing-extensions>=4.6.0 in /usr/local/lib/python3.11/dist-packages (from optree->keras->keras_tuner) (4.14.0)\n",
            "Requirement already satisfied: markdown-it-py>=2.2.0 in /usr/local/lib/python3.11/dist-packages (from rich->keras->keras_tuner) (3.0.0)\n",
            "Requirement already satisfied: pygments<3.0.0,>=2.13.0 in /usr/local/lib/python3.11/dist-packages (from rich->keras->keras_tuner) (2.19.1)\n",
            "Requirement already satisfied: mdurl~=0.1 in /usr/local/lib/python3.11/dist-packages (from markdown-it-py>=2.2.0->rich->keras->keras_tuner) (0.1.2)\n",
            "Downloading keras_tuner-1.4.7-py3-none-any.whl (129 kB)\n",
            "\u001b[2K   \u001b[90m━━━━━━━━━━━━━━━━━━━━━━━━━━━━━━━━━━━━━━━━\u001b[0m \u001b[32m129.1/129.1 kB\u001b[0m \u001b[31m3.0 MB/s\u001b[0m eta \u001b[36m0:00:00\u001b[0m\n",
            "\u001b[?25hDownloading kt_legacy-1.0.5-py3-none-any.whl (9.6 kB)\n",
            "Installing collected packages: kt-legacy, keras_tuner\n",
            "Successfully installed keras_tuner-1.4.7 kt-legacy-1.0.5\n"
          ]
        }
      ],
      "source": [
        "!pip install keras_tuner"
      ]
    },
    {
      "cell_type": "code",
      "execution_count": 6,
      "metadata": {
        "colab": {
          "base_uri": "https://localhost:8080/"
        },
        "id": "rnzKntJn_TuO",
        "outputId": "84aeb316-f82c-4d6f-ac6e-1f068de5e940"
      },
      "outputs": [
        {
          "output_type": "stream",
          "name": "stdout",
          "text": [
            "Collecting optuna\n",
            "  Downloading optuna-4.4.0-py3-none-any.whl.metadata (17 kB)\n",
            "Collecting alembic>=1.5.0 (from optuna)\n",
            "  Downloading alembic-1.16.2-py3-none-any.whl.metadata (7.3 kB)\n",
            "Collecting colorlog (from optuna)\n",
            "  Downloading colorlog-6.9.0-py3-none-any.whl.metadata (10 kB)\n",
            "Requirement already satisfied: numpy in /usr/local/lib/python3.11/dist-packages (from optuna) (2.0.2)\n",
            "Requirement already satisfied: packaging>=20.0 in /usr/local/lib/python3.11/dist-packages (from optuna) (24.2)\n",
            "Requirement already satisfied: sqlalchemy>=1.4.2 in /usr/local/lib/python3.11/dist-packages (from optuna) (2.0.41)\n",
            "Requirement already satisfied: tqdm in /usr/local/lib/python3.11/dist-packages (from optuna) (4.67.1)\n",
            "Requirement already satisfied: PyYAML in /usr/local/lib/python3.11/dist-packages (from optuna) (6.0.2)\n",
            "Requirement already satisfied: Mako in /usr/lib/python3/dist-packages (from alembic>=1.5.0->optuna) (1.1.3)\n",
            "Requirement already satisfied: typing-extensions>=4.12 in /usr/local/lib/python3.11/dist-packages (from alembic>=1.5.0->optuna) (4.14.0)\n",
            "Requirement already satisfied: greenlet>=1 in /usr/local/lib/python3.11/dist-packages (from sqlalchemy>=1.4.2->optuna) (3.2.3)\n",
            "Downloading optuna-4.4.0-py3-none-any.whl (395 kB)\n",
            "\u001b[2K   \u001b[90m━━━━━━━━━━━━━━━━━━━━━━━━━━━━━━━━━━━━━━━━\u001b[0m \u001b[32m395.9/395.9 kB\u001b[0m \u001b[31m9.5 MB/s\u001b[0m eta \u001b[36m0:00:00\u001b[0m\n",
            "\u001b[?25hDownloading alembic-1.16.2-py3-none-any.whl (242 kB)\n",
            "\u001b[2K   \u001b[90m━━━━━━━━━━━━━━━━━━━━━━━━━━━━━━━━━━━━━━━━\u001b[0m \u001b[32m242.7/242.7 kB\u001b[0m \u001b[31m18.6 MB/s\u001b[0m eta \u001b[36m0:00:00\u001b[0m\n",
            "\u001b[?25hDownloading colorlog-6.9.0-py3-none-any.whl (11 kB)\n",
            "Installing collected packages: colorlog, alembic, optuna\n",
            "Successfully installed alembic-1.16.2 colorlog-6.9.0 optuna-4.4.0\n"
          ]
        }
      ],
      "source": [
        "!pip install optuna"
      ]
    },
    {
      "cell_type": "code",
      "execution_count": 7,
      "metadata": {
        "id": "ngF1_fDd1NH9"
      },
      "outputs": [],
      "source": [
        "import os\n",
        "import h5py\n",
        "import numpy as np\n",
        "from collections import Counter\n",
        "from sklearn.preprocessing import LabelEncoder\n",
        "from sklearn.model_selection import train_test_split\n",
        "from tensorflow.keras.utils import to_categorical\n",
        "from tensorflow.keras import layers, models\n",
        "import tensorflow as tf\n",
        "import matplotlib.pyplot as plt\n",
        "from tensorflow.keras.models import Sequential\n",
        "import numpy as np\n",
        "import tensorflow as tf\n",
        "from tensorflow.keras.models import Sequential\n",
        "from tensorflow.keras.layers import Input, Conv1D, MaxPooling1D, Flatten, Dense, Dropout, BatchNormalization,DepthwiseConv2D, SeparableConv2D\n",
        "from tensorflow.keras.layers import Activation,AveragePooling2D, Conv2D, RepeatVector, Permute, Multiply, GlobalAveragePooling1D, GlobalAveragePooling2D, Reshape, Multiply\n",
        "from tensorflow.keras.models import Model\n",
        "from tensorflow.keras.constraints import max_norm\n",
        "from tensorflow.keras.callbacks import ModelCheckpoint, EarlyStopping, ReduceLROnPlateau\n",
        "from tensorflow.keras.regularizers import l2\n",
        "from tensorflow.keras.models import Model\n",
        "from sklearn.preprocessing import StandardScaler\n",
        "from tensorflow.keras import Input\n",
        "from tcn import TCN\n",
        "from sklearn.metrics import confusion_matrix,classification_report\n",
        "from tensorflow.keras.layers import LSTM\n",
        "import keras_tuner as kt\n",
        "from sklearn.model_selection import train_test_split\n",
        "\n",
        "import numpy as np\n",
        "import h5py\n",
        "import glob # Used to find all file paths\n",
        "import os\n",
        "\n",
        "import optuna\n",
        "from tensorflow.keras.callbacks import EarlyStopping\n",
        "from sklearn.model_selection import train_test_split"
      ]
    },
    {
      "cell_type": "code",
      "execution_count": 8,
      "metadata": {
        "id": "64lMKDmN1NIE"
      },
      "outputs": [],
      "source": [
        "BASE_PATH_CROSS = '/content/drive/MyDrive/Deep Learning/Final Project data/Cross'\n",
        "BASE_PATH_INTRA = '/content/drive/MyDrive/Deep Learning/Final Project data/Intra'\n",
        "\n",
        "CROSS_TRAIN_DIR = os.path.join(BASE_PATH_CROSS, 'train/')\n",
        "TEST1_DIR = os.path.join(BASE_PATH_CROSS, 'test1/')\n",
        "TEST2_DIR = os.path.join(BASE_PATH_CROSS, 'test2/')\n",
        "TEST3_DIR = os.path.join(BASE_PATH_CROSS, 'test3/')\n",
        "INTRA_TRAIN_DIR = os.path.join(BASE_PATH_INTRA, 'train/')\n",
        "INTRA_TEST_DIR = os.path.join(BASE_PATH_INTRA, 'test/')\n",
        "\n",
        "# Constants\n",
        "N_CHANNELS = 248\n",
        "TASKS = ['rest', 'task_motor', 'task_story_math', 'task_working_memory']\n",
        "task_to_label = {task: i for i, task in enumerate(TASKS)}\n",
        "DOWNSAMPLE_FACTOR = 10\n",
        "WINDOW_SIZE = 250\n",
        "STEP = 125\n",
        "\n",
        "#loading and preprocessing funcs\n",
        "def get_file_paths(directory):\n",
        "    files = glob.glob(f\"{directory}/*.h5\")\n",
        "    if not files:\n",
        "        raise FileNotFoundError(f\"No file found\")\n",
        "    return files\n",
        "\n",
        "def load_data(file_paths):\n",
        "    data = []\n",
        "    labels = []\n",
        "    for file_path in file_paths:\n",
        "        filename = os.path.basename(file_path)\n",
        "        task = None\n",
        "        if 'rest' in filename:\n",
        "            task = 'rest'\n",
        "        elif 'motor' in filename:\n",
        "            task = 'task_motor'\n",
        "        elif 'story' in filename or 'math' in filename:\n",
        "            task = 'task_story_math'\n",
        "        elif 'working' in filename or 'memory' in filename:\n",
        "            task = 'task_working_memory'\n",
        "\n",
        "        if task:\n",
        "            labels.append(task_to_label[task])\n",
        "            with h5py.File(file_path, 'r') as f:\n",
        "                dataset_name = list(f.keys())[0]\n",
        "                matrix = f[dataset_name][()]\n",
        "                data.append(matrix)\n",
        "    return np.array(data), np.array(labels)\n",
        "\n",
        "def windowing(data, labels, window_size, step):\n",
        "    X_win, y_win = [], []\n",
        "    for i in range(data.shape[0]):\n",
        "        n_windows = (data.shape[2] - window_size) // step + 1\n",
        "        for j in range(n_windows):\n",
        "            start=j*step\n",
        "            end = start +window_size\n",
        "            X_win.append(data[i, :, start:end])\n",
        "            y_win.append(labels[i])\n",
        "    return np.array(X_win), np.array(y_win)\n",
        "\n",
        "def normalize_data(data):\n",
        "    \"\"\"function for appluing time wise z-score normalization to each window\"\"\"\n",
        "    n_samples, n_channels, n_timesteps = data.shape\n",
        "    # reshape for scaler: (samples * channels, timesteps)\n",
        "    reshaped_data = data.reshape(n_samples * n_channels, n_timesteps)\n",
        "    scaler = StandardScaler()\n",
        "\n",
        "    scaled_data = scaler.fit_transform(reshaped_data)\n",
        "    #reshap back to original shape\n",
        "    return scaled_data.reshape(n_samples, n_channels, n_timesteps)\n",
        "\n",
        "def augment_data(data, labels, noise_factor=0.05, scale_factor_range=(0.9, 1.1)):\n",
        "    \"\"\"applies noises and scaling augmentation\"\"\"\n",
        "    augmented_data, augmented_labels = [], []\n",
        "    for i in range(len(data)):\n",
        "        original_sample = data[i]\n",
        "        original_label = labels[i]\n",
        "        # add org sample\n",
        "        augmented_data.append(original_sample)\n",
        "        augmented_labels.append(original_label)\n",
        "        # add augmented sample\n",
        "        noise = np.random.normal(loc=0.0, scale=noise_factor, size=original_sample.shape)\n",
        "        scaler = np.random.uniform(low=scale_factor_range[0], high=scale_factor_range[1])\n",
        "        augmented_sample = (original_sample + noise) * scaler\n",
        "        augmented_data.append(augmented_sample)\n",
        "        augmented_labels.append(original_label)\n",
        "    return np.array(augmented_data), np.array(augmented_labels)\n",
        "\n",
        "\n",
        "# preproccessing\n",
        "def preprocess_pipeline(base_dir, is_training=True, output_format='2d'):\n",
        "\n",
        "    files = get_file_paths(base_dir)\n",
        "    X, y = load_data(files)\n",
        "    X_ds = X[:, :, ::DOWNSAMPLE_FACTOR]\n",
        "\n",
        "    X_win, y_win = windowing(X_ds, y, WINDOW_SIZE, STEP)\n",
        "\n",
        "    X_norm = normalize_data(X_win)\n",
        "\n",
        "    if is_training:\n",
        "        X_aug, y_aug = augment_data(X_norm, y_win)\n",
        "        final_X, final_y = X_aug, y_aug\n",
        "    else:\n",
        "        final_X, final_y = X_norm, y_win\n",
        "\n",
        "    if output_format == '2d':\n",
        "        # Reshape for EEGNet/2D CNNs by adding a final dimension\n",
        "        final_X = final_X[..., np.newaxis]\n",
        "    elif output_format == '1d':\n",
        "        # Reshape for Simple/1D CNNs by swapping the last two axes\n",
        "        final_X = np.transpose(final_X, (0, 2, 1))\n",
        "    else:\n",
        "        raise ValueError(\"Invalid output_format\")\n",
        "\n",
        "    return final_X, final_y\n",
        "\n",
        "X_train_1D, y_train_1D_final = preprocess_pipeline(CROSS_TRAIN_DIR, is_training=True, output_format='1d')\n",
        "X_test1_1D, y_test1_1D_final = preprocess_pipeline(TEST1_DIR, is_training=False, output_format='1d')\n",
        "X_test2_1D, y_test2_1D_final = preprocess_pipeline(TEST2_DIR, is_training=False, output_format='1d')\n",
        "X_test3_1D, y_test3_1D_final = preprocess_pipeline(TEST3_DIR, is_training=False, output_format='1d')\n",
        "\n",
        "X_train_augmented = X_train_1D\n",
        "y_train_augmented = y_train_1D_final\n",
        "NUM_CLASSES = len(np.unique(y_train_1D_final))\n",
        "\n",
        "INPUT_SHAPE = (X_train_1D.shape[1], X_train_1D.shape[2])"
      ]
    },
    {
      "cell_type": "markdown",
      "metadata": {
        "id": "fpS6rqOy1NIL"
      },
      "source": [
        "# CNN"
      ]
    },
    {
      "cell_type": "code",
      "execution_count": 9,
      "metadata": {
        "colab": {
          "base_uri": "https://localhost:8080/",
          "height": 748
        },
        "id": "oKb-MM951NIN",
        "outputId": "a888e094-aa2f-4066-cd7a-04ee36e04f0c"
      },
      "outputs": [
        {
          "output_type": "display_data",
          "data": {
            "text/plain": [
              "\u001b[1mModel: \"sequential\"\u001b[0m\n"
            ],
            "text/html": [
              "<pre style=\"white-space:pre;overflow-x:auto;line-height:normal;font-family:Menlo,'DejaVu Sans Mono',consolas,'Courier New',monospace\"><span style=\"font-weight: bold\">Model: \"sequential\"</span>\n",
              "</pre>\n"
            ]
          },
          "metadata": {}
        },
        {
          "output_type": "display_data",
          "data": {
            "text/plain": [
              "┏━━━━━━━━━━━━━━━━━━━━━━━━━━━━━━━━━┳━━━━━━━━━━━━━━━━━━━━━━━━┳━━━━━━━━━━━━━━━┓\n",
              "┃\u001b[1m \u001b[0m\u001b[1mLayer (type)                   \u001b[0m\u001b[1m \u001b[0m┃\u001b[1m \u001b[0m\u001b[1mOutput Shape          \u001b[0m\u001b[1m \u001b[0m┃\u001b[1m \u001b[0m\u001b[1m      Param #\u001b[0m\u001b[1m \u001b[0m┃\n",
              "┡━━━━━━━━━━━━━━━━━━━━━━━━━━━━━━━━━╇━━━━━━━━━━━━━━━━━━━━━━━━╇━━━━━━━━━━━━━━━┩\n",
              "│ conv1d (\u001b[38;5;33mConv1D\u001b[0m)                 │ (\u001b[38;5;45mNone\u001b[0m, \u001b[38;5;34m250\u001b[0m, \u001b[38;5;34m64\u001b[0m)        │       \u001b[38;5;34m111,168\u001b[0m │\n",
              "├─────────────────────────────────┼────────────────────────┼───────────────┤\n",
              "│ batch_normalization             │ (\u001b[38;5;45mNone\u001b[0m, \u001b[38;5;34m250\u001b[0m, \u001b[38;5;34m64\u001b[0m)        │           \u001b[38;5;34m256\u001b[0m │\n",
              "│ (\u001b[38;5;33mBatchNormalization\u001b[0m)            │                        │               │\n",
              "├─────────────────────────────────┼────────────────────────┼───────────────┤\n",
              "│ activation (\u001b[38;5;33mActivation\u001b[0m)         │ (\u001b[38;5;45mNone\u001b[0m, \u001b[38;5;34m250\u001b[0m, \u001b[38;5;34m64\u001b[0m)        │             \u001b[38;5;34m0\u001b[0m │\n",
              "├─────────────────────────────────┼────────────────────────┼───────────────┤\n",
              "│ max_pooling1d (\u001b[38;5;33mMaxPooling1D\u001b[0m)    │ (\u001b[38;5;45mNone\u001b[0m, \u001b[38;5;34m125\u001b[0m, \u001b[38;5;34m64\u001b[0m)        │             \u001b[38;5;34m0\u001b[0m │\n",
              "├─────────────────────────────────┼────────────────────────┼───────────────┤\n",
              "│ conv1d_1 (\u001b[38;5;33mConv1D\u001b[0m)               │ (\u001b[38;5;45mNone\u001b[0m, \u001b[38;5;34m125\u001b[0m, \u001b[38;5;34m128\u001b[0m)       │        \u001b[38;5;34m41,088\u001b[0m │\n",
              "├─────────────────────────────────┼────────────────────────┼───────────────┤\n",
              "│ batch_normalization_1           │ (\u001b[38;5;45mNone\u001b[0m, \u001b[38;5;34m125\u001b[0m, \u001b[38;5;34m128\u001b[0m)       │           \u001b[38;5;34m512\u001b[0m │\n",
              "│ (\u001b[38;5;33mBatchNormalization\u001b[0m)            │                        │               │\n",
              "├─────────────────────────────────┼────────────────────────┼───────────────┤\n",
              "│ activation_1 (\u001b[38;5;33mActivation\u001b[0m)       │ (\u001b[38;5;45mNone\u001b[0m, \u001b[38;5;34m125\u001b[0m, \u001b[38;5;34m128\u001b[0m)       │             \u001b[38;5;34m0\u001b[0m │\n",
              "├─────────────────────────────────┼────────────────────────┼───────────────┤\n",
              "│ max_pooling1d_1 (\u001b[38;5;33mMaxPooling1D\u001b[0m)  │ (\u001b[38;5;45mNone\u001b[0m, \u001b[38;5;34m62\u001b[0m, \u001b[38;5;34m128\u001b[0m)        │             \u001b[38;5;34m0\u001b[0m │\n",
              "├─────────────────────────────────┼────────────────────────┼───────────────┤\n",
              "│ conv1d_2 (\u001b[38;5;33mConv1D\u001b[0m)               │ (\u001b[38;5;45mNone\u001b[0m, \u001b[38;5;34m62\u001b[0m, \u001b[38;5;34m256\u001b[0m)        │        \u001b[38;5;34m98,560\u001b[0m │\n",
              "├─────────────────────────────────┼────────────────────────┼───────────────┤\n",
              "│ batch_normalization_2           │ (\u001b[38;5;45mNone\u001b[0m, \u001b[38;5;34m62\u001b[0m, \u001b[38;5;34m256\u001b[0m)        │         \u001b[38;5;34m1,024\u001b[0m │\n",
              "│ (\u001b[38;5;33mBatchNormalization\u001b[0m)            │                        │               │\n",
              "├─────────────────────────────────┼────────────────────────┼───────────────┤\n",
              "│ activation_2 (\u001b[38;5;33mActivation\u001b[0m)       │ (\u001b[38;5;45mNone\u001b[0m, \u001b[38;5;34m62\u001b[0m, \u001b[38;5;34m256\u001b[0m)        │             \u001b[38;5;34m0\u001b[0m │\n",
              "├─────────────────────────────────┼────────────────────────┼───────────────┤\n",
              "│ global_average_pooling1d        │ (\u001b[38;5;45mNone\u001b[0m, \u001b[38;5;34m256\u001b[0m)            │             \u001b[38;5;34m0\u001b[0m │\n",
              "│ (\u001b[38;5;33mGlobalAveragePooling1D\u001b[0m)        │                        │               │\n",
              "├─────────────────────────────────┼────────────────────────┼───────────────┤\n",
              "│ dropout (\u001b[38;5;33mDropout\u001b[0m)               │ (\u001b[38;5;45mNone\u001b[0m, \u001b[38;5;34m256\u001b[0m)            │             \u001b[38;5;34m0\u001b[0m │\n",
              "├─────────────────────────────────┼────────────────────────┼───────────────┤\n",
              "│ dense (\u001b[38;5;33mDense\u001b[0m)                   │ (\u001b[38;5;45mNone\u001b[0m, \u001b[38;5;34m128\u001b[0m)            │        \u001b[38;5;34m32,896\u001b[0m │\n",
              "├─────────────────────────────────┼────────────────────────┼───────────────┤\n",
              "│ dropout_1 (\u001b[38;5;33mDropout\u001b[0m)             │ (\u001b[38;5;45mNone\u001b[0m, \u001b[38;5;34m128\u001b[0m)            │             \u001b[38;5;34m0\u001b[0m │\n",
              "├─────────────────────────────────┼────────────────────────┼───────────────┤\n",
              "│ dense_1 (\u001b[38;5;33mDense\u001b[0m)                 │ (\u001b[38;5;45mNone\u001b[0m, \u001b[38;5;34m4\u001b[0m)              │           \u001b[38;5;34m516\u001b[0m │\n",
              "└─────────────────────────────────┴────────────────────────┴───────────────┘\n"
            ],
            "text/html": [
              "<pre style=\"white-space:pre;overflow-x:auto;line-height:normal;font-family:Menlo,'DejaVu Sans Mono',consolas,'Courier New',monospace\">┏━━━━━━━━━━━━━━━━━━━━━━━━━━━━━━━━━┳━━━━━━━━━━━━━━━━━━━━━━━━┳━━━━━━━━━━━━━━━┓\n",
              "┃<span style=\"font-weight: bold\"> Layer (type)                    </span>┃<span style=\"font-weight: bold\"> Output Shape           </span>┃<span style=\"font-weight: bold\">       Param # </span>┃\n",
              "┡━━━━━━━━━━━━━━━━━━━━━━━━━━━━━━━━━╇━━━━━━━━━━━━━━━━━━━━━━━━╇━━━━━━━━━━━━━━━┩\n",
              "│ conv1d (<span style=\"color: #0087ff; text-decoration-color: #0087ff\">Conv1D</span>)                 │ (<span style=\"color: #00d7ff; text-decoration-color: #00d7ff\">None</span>, <span style=\"color: #00af00; text-decoration-color: #00af00\">250</span>, <span style=\"color: #00af00; text-decoration-color: #00af00\">64</span>)        │       <span style=\"color: #00af00; text-decoration-color: #00af00\">111,168</span> │\n",
              "├─────────────────────────────────┼────────────────────────┼───────────────┤\n",
              "│ batch_normalization             │ (<span style=\"color: #00d7ff; text-decoration-color: #00d7ff\">None</span>, <span style=\"color: #00af00; text-decoration-color: #00af00\">250</span>, <span style=\"color: #00af00; text-decoration-color: #00af00\">64</span>)        │           <span style=\"color: #00af00; text-decoration-color: #00af00\">256</span> │\n",
              "│ (<span style=\"color: #0087ff; text-decoration-color: #0087ff\">BatchNormalization</span>)            │                        │               │\n",
              "├─────────────────────────────────┼────────────────────────┼───────────────┤\n",
              "│ activation (<span style=\"color: #0087ff; text-decoration-color: #0087ff\">Activation</span>)         │ (<span style=\"color: #00d7ff; text-decoration-color: #00d7ff\">None</span>, <span style=\"color: #00af00; text-decoration-color: #00af00\">250</span>, <span style=\"color: #00af00; text-decoration-color: #00af00\">64</span>)        │             <span style=\"color: #00af00; text-decoration-color: #00af00\">0</span> │\n",
              "├─────────────────────────────────┼────────────────────────┼───────────────┤\n",
              "│ max_pooling1d (<span style=\"color: #0087ff; text-decoration-color: #0087ff\">MaxPooling1D</span>)    │ (<span style=\"color: #00d7ff; text-decoration-color: #00d7ff\">None</span>, <span style=\"color: #00af00; text-decoration-color: #00af00\">125</span>, <span style=\"color: #00af00; text-decoration-color: #00af00\">64</span>)        │             <span style=\"color: #00af00; text-decoration-color: #00af00\">0</span> │\n",
              "├─────────────────────────────────┼────────────────────────┼───────────────┤\n",
              "│ conv1d_1 (<span style=\"color: #0087ff; text-decoration-color: #0087ff\">Conv1D</span>)               │ (<span style=\"color: #00d7ff; text-decoration-color: #00d7ff\">None</span>, <span style=\"color: #00af00; text-decoration-color: #00af00\">125</span>, <span style=\"color: #00af00; text-decoration-color: #00af00\">128</span>)       │        <span style=\"color: #00af00; text-decoration-color: #00af00\">41,088</span> │\n",
              "├─────────────────────────────────┼────────────────────────┼───────────────┤\n",
              "│ batch_normalization_1           │ (<span style=\"color: #00d7ff; text-decoration-color: #00d7ff\">None</span>, <span style=\"color: #00af00; text-decoration-color: #00af00\">125</span>, <span style=\"color: #00af00; text-decoration-color: #00af00\">128</span>)       │           <span style=\"color: #00af00; text-decoration-color: #00af00\">512</span> │\n",
              "│ (<span style=\"color: #0087ff; text-decoration-color: #0087ff\">BatchNormalization</span>)            │                        │               │\n",
              "├─────────────────────────────────┼────────────────────────┼───────────────┤\n",
              "│ activation_1 (<span style=\"color: #0087ff; text-decoration-color: #0087ff\">Activation</span>)       │ (<span style=\"color: #00d7ff; text-decoration-color: #00d7ff\">None</span>, <span style=\"color: #00af00; text-decoration-color: #00af00\">125</span>, <span style=\"color: #00af00; text-decoration-color: #00af00\">128</span>)       │             <span style=\"color: #00af00; text-decoration-color: #00af00\">0</span> │\n",
              "├─────────────────────────────────┼────────────────────────┼───────────────┤\n",
              "│ max_pooling1d_1 (<span style=\"color: #0087ff; text-decoration-color: #0087ff\">MaxPooling1D</span>)  │ (<span style=\"color: #00d7ff; text-decoration-color: #00d7ff\">None</span>, <span style=\"color: #00af00; text-decoration-color: #00af00\">62</span>, <span style=\"color: #00af00; text-decoration-color: #00af00\">128</span>)        │             <span style=\"color: #00af00; text-decoration-color: #00af00\">0</span> │\n",
              "├─────────────────────────────────┼────────────────────────┼───────────────┤\n",
              "│ conv1d_2 (<span style=\"color: #0087ff; text-decoration-color: #0087ff\">Conv1D</span>)               │ (<span style=\"color: #00d7ff; text-decoration-color: #00d7ff\">None</span>, <span style=\"color: #00af00; text-decoration-color: #00af00\">62</span>, <span style=\"color: #00af00; text-decoration-color: #00af00\">256</span>)        │        <span style=\"color: #00af00; text-decoration-color: #00af00\">98,560</span> │\n",
              "├─────────────────────────────────┼────────────────────────┼───────────────┤\n",
              "│ batch_normalization_2           │ (<span style=\"color: #00d7ff; text-decoration-color: #00d7ff\">None</span>, <span style=\"color: #00af00; text-decoration-color: #00af00\">62</span>, <span style=\"color: #00af00; text-decoration-color: #00af00\">256</span>)        │         <span style=\"color: #00af00; text-decoration-color: #00af00\">1,024</span> │\n",
              "│ (<span style=\"color: #0087ff; text-decoration-color: #0087ff\">BatchNormalization</span>)            │                        │               │\n",
              "├─────────────────────────────────┼────────────────────────┼───────────────┤\n",
              "│ activation_2 (<span style=\"color: #0087ff; text-decoration-color: #0087ff\">Activation</span>)       │ (<span style=\"color: #00d7ff; text-decoration-color: #00d7ff\">None</span>, <span style=\"color: #00af00; text-decoration-color: #00af00\">62</span>, <span style=\"color: #00af00; text-decoration-color: #00af00\">256</span>)        │             <span style=\"color: #00af00; text-decoration-color: #00af00\">0</span> │\n",
              "├─────────────────────────────────┼────────────────────────┼───────────────┤\n",
              "│ global_average_pooling1d        │ (<span style=\"color: #00d7ff; text-decoration-color: #00d7ff\">None</span>, <span style=\"color: #00af00; text-decoration-color: #00af00\">256</span>)            │             <span style=\"color: #00af00; text-decoration-color: #00af00\">0</span> │\n",
              "│ (<span style=\"color: #0087ff; text-decoration-color: #0087ff\">GlobalAveragePooling1D</span>)        │                        │               │\n",
              "├─────────────────────────────────┼────────────────────────┼───────────────┤\n",
              "│ dropout (<span style=\"color: #0087ff; text-decoration-color: #0087ff\">Dropout</span>)               │ (<span style=\"color: #00d7ff; text-decoration-color: #00d7ff\">None</span>, <span style=\"color: #00af00; text-decoration-color: #00af00\">256</span>)            │             <span style=\"color: #00af00; text-decoration-color: #00af00\">0</span> │\n",
              "├─────────────────────────────────┼────────────────────────┼───────────────┤\n",
              "│ dense (<span style=\"color: #0087ff; text-decoration-color: #0087ff\">Dense</span>)                   │ (<span style=\"color: #00d7ff; text-decoration-color: #00d7ff\">None</span>, <span style=\"color: #00af00; text-decoration-color: #00af00\">128</span>)            │        <span style=\"color: #00af00; text-decoration-color: #00af00\">32,896</span> │\n",
              "├─────────────────────────────────┼────────────────────────┼───────────────┤\n",
              "│ dropout_1 (<span style=\"color: #0087ff; text-decoration-color: #0087ff\">Dropout</span>)             │ (<span style=\"color: #00d7ff; text-decoration-color: #00d7ff\">None</span>, <span style=\"color: #00af00; text-decoration-color: #00af00\">128</span>)            │             <span style=\"color: #00af00; text-decoration-color: #00af00\">0</span> │\n",
              "├─────────────────────────────────┼────────────────────────┼───────────────┤\n",
              "│ dense_1 (<span style=\"color: #0087ff; text-decoration-color: #0087ff\">Dense</span>)                 │ (<span style=\"color: #00d7ff; text-decoration-color: #00d7ff\">None</span>, <span style=\"color: #00af00; text-decoration-color: #00af00\">4</span>)              │           <span style=\"color: #00af00; text-decoration-color: #00af00\">516</span> │\n",
              "└─────────────────────────────────┴────────────────────────┴───────────────┘\n",
              "</pre>\n"
            ]
          },
          "metadata": {}
        },
        {
          "output_type": "display_data",
          "data": {
            "text/plain": [
              "\u001b[1m Total params: \u001b[0m\u001b[38;5;34m286,020\u001b[0m (1.09 MB)\n"
            ],
            "text/html": [
              "<pre style=\"white-space:pre;overflow-x:auto;line-height:normal;font-family:Menlo,'DejaVu Sans Mono',consolas,'Courier New',monospace\"><span style=\"font-weight: bold\"> Total params: </span><span style=\"color: #00af00; text-decoration-color: #00af00\">286,020</span> (1.09 MB)\n",
              "</pre>\n"
            ]
          },
          "metadata": {}
        },
        {
          "output_type": "display_data",
          "data": {
            "text/plain": [
              "\u001b[1m Trainable params: \u001b[0m\u001b[38;5;34m285,124\u001b[0m (1.09 MB)\n"
            ],
            "text/html": [
              "<pre style=\"white-space:pre;overflow-x:auto;line-height:normal;font-family:Menlo,'DejaVu Sans Mono',consolas,'Courier New',monospace\"><span style=\"font-weight: bold\"> Trainable params: </span><span style=\"color: #00af00; text-decoration-color: #00af00\">285,124</span> (1.09 MB)\n",
              "</pre>\n"
            ]
          },
          "metadata": {}
        },
        {
          "output_type": "display_data",
          "data": {
            "text/plain": [
              "\u001b[1m Non-trainable params: \u001b[0m\u001b[38;5;34m896\u001b[0m (3.50 KB)\n"
            ],
            "text/html": [
              "<pre style=\"white-space:pre;overflow-x:auto;line-height:normal;font-family:Menlo,'DejaVu Sans Mono',consolas,'Courier New',monospace\"><span style=\"font-weight: bold\"> Non-trainable params: </span><span style=\"color: #00af00; text-decoration-color: #00af00\">896</span> (3.50 KB)\n",
              "</pre>\n"
            ]
          },
          "metadata": {}
        }
      ],
      "source": [
        "def build_cnn_model(input_shape, num_classes):\n",
        "    model = Sequential([\n",
        "        Input(shape=input_shape),\n",
        "\n",
        "        Conv1D(filters=64, kernel_size=7, padding='same'),\n",
        "        BatchNormalization(),\n",
        "        Activation('relu'),\n",
        "        MaxPooling1D(pool_size=2),\n",
        "\n",
        "        Conv1D(filters=128, kernel_size=5, padding='same'),\n",
        "        BatchNormalization(),\n",
        "        Activation('relu'),\n",
        "        MaxPooling1D(pool_size=2),\n",
        "\n",
        "        Conv1D(filters=256, kernel_size=3, padding='same'),\n",
        "        BatchNormalization(),\n",
        "        Activation('relu'),\n",
        "        GlobalAveragePooling1D(),  # instead of Flatten to reduce overfitting\n",
        "\n",
        "        Dropout(0.5),\n",
        "        Dense(128, activation='relu'),\n",
        "        Dropout(0.3),\n",
        "        Dense(num_classes, activation='softmax')\n",
        "    ])\n",
        "    return model\n",
        "\n",
        "simple_cnn = build_cnn_model(INPUT_SHAPE, NUM_CLASSES)\n",
        "\n",
        "simple_cnn.compile(\n",
        "    optimizer='adam',\n",
        "    loss='sparse_categorical_crossentropy',\n",
        "    metrics=['accuracy']\n",
        ")\n",
        "\n",
        "simple_cnn.summary()\n",
        "\n",
        "# # --- Training ---\n",
        "# simple_cnn.fit(\n",
        "#     X_train_1D,\n",
        "#     y_train_1D_final,\n",
        "#     batch_size=32,\n",
        "#     epochs=20,\n",
        "#     validation_split=0.2,\n",
        "#     verbose=2\n",
        "# )\n",
        "\n",
        "\n",
        "\n",
        "# # Evaluate on test sets\n",
        "# loss1_simple_cnn, acc1_simple_cnn = simple_cnn.evaluate(X_test1_1D, y_test1_1D_final, verbose=0)\n",
        "# print(f\"simple_cnn Model Accuracy on Test Set 1: {acc1_simple_cnn * 100:.2f}%\")\n",
        "# loss2_simple_cnn, acc2_simple_cnn = simple_cnn.evaluate(X_test2_1D, y_test2_1D_final, verbose=0)\n",
        "# print(f\"simple_cnn Model Accuracy on Test Set 2: {acc2_simple_cnn * 100:.2f}%\")\n",
        "# loss3_simple_cnn, acc3_simple_cnn = simple_cnn.evaluate(X_test3_1D, y_test3_1D_final, verbose=0)\n",
        "# print(f\"simple_cnn Model Accuracy on Test Set 3: {acc3_simple_cnn * 100:.2f}%\")\n",
        "\n",
        "# print(f\"Average accuracy: {((acc1_simple_cnn + acc2_simple_cnn +acc3_simple_cnn)/3) * 100:.2f}%\")\n",
        "\n"
      ]
    },
    {
      "cell_type": "markdown",
      "metadata": {
        "id": "RiwoBQJ91NIQ"
      },
      "source": [
        "# LSTM"
      ]
    },
    {
      "cell_type": "code",
      "execution_count": 10,
      "metadata": {
        "colab": {
          "base_uri": "https://localhost:8080/",
          "height": 510
        },
        "id": "QlnfkH4o1NIQ",
        "outputId": "aae8234f-f82b-4c42-fe5f-192f18391a13"
      },
      "outputs": [
        {
          "output_type": "display_data",
          "data": {
            "text/plain": [
              "\u001b[1mModel: \"sequential_1\"\u001b[0m\n"
            ],
            "text/html": [
              "<pre style=\"white-space:pre;overflow-x:auto;line-height:normal;font-family:Menlo,'DejaVu Sans Mono',consolas,'Courier New',monospace\"><span style=\"font-weight: bold\">Model: \"sequential_1\"</span>\n",
              "</pre>\n"
            ]
          },
          "metadata": {}
        },
        {
          "output_type": "display_data",
          "data": {
            "text/plain": [
              "┏━━━━━━━━━━━━━━━━━━━━━━━━━━━━━━━━━┳━━━━━━━━━━━━━━━━━━━━━━━━┳━━━━━━━━━━━━━━━┓\n",
              "┃\u001b[1m \u001b[0m\u001b[1mLayer (type)                   \u001b[0m\u001b[1m \u001b[0m┃\u001b[1m \u001b[0m\u001b[1mOutput Shape          \u001b[0m\u001b[1m \u001b[0m┃\u001b[1m \u001b[0m\u001b[1m      Param #\u001b[0m\u001b[1m \u001b[0m┃\n",
              "┡━━━━━━━━━━━━━━━━━━━━━━━━━━━━━━━━━╇━━━━━━━━━━━━━━━━━━━━━━━━╇━━━━━━━━━━━━━━━┩\n",
              "│ conv1d_3 (\u001b[38;5;33mConv1D\u001b[0m)               │ (\u001b[38;5;45mNone\u001b[0m, \u001b[38;5;34m250\u001b[0m, \u001b[38;5;34m64\u001b[0m)        │       \u001b[38;5;34m158,784\u001b[0m │\n",
              "├─────────────────────────────────┼────────────────────────┼───────────────┤\n",
              "│ batch_normalization_3           │ (\u001b[38;5;45mNone\u001b[0m, \u001b[38;5;34m250\u001b[0m, \u001b[38;5;34m64\u001b[0m)        │           \u001b[38;5;34m256\u001b[0m │\n",
              "│ (\u001b[38;5;33mBatchNormalization\u001b[0m)            │                        │               │\n",
              "├─────────────────────────────────┼────────────────────────┼───────────────┤\n",
              "│ max_pooling1d_2 (\u001b[38;5;33mMaxPooling1D\u001b[0m)  │ (\u001b[38;5;45mNone\u001b[0m, \u001b[38;5;34m62\u001b[0m, \u001b[38;5;34m64\u001b[0m)         │             \u001b[38;5;34m0\u001b[0m │\n",
              "├─────────────────────────────────┼────────────────────────┼───────────────┤\n",
              "│ conv1d_4 (\u001b[38;5;33mConv1D\u001b[0m)               │ (\u001b[38;5;45mNone\u001b[0m, \u001b[38;5;34m62\u001b[0m, \u001b[38;5;34m128\u001b[0m)        │        \u001b[38;5;34m82,048\u001b[0m │\n",
              "├─────────────────────────────────┼────────────────────────┼───────────────┤\n",
              "│ batch_normalization_4           │ (\u001b[38;5;45mNone\u001b[0m, \u001b[38;5;34m62\u001b[0m, \u001b[38;5;34m128\u001b[0m)        │           \u001b[38;5;34m512\u001b[0m │\n",
              "│ (\u001b[38;5;33mBatchNormalization\u001b[0m)            │                        │               │\n",
              "├─────────────────────────────────┼────────────────────────┼───────────────┤\n",
              "│ max_pooling1d_3 (\u001b[38;5;33mMaxPooling1D\u001b[0m)  │ (\u001b[38;5;45mNone\u001b[0m, \u001b[38;5;34m15\u001b[0m, \u001b[38;5;34m128\u001b[0m)        │             \u001b[38;5;34m0\u001b[0m │\n",
              "├─────────────────────────────────┼────────────────────────┼───────────────┤\n",
              "│ lstm (\u001b[38;5;33mLSTM\u001b[0m)                     │ (\u001b[38;5;45mNone\u001b[0m, \u001b[38;5;34m128\u001b[0m)            │       \u001b[38;5;34m131,584\u001b[0m │\n",
              "├─────────────────────────────────┼────────────────────────┼───────────────┤\n",
              "│ dense_2 (\u001b[38;5;33mDense\u001b[0m)                 │ (\u001b[38;5;45mNone\u001b[0m, \u001b[38;5;34m128\u001b[0m)            │        \u001b[38;5;34m16,512\u001b[0m │\n",
              "├─────────────────────────────────┼────────────────────────┼───────────────┤\n",
              "│ dropout_2 (\u001b[38;5;33mDropout\u001b[0m)             │ (\u001b[38;5;45mNone\u001b[0m, \u001b[38;5;34m128\u001b[0m)            │             \u001b[38;5;34m0\u001b[0m │\n",
              "├─────────────────────────────────┼────────────────────────┼───────────────┤\n",
              "│ dense_3 (\u001b[38;5;33mDense\u001b[0m)                 │ (\u001b[38;5;45mNone\u001b[0m, \u001b[38;5;34m4\u001b[0m)              │           \u001b[38;5;34m516\u001b[0m │\n",
              "└─────────────────────────────────┴────────────────────────┴───────────────┘\n"
            ],
            "text/html": [
              "<pre style=\"white-space:pre;overflow-x:auto;line-height:normal;font-family:Menlo,'DejaVu Sans Mono',consolas,'Courier New',monospace\">┏━━━━━━━━━━━━━━━━━━━━━━━━━━━━━━━━━┳━━━━━━━━━━━━━━━━━━━━━━━━┳━━━━━━━━━━━━━━━┓\n",
              "┃<span style=\"font-weight: bold\"> Layer (type)                    </span>┃<span style=\"font-weight: bold\"> Output Shape           </span>┃<span style=\"font-weight: bold\">       Param # </span>┃\n",
              "┡━━━━━━━━━━━━━━━━━━━━━━━━━━━━━━━━━╇━━━━━━━━━━━━━━━━━━━━━━━━╇━━━━━━━━━━━━━━━┩\n",
              "│ conv1d_3 (<span style=\"color: #0087ff; text-decoration-color: #0087ff\">Conv1D</span>)               │ (<span style=\"color: #00d7ff; text-decoration-color: #00d7ff\">None</span>, <span style=\"color: #00af00; text-decoration-color: #00af00\">250</span>, <span style=\"color: #00af00; text-decoration-color: #00af00\">64</span>)        │       <span style=\"color: #00af00; text-decoration-color: #00af00\">158,784</span> │\n",
              "├─────────────────────────────────┼────────────────────────┼───────────────┤\n",
              "│ batch_normalization_3           │ (<span style=\"color: #00d7ff; text-decoration-color: #00d7ff\">None</span>, <span style=\"color: #00af00; text-decoration-color: #00af00\">250</span>, <span style=\"color: #00af00; text-decoration-color: #00af00\">64</span>)        │           <span style=\"color: #00af00; text-decoration-color: #00af00\">256</span> │\n",
              "│ (<span style=\"color: #0087ff; text-decoration-color: #0087ff\">BatchNormalization</span>)            │                        │               │\n",
              "├─────────────────────────────────┼────────────────────────┼───────────────┤\n",
              "│ max_pooling1d_2 (<span style=\"color: #0087ff; text-decoration-color: #0087ff\">MaxPooling1D</span>)  │ (<span style=\"color: #00d7ff; text-decoration-color: #00d7ff\">None</span>, <span style=\"color: #00af00; text-decoration-color: #00af00\">62</span>, <span style=\"color: #00af00; text-decoration-color: #00af00\">64</span>)         │             <span style=\"color: #00af00; text-decoration-color: #00af00\">0</span> │\n",
              "├─────────────────────────────────┼────────────────────────┼───────────────┤\n",
              "│ conv1d_4 (<span style=\"color: #0087ff; text-decoration-color: #0087ff\">Conv1D</span>)               │ (<span style=\"color: #00d7ff; text-decoration-color: #00d7ff\">None</span>, <span style=\"color: #00af00; text-decoration-color: #00af00\">62</span>, <span style=\"color: #00af00; text-decoration-color: #00af00\">128</span>)        │        <span style=\"color: #00af00; text-decoration-color: #00af00\">82,048</span> │\n",
              "├─────────────────────────────────┼────────────────────────┼───────────────┤\n",
              "│ batch_normalization_4           │ (<span style=\"color: #00d7ff; text-decoration-color: #00d7ff\">None</span>, <span style=\"color: #00af00; text-decoration-color: #00af00\">62</span>, <span style=\"color: #00af00; text-decoration-color: #00af00\">128</span>)        │           <span style=\"color: #00af00; text-decoration-color: #00af00\">512</span> │\n",
              "│ (<span style=\"color: #0087ff; text-decoration-color: #0087ff\">BatchNormalization</span>)            │                        │               │\n",
              "├─────────────────────────────────┼────────────────────────┼───────────────┤\n",
              "│ max_pooling1d_3 (<span style=\"color: #0087ff; text-decoration-color: #0087ff\">MaxPooling1D</span>)  │ (<span style=\"color: #00d7ff; text-decoration-color: #00d7ff\">None</span>, <span style=\"color: #00af00; text-decoration-color: #00af00\">15</span>, <span style=\"color: #00af00; text-decoration-color: #00af00\">128</span>)        │             <span style=\"color: #00af00; text-decoration-color: #00af00\">0</span> │\n",
              "├─────────────────────────────────┼────────────────────────┼───────────────┤\n",
              "│ lstm (<span style=\"color: #0087ff; text-decoration-color: #0087ff\">LSTM</span>)                     │ (<span style=\"color: #00d7ff; text-decoration-color: #00d7ff\">None</span>, <span style=\"color: #00af00; text-decoration-color: #00af00\">128</span>)            │       <span style=\"color: #00af00; text-decoration-color: #00af00\">131,584</span> │\n",
              "├─────────────────────────────────┼────────────────────────┼───────────────┤\n",
              "│ dense_2 (<span style=\"color: #0087ff; text-decoration-color: #0087ff\">Dense</span>)                 │ (<span style=\"color: #00d7ff; text-decoration-color: #00d7ff\">None</span>, <span style=\"color: #00af00; text-decoration-color: #00af00\">128</span>)            │        <span style=\"color: #00af00; text-decoration-color: #00af00\">16,512</span> │\n",
              "├─────────────────────────────────┼────────────────────────┼───────────────┤\n",
              "│ dropout_2 (<span style=\"color: #0087ff; text-decoration-color: #0087ff\">Dropout</span>)             │ (<span style=\"color: #00d7ff; text-decoration-color: #00d7ff\">None</span>, <span style=\"color: #00af00; text-decoration-color: #00af00\">128</span>)            │             <span style=\"color: #00af00; text-decoration-color: #00af00\">0</span> │\n",
              "├─────────────────────────────────┼────────────────────────┼───────────────┤\n",
              "│ dense_3 (<span style=\"color: #0087ff; text-decoration-color: #0087ff\">Dense</span>)                 │ (<span style=\"color: #00d7ff; text-decoration-color: #00d7ff\">None</span>, <span style=\"color: #00af00; text-decoration-color: #00af00\">4</span>)              │           <span style=\"color: #00af00; text-decoration-color: #00af00\">516</span> │\n",
              "└─────────────────────────────────┴────────────────────────┴───────────────┘\n",
              "</pre>\n"
            ]
          },
          "metadata": {}
        },
        {
          "output_type": "display_data",
          "data": {
            "text/plain": [
              "\u001b[1m Total params: \u001b[0m\u001b[38;5;34m390,212\u001b[0m (1.49 MB)\n"
            ],
            "text/html": [
              "<pre style=\"white-space:pre;overflow-x:auto;line-height:normal;font-family:Menlo,'DejaVu Sans Mono',consolas,'Courier New',monospace\"><span style=\"font-weight: bold\"> Total params: </span><span style=\"color: #00af00; text-decoration-color: #00af00\">390,212</span> (1.49 MB)\n",
              "</pre>\n"
            ]
          },
          "metadata": {}
        },
        {
          "output_type": "display_data",
          "data": {
            "text/plain": [
              "\u001b[1m Trainable params: \u001b[0m\u001b[38;5;34m389,828\u001b[0m (1.49 MB)\n"
            ],
            "text/html": [
              "<pre style=\"white-space:pre;overflow-x:auto;line-height:normal;font-family:Menlo,'DejaVu Sans Mono',consolas,'Courier New',monospace\"><span style=\"font-weight: bold\"> Trainable params: </span><span style=\"color: #00af00; text-decoration-color: #00af00\">389,828</span> (1.49 MB)\n",
              "</pre>\n"
            ]
          },
          "metadata": {}
        },
        {
          "output_type": "display_data",
          "data": {
            "text/plain": [
              "\u001b[1m Non-trainable params: \u001b[0m\u001b[38;5;34m384\u001b[0m (1.50 KB)\n"
            ],
            "text/html": [
              "<pre style=\"white-space:pre;overflow-x:auto;line-height:normal;font-family:Menlo,'DejaVu Sans Mono',consolas,'Courier New',monospace\"><span style=\"font-weight: bold\"> Non-trainable params: </span><span style=\"color: #00af00; text-decoration-color: #00af00\">384</span> (1.50 KB)\n",
              "</pre>\n"
            ]
          },
          "metadata": {}
        }
      ],
      "source": [
        "def build_cnn_lstm_model(input_shape, num_classes):\n",
        "    model = Sequential([\n",
        "        Input(shape=input_shape),\n",
        "\n",
        "        # Convolutional layers to extract features\n",
        "        Conv1D(filters=64, kernel_size=10, activation='relu', padding='same'),\n",
        "        BatchNormalization(),\n",
        "        MaxPooling1D(pool_size=4),\n",
        "\n",
        "        Conv1D(filters=128, kernel_size=10, activation='relu', padding='same'),\n",
        "        BatchNormalization(),\n",
        "        MaxPooling1D(pool_size=4),\n",
        "\n",
        "        # LSTM layer to model temporal sequences of the extracted features\n",
        "        LSTM(128, return_sequences=False), # return_sequences=False  it's the last recurrent layer\n",
        "\n",
        "        # Dense layers for classification\n",
        "        Dense(128, activation='relu'),\n",
        "        Dropout(0.5),\n",
        "        Dense(num_classes, activation='softmax')\n",
        "    ])\n",
        "\n",
        "    return model\n",
        "\n",
        "cnn_lstm_model = build_cnn_lstm_model(INPUT_SHAPE, NUM_CLASSES)\n",
        "\n",
        "cnn_lstm_model.compile(\n",
        "    optimizer='adam',\n",
        "    loss='sparse_categorical_crossentropy',\n",
        "    metrics=['accuracy']\n",
        ")\n",
        "\n",
        "cnn_lstm_model.summary()\n",
        "\n",
        "# # --- Training ---\n",
        "# cnn_lstm_model.fit(\n",
        "#     X_train_1D,\n",
        "#     y_train_1D_final,\n",
        "#     batch_size=32,\n",
        "#     epochs=20,\n",
        "#     validation_split=0.2,\n",
        "#     verbose=2\n",
        "# )\n",
        "\n",
        "\n",
        "\n",
        "# # Evaluate on test sets\n",
        "# loss1_hybrid, acc1_hybrid = cnn_lstm_model.evaluate(X_test1_1D, y_test1_1D_final, verbose=0)\n",
        "# print(f\"Hybrid Model Accuracy on Test Set 1: {acc1_hybrid * 100:.2f}%\")\n",
        "# loss2_hybrid, acc2_hybrid = cnn_lstm_model.evaluate(X_test2_1D, y_test2_1D_final, verbose=0)\n",
        "# print(f\"Hybrid Model Accuracy on Test Set 2: {acc2_hybrid * 100:.2f}%\")\n",
        "# loss3_hybrid, acc3_hybrid = cnn_lstm_model.evaluate(X_test3_1D, y_test3_1D_final, verbose=0)\n",
        "# print(f\"Hybrid Model Accuracy on Test Set 3: {acc3_hybrid * 100:.2f}%\")\n",
        "\n",
        "# print(f\"Average accuracy: {((acc1_hybrid + acc2_hybrid +acc3_hybrid)/3) * 100:.2f}%\")\n"
      ]
    },
    {
      "cell_type": "markdown",
      "metadata": {
        "id": "kkvCLmvn1NIS"
      },
      "source": [
        "# TCN"
      ]
    },
    {
      "cell_type": "code",
      "execution_count": 11,
      "metadata": {
        "colab": {
          "base_uri": "https://localhost:8080/",
          "height": 238
        },
        "id": "0VkFyTfI1NIT",
        "outputId": "eb3d18b6-cfdf-4df6-e96d-a2dd146cda83"
      },
      "outputs": [
        {
          "output_type": "display_data",
          "data": {
            "text/plain": [
              "\u001b[1mModel: \"sequential_2\"\u001b[0m\n"
            ],
            "text/html": [
              "<pre style=\"white-space:pre;overflow-x:auto;line-height:normal;font-family:Menlo,'DejaVu Sans Mono',consolas,'Courier New',monospace\"><span style=\"font-weight: bold\">Model: \"sequential_2\"</span>\n",
              "</pre>\n"
            ]
          },
          "metadata": {}
        },
        {
          "output_type": "display_data",
          "data": {
            "text/plain": [
              "┏━━━━━━━━━━━━━━━━━━━━━━━━━━━━━━━━━┳━━━━━━━━━━━━━━━━━━━━━━━━┳━━━━━━━━━━━━━━━┓\n",
              "┃\u001b[1m \u001b[0m\u001b[1mLayer (type)                   \u001b[0m\u001b[1m \u001b[0m┃\u001b[1m \u001b[0m\u001b[1mOutput Shape          \u001b[0m\u001b[1m \u001b[0m┃\u001b[1m \u001b[0m\u001b[1m      Param #\u001b[0m\u001b[1m \u001b[0m┃\n",
              "┡━━━━━━━━━━━━━━━━━━━━━━━━━━━━━━━━━╇━━━━━━━━━━━━━━━━━━━━━━━━╇━━━━━━━━━━━━━━━┩\n",
              "│ tcn (\u001b[38;5;33mTCN\u001b[0m)                       │ (\u001b[38;5;45mNone\u001b[0m, \u001b[38;5;34m64\u001b[0m)             │       \u001b[38;5;34m280,256\u001b[0m │\n",
              "├─────────────────────────────────┼────────────────────────┼───────────────┤\n",
              "│ dropout_3 (\u001b[38;5;33mDropout\u001b[0m)             │ (\u001b[38;5;45mNone\u001b[0m, \u001b[38;5;34m64\u001b[0m)             │             \u001b[38;5;34m0\u001b[0m │\n",
              "├─────────────────────────────────┼────────────────────────┼───────────────┤\n",
              "│ dense_4 (\u001b[38;5;33mDense\u001b[0m)                 │ (\u001b[38;5;45mNone\u001b[0m, \u001b[38;5;34m4\u001b[0m)              │           \u001b[38;5;34m260\u001b[0m │\n",
              "└─────────────────────────────────┴────────────────────────┴───────────────┘\n"
            ],
            "text/html": [
              "<pre style=\"white-space:pre;overflow-x:auto;line-height:normal;font-family:Menlo,'DejaVu Sans Mono',consolas,'Courier New',monospace\">┏━━━━━━━━━━━━━━━━━━━━━━━━━━━━━━━━━┳━━━━━━━━━━━━━━━━━━━━━━━━┳━━━━━━━━━━━━━━━┓\n",
              "┃<span style=\"font-weight: bold\"> Layer (type)                    </span>┃<span style=\"font-weight: bold\"> Output Shape           </span>┃<span style=\"font-weight: bold\">       Param # </span>┃\n",
              "┡━━━━━━━━━━━━━━━━━━━━━━━━━━━━━━━━━╇━━━━━━━━━━━━━━━━━━━━━━━━╇━━━━━━━━━━━━━━━┩\n",
              "│ tcn (<span style=\"color: #0087ff; text-decoration-color: #0087ff\">TCN</span>)                       │ (<span style=\"color: #00d7ff; text-decoration-color: #00d7ff\">None</span>, <span style=\"color: #00af00; text-decoration-color: #00af00\">64</span>)             │       <span style=\"color: #00af00; text-decoration-color: #00af00\">280,256</span> │\n",
              "├─────────────────────────────────┼────────────────────────┼───────────────┤\n",
              "│ dropout_3 (<span style=\"color: #0087ff; text-decoration-color: #0087ff\">Dropout</span>)             │ (<span style=\"color: #00d7ff; text-decoration-color: #00d7ff\">None</span>, <span style=\"color: #00af00; text-decoration-color: #00af00\">64</span>)             │             <span style=\"color: #00af00; text-decoration-color: #00af00\">0</span> │\n",
              "├─────────────────────────────────┼────────────────────────┼───────────────┤\n",
              "│ dense_4 (<span style=\"color: #0087ff; text-decoration-color: #0087ff\">Dense</span>)                 │ (<span style=\"color: #00d7ff; text-decoration-color: #00d7ff\">None</span>, <span style=\"color: #00af00; text-decoration-color: #00af00\">4</span>)              │           <span style=\"color: #00af00; text-decoration-color: #00af00\">260</span> │\n",
              "└─────────────────────────────────┴────────────────────────┴───────────────┘\n",
              "</pre>\n"
            ]
          },
          "metadata": {}
        },
        {
          "output_type": "display_data",
          "data": {
            "text/plain": [
              "\u001b[1m Total params: \u001b[0m\u001b[38;5;34m280,516\u001b[0m (1.07 MB)\n"
            ],
            "text/html": [
              "<pre style=\"white-space:pre;overflow-x:auto;line-height:normal;font-family:Menlo,'DejaVu Sans Mono',consolas,'Courier New',monospace\"><span style=\"font-weight: bold\"> Total params: </span><span style=\"color: #00af00; text-decoration-color: #00af00\">280,516</span> (1.07 MB)\n",
              "</pre>\n"
            ]
          },
          "metadata": {}
        },
        {
          "output_type": "display_data",
          "data": {
            "text/plain": [
              "\u001b[1m Trainable params: \u001b[0m\u001b[38;5;34m280,516\u001b[0m (1.07 MB)\n"
            ],
            "text/html": [
              "<pre style=\"white-space:pre;overflow-x:auto;line-height:normal;font-family:Menlo,'DejaVu Sans Mono',consolas,'Courier New',monospace\"><span style=\"font-weight: bold\"> Trainable params: </span><span style=\"color: #00af00; text-decoration-color: #00af00\">280,516</span> (1.07 MB)\n",
              "</pre>\n"
            ]
          },
          "metadata": {}
        },
        {
          "output_type": "display_data",
          "data": {
            "text/plain": [
              "\u001b[1m Non-trainable params: \u001b[0m\u001b[38;5;34m0\u001b[0m (0.00 B)\n"
            ],
            "text/html": [
              "<pre style=\"white-space:pre;overflow-x:auto;line-height:normal;font-family:Menlo,'DejaVu Sans Mono',consolas,'Courier New',monospace\"><span style=\"font-weight: bold\"> Non-trainable params: </span><span style=\"color: #00af00; text-decoration-color: #00af00\">0</span> (0.00 B)\n",
              "</pre>\n"
            ]
          },
          "metadata": {}
        }
      ],
      "source": [
        "def build_tcn_model(input_shape, num_classes):\n",
        "    model = Sequential([\n",
        "        Input(shape=input_shape),\n",
        "        TCN(nb_filters=64, kernel_size=5, dilations=[1, 2, 4, 8, 16], return_sequences=False),\n",
        "        Dropout(0.3),\n",
        "        Dense(num_classes, activation='softmax')\n",
        "    ])\n",
        "    return model\n",
        "\n",
        "build_tcn_model_model = build_tcn_model(INPUT_SHAPE, NUM_CLASSES)\n",
        "\n",
        "build_tcn_model_model.compile(\n",
        "    optimizer='adam',\n",
        "    loss='sparse_categorical_crossentropy',\n",
        "    metrics=['accuracy']\n",
        ")\n",
        "\n",
        "build_tcn_model_model.summary()\n",
        "\n",
        "# # --- Training ---\n",
        "# build_tcn_model_model.fit(\n",
        "#     X_train_1D,\n",
        "#     y_train_1D_final,\n",
        "#     batch_size=32,\n",
        "#     epochs=20,\n",
        "#     validation_split=0.2,\n",
        "#     verbose=2\n",
        "# )\n",
        "\n",
        "\n",
        "\n",
        "# # Evaluate on test sets\n",
        "# loss1_build_tcn_model, acc1_build_tcn_model = build_tcn_model_model.evaluate(X_test1_1D, y_test1_1D_final, verbose=0)\n",
        "# print(f\"temporal attention Model Accuracy on Test Set 1: {acc1_build_tcn_model * 100:.2f}%\")\n",
        "# loss2_build_tcn_model, acc2_build_tcn_model = build_tcn_model_model.evaluate(X_test2_1D, y_test2_1D_final, verbose=0)\n",
        "# print(f\"temporal attention Model Accuracy on Test Set 2: {acc2_build_tcn_model * 100:.2f}%\")\n",
        "# loss3_build_tcn_model, acc3_build_tcn_model = build_tcn_model_model.evaluate(X_test3_1D, y_test3_1D_final, verbose=0)\n",
        "# print(f\"temporal attention Model Accuracy on Test Set 3: {acc3_build_tcn_model * 100:.2f}%\")\n",
        "\n",
        "# print(f\"Average accuracy: {((acc1_build_tcn_model + acc2_build_tcn_model +acc3_build_tcn_model)/3) * 100:.2f}%\")\n"
      ]
    },
    {
      "cell_type": "markdown",
      "metadata": {
        "id": "J2GDYHtP4DJu"
      },
      "source": [
        "#**EEGNet**"
      ]
    },
    {
      "cell_type": "code",
      "execution_count": 12,
      "metadata": {
        "colab": {
          "base_uri": "https://localhost:8080/",
          "height": 1000
        },
        "id": "1ZNO0a5q4CQ4",
        "outputId": "2aef0316-b3cc-430e-f2b3-e6a0d085a0e5"
      },
      "outputs": [
        {
          "output_type": "display_data",
          "data": {
            "text/plain": [
              "\u001b[1mModel: \"functional_3\"\u001b[0m\n"
            ],
            "text/html": [
              "<pre style=\"white-space:pre;overflow-x:auto;line-height:normal;font-family:Menlo,'DejaVu Sans Mono',consolas,'Courier New',monospace\"><span style=\"font-weight: bold\">Model: \"functional_3\"</span>\n",
              "</pre>\n"
            ]
          },
          "metadata": {}
        },
        {
          "output_type": "display_data",
          "data": {
            "text/plain": [
              "┏━━━━━━━━━━━━━━━━━━━━━┳━━━━━━━━━━━━━━━━━━━┳━━━━━━━━━━━━┳━━━━━━━━━━━━━━━━━━━┓\n",
              "┃\u001b[1m \u001b[0m\u001b[1mLayer (type)       \u001b[0m\u001b[1m \u001b[0m┃\u001b[1m \u001b[0m\u001b[1mOutput Shape     \u001b[0m\u001b[1m \u001b[0m┃\u001b[1m \u001b[0m\u001b[1m   Param #\u001b[0m\u001b[1m \u001b[0m┃\u001b[1m \u001b[0m\u001b[1mConnected to     \u001b[0m\u001b[1m \u001b[0m┃\n",
              "┡━━━━━━━━━━━━━━━━━━━━━╇━━━━━━━━━━━━━━━━━━━╇━━━━━━━━━━━━╇━━━━━━━━━━━━━━━━━━━┩\n",
              "│ input_layer_3       │ (\u001b[38;5;45mNone\u001b[0m, \u001b[38;5;34m248\u001b[0m, \u001b[38;5;34m250\u001b[0m,  │          \u001b[38;5;34m0\u001b[0m │ -                 │\n",
              "│ (\u001b[38;5;33mInputLayer\u001b[0m)        │ \u001b[38;5;34m1\u001b[0m)                │            │                   │\n",
              "├─────────────────────┼───────────────────┼────────────┼───────────────────┤\n",
              "│ conv2d (\u001b[38;5;33mConv2D\u001b[0m)     │ (\u001b[38;5;45mNone\u001b[0m, \u001b[38;5;34m248\u001b[0m, \u001b[38;5;34m250\u001b[0m,  │        \u001b[38;5;34m512\u001b[0m │ input_layer_3[\u001b[38;5;34m0\u001b[0m]… │\n",
              "│                     │ \u001b[38;5;34m8\u001b[0m)                │            │                   │\n",
              "├─────────────────────┼───────────────────┼────────────┼───────────────────┤\n",
              "│ batch_normalizatio… │ (\u001b[38;5;45mNone\u001b[0m, \u001b[38;5;34m248\u001b[0m, \u001b[38;5;34m250\u001b[0m,  │         \u001b[38;5;34m32\u001b[0m │ conv2d[\u001b[38;5;34m0\u001b[0m][\u001b[38;5;34m0\u001b[0m]      │\n",
              "│ (\u001b[38;5;33mBatchNormalizatio…\u001b[0m │ \u001b[38;5;34m8\u001b[0m)                │            │                   │\n",
              "├─────────────────────┼───────────────────┼────────────┼───────────────────┤\n",
              "│ depthwise_conv2d    │ (\u001b[38;5;45mNone\u001b[0m, \u001b[38;5;34m1\u001b[0m, \u001b[38;5;34m250\u001b[0m,    │      \u001b[38;5;34m3,968\u001b[0m │ batch_normalizat… │\n",
              "│ (\u001b[38;5;33mDepthwiseConv2D\u001b[0m)   │ \u001b[38;5;34m16\u001b[0m)               │            │                   │\n",
              "├─────────────────────┼───────────────────┼────────────┼───────────────────┤\n",
              "│ batch_normalizatio… │ (\u001b[38;5;45mNone\u001b[0m, \u001b[38;5;34m1\u001b[0m, \u001b[38;5;34m250\u001b[0m,    │         \u001b[38;5;34m64\u001b[0m │ depthwise_conv2d… │\n",
              "│ (\u001b[38;5;33mBatchNormalizatio…\u001b[0m │ \u001b[38;5;34m16\u001b[0m)               │            │                   │\n",
              "├─────────────────────┼───────────────────┼────────────┼───────────────────┤\n",
              "│ activation_3        │ (\u001b[38;5;45mNone\u001b[0m, \u001b[38;5;34m1\u001b[0m, \u001b[38;5;34m250\u001b[0m,    │          \u001b[38;5;34m0\u001b[0m │ batch_normalizat… │\n",
              "│ (\u001b[38;5;33mActivation\u001b[0m)        │ \u001b[38;5;34m16\u001b[0m)               │            │                   │\n",
              "├─────────────────────┼───────────────────┼────────────┼───────────────────┤\n",
              "│ average_pooling2d   │ (\u001b[38;5;45mNone\u001b[0m, \u001b[38;5;34m1\u001b[0m, \u001b[38;5;34m62\u001b[0m, \u001b[38;5;34m16\u001b[0m) │          \u001b[38;5;34m0\u001b[0m │ activation_3[\u001b[38;5;34m0\u001b[0m][\u001b[38;5;34m…\u001b[0m │\n",
              "│ (\u001b[38;5;33mAveragePooling2D\u001b[0m)  │                   │            │                   │\n",
              "├─────────────────────┼───────────────────┼────────────┼───────────────────┤\n",
              "│ dropout_4 (\u001b[38;5;33mDropout\u001b[0m) │ (\u001b[38;5;45mNone\u001b[0m, \u001b[38;5;34m1\u001b[0m, \u001b[38;5;34m62\u001b[0m, \u001b[38;5;34m16\u001b[0m) │          \u001b[38;5;34m0\u001b[0m │ average_pooling2… │\n",
              "├─────────────────────┼───────────────────┼────────────┼───────────────────┤\n",
              "│ global_average_poo… │ (\u001b[38;5;45mNone\u001b[0m, \u001b[38;5;34m16\u001b[0m)        │          \u001b[38;5;34m0\u001b[0m │ dropout_4[\u001b[38;5;34m0\u001b[0m][\u001b[38;5;34m0\u001b[0m]   │\n",
              "│ (\u001b[38;5;33mGlobalAveragePool…\u001b[0m │                   │            │                   │\n",
              "├─────────────────────┼───────────────────┼────────────┼───────────────────┤\n",
              "│ reshape (\u001b[38;5;33mReshape\u001b[0m)   │ (\u001b[38;5;45mNone\u001b[0m, \u001b[38;5;34m1\u001b[0m, \u001b[38;5;34m1\u001b[0m, \u001b[38;5;34m16\u001b[0m)  │          \u001b[38;5;34m0\u001b[0m │ global_average_p… │\n",
              "├─────────────────────┼───────────────────┼────────────┼───────────────────┤\n",
              "│ dense_5 (\u001b[38;5;33mDense\u001b[0m)     │ (\u001b[38;5;45mNone\u001b[0m, \u001b[38;5;34m1\u001b[0m, \u001b[38;5;34m1\u001b[0m, \u001b[38;5;34m1\u001b[0m)   │         \u001b[38;5;34m16\u001b[0m │ reshape[\u001b[38;5;34m0\u001b[0m][\u001b[38;5;34m0\u001b[0m]     │\n",
              "├─────────────────────┼───────────────────┼────────────┼───────────────────┤\n",
              "│ dense_6 (\u001b[38;5;33mDense\u001b[0m)     │ (\u001b[38;5;45mNone\u001b[0m, \u001b[38;5;34m1\u001b[0m, \u001b[38;5;34m1\u001b[0m, \u001b[38;5;34m16\u001b[0m)  │         \u001b[38;5;34m16\u001b[0m │ dense_5[\u001b[38;5;34m0\u001b[0m][\u001b[38;5;34m0\u001b[0m]     │\n",
              "├─────────────────────┼───────────────────┼────────────┼───────────────────┤\n",
              "│ multiply (\u001b[38;5;33mMultiply\u001b[0m) │ (\u001b[38;5;45mNone\u001b[0m, \u001b[38;5;34m1\u001b[0m, \u001b[38;5;34m62\u001b[0m, \u001b[38;5;34m16\u001b[0m) │          \u001b[38;5;34m0\u001b[0m │ dropout_4[\u001b[38;5;34m0\u001b[0m][\u001b[38;5;34m0\u001b[0m],  │\n",
              "│                     │                   │            │ dense_6[\u001b[38;5;34m0\u001b[0m][\u001b[38;5;34m0\u001b[0m]     │\n",
              "├─────────────────────┼───────────────────┼────────────┼───────────────────┤\n",
              "│ separable_conv2d    │ (\u001b[38;5;45mNone\u001b[0m, \u001b[38;5;34m1\u001b[0m, \u001b[38;5;34m47\u001b[0m, \u001b[38;5;34m16\u001b[0m) │        \u001b[38;5;34m512\u001b[0m │ multiply[\u001b[38;5;34m0\u001b[0m][\u001b[38;5;34m0\u001b[0m]    │\n",
              "│ (\u001b[38;5;33mSeparableConv2D\u001b[0m)   │                   │            │                   │\n",
              "├─────────────────────┼───────────────────┼────────────┼───────────────────┤\n",
              "│ batch_normalizatio… │ (\u001b[38;5;45mNone\u001b[0m, \u001b[38;5;34m1\u001b[0m, \u001b[38;5;34m47\u001b[0m, \u001b[38;5;34m16\u001b[0m) │         \u001b[38;5;34m64\u001b[0m │ separable_conv2d… │\n",
              "│ (\u001b[38;5;33mBatchNormalizatio…\u001b[0m │                   │            │                   │\n",
              "├─────────────────────┼───────────────────┼────────────┼───────────────────┤\n",
              "│ activation_4        │ (\u001b[38;5;45mNone\u001b[0m, \u001b[38;5;34m1\u001b[0m, \u001b[38;5;34m47\u001b[0m, \u001b[38;5;34m16\u001b[0m) │          \u001b[38;5;34m0\u001b[0m │ batch_normalizat… │\n",
              "│ (\u001b[38;5;33mActivation\u001b[0m)        │                   │            │                   │\n",
              "├─────────────────────┼───────────────────┼────────────┼───────────────────┤\n",
              "│ average_pooling2d_1 │ (\u001b[38;5;45mNone\u001b[0m, \u001b[38;5;34m1\u001b[0m, \u001b[38;5;34m5\u001b[0m, \u001b[38;5;34m16\u001b[0m)  │          \u001b[38;5;34m0\u001b[0m │ activation_4[\u001b[38;5;34m0\u001b[0m][\u001b[38;5;34m…\u001b[0m │\n",
              "│ (\u001b[38;5;33mAveragePooling2D\u001b[0m)  │                   │            │                   │\n",
              "├─────────────────────┼───────────────────┼────────────┼───────────────────┤\n",
              "│ dropout_5 (\u001b[38;5;33mDropout\u001b[0m) │ (\u001b[38;5;45mNone\u001b[0m, \u001b[38;5;34m1\u001b[0m, \u001b[38;5;34m5\u001b[0m, \u001b[38;5;34m16\u001b[0m)  │          \u001b[38;5;34m0\u001b[0m │ average_pooling2… │\n",
              "├─────────────────────┼───────────────────┼────────────┼───────────────────┤\n",
              "│ flatten (\u001b[38;5;33mFlatten\u001b[0m)   │ (\u001b[38;5;45mNone\u001b[0m, \u001b[38;5;34m80\u001b[0m)        │          \u001b[38;5;34m0\u001b[0m │ dropout_5[\u001b[38;5;34m0\u001b[0m][\u001b[38;5;34m0\u001b[0m]   │\n",
              "├─────────────────────┼───────────────────┼────────────┼───────────────────┤\n",
              "│ dense_7 (\u001b[38;5;33mDense\u001b[0m)     │ (\u001b[38;5;45mNone\u001b[0m, \u001b[38;5;34m4\u001b[0m)         │        \u001b[38;5;34m324\u001b[0m │ flatten[\u001b[38;5;34m0\u001b[0m][\u001b[38;5;34m0\u001b[0m]     │\n",
              "├─────────────────────┼───────────────────┼────────────┼───────────────────┤\n",
              "│ activation_5        │ (\u001b[38;5;45mNone\u001b[0m, \u001b[38;5;34m4\u001b[0m)         │          \u001b[38;5;34m0\u001b[0m │ dense_7[\u001b[38;5;34m0\u001b[0m][\u001b[38;5;34m0\u001b[0m]     │\n",
              "│ (\u001b[38;5;33mActivation\u001b[0m)        │                   │            │                   │\n",
              "└─────────────────────┴───────────────────┴────────────┴───────────────────┘\n"
            ],
            "text/html": [
              "<pre style=\"white-space:pre;overflow-x:auto;line-height:normal;font-family:Menlo,'DejaVu Sans Mono',consolas,'Courier New',monospace\">┏━━━━━━━━━━━━━━━━━━━━━┳━━━━━━━━━━━━━━━━━━━┳━━━━━━━━━━━━┳━━━━━━━━━━━━━━━━━━━┓\n",
              "┃<span style=\"font-weight: bold\"> Layer (type)        </span>┃<span style=\"font-weight: bold\"> Output Shape      </span>┃<span style=\"font-weight: bold\">    Param # </span>┃<span style=\"font-weight: bold\"> Connected to      </span>┃\n",
              "┡━━━━━━━━━━━━━━━━━━━━━╇━━━━━━━━━━━━━━━━━━━╇━━━━━━━━━━━━╇━━━━━━━━━━━━━━━━━━━┩\n",
              "│ input_layer_3       │ (<span style=\"color: #00d7ff; text-decoration-color: #00d7ff\">None</span>, <span style=\"color: #00af00; text-decoration-color: #00af00\">248</span>, <span style=\"color: #00af00; text-decoration-color: #00af00\">250</span>,  │          <span style=\"color: #00af00; text-decoration-color: #00af00\">0</span> │ -                 │\n",
              "│ (<span style=\"color: #0087ff; text-decoration-color: #0087ff\">InputLayer</span>)        │ <span style=\"color: #00af00; text-decoration-color: #00af00\">1</span>)                │            │                   │\n",
              "├─────────────────────┼───────────────────┼────────────┼───────────────────┤\n",
              "│ conv2d (<span style=\"color: #0087ff; text-decoration-color: #0087ff\">Conv2D</span>)     │ (<span style=\"color: #00d7ff; text-decoration-color: #00d7ff\">None</span>, <span style=\"color: #00af00; text-decoration-color: #00af00\">248</span>, <span style=\"color: #00af00; text-decoration-color: #00af00\">250</span>,  │        <span style=\"color: #00af00; text-decoration-color: #00af00\">512</span> │ input_layer_3[<span style=\"color: #00af00; text-decoration-color: #00af00\">0</span>]… │\n",
              "│                     │ <span style=\"color: #00af00; text-decoration-color: #00af00\">8</span>)                │            │                   │\n",
              "├─────────────────────┼───────────────────┼────────────┼───────────────────┤\n",
              "│ batch_normalizatio… │ (<span style=\"color: #00d7ff; text-decoration-color: #00d7ff\">None</span>, <span style=\"color: #00af00; text-decoration-color: #00af00\">248</span>, <span style=\"color: #00af00; text-decoration-color: #00af00\">250</span>,  │         <span style=\"color: #00af00; text-decoration-color: #00af00\">32</span> │ conv2d[<span style=\"color: #00af00; text-decoration-color: #00af00\">0</span>][<span style=\"color: #00af00; text-decoration-color: #00af00\">0</span>]      │\n",
              "│ (<span style=\"color: #0087ff; text-decoration-color: #0087ff\">BatchNormalizatio…</span> │ <span style=\"color: #00af00; text-decoration-color: #00af00\">8</span>)                │            │                   │\n",
              "├─────────────────────┼───────────────────┼────────────┼───────────────────┤\n",
              "│ depthwise_conv2d    │ (<span style=\"color: #00d7ff; text-decoration-color: #00d7ff\">None</span>, <span style=\"color: #00af00; text-decoration-color: #00af00\">1</span>, <span style=\"color: #00af00; text-decoration-color: #00af00\">250</span>,    │      <span style=\"color: #00af00; text-decoration-color: #00af00\">3,968</span> │ batch_normalizat… │\n",
              "│ (<span style=\"color: #0087ff; text-decoration-color: #0087ff\">DepthwiseConv2D</span>)   │ <span style=\"color: #00af00; text-decoration-color: #00af00\">16</span>)               │            │                   │\n",
              "├─────────────────────┼───────────────────┼────────────┼───────────────────┤\n",
              "│ batch_normalizatio… │ (<span style=\"color: #00d7ff; text-decoration-color: #00d7ff\">None</span>, <span style=\"color: #00af00; text-decoration-color: #00af00\">1</span>, <span style=\"color: #00af00; text-decoration-color: #00af00\">250</span>,    │         <span style=\"color: #00af00; text-decoration-color: #00af00\">64</span> │ depthwise_conv2d… │\n",
              "│ (<span style=\"color: #0087ff; text-decoration-color: #0087ff\">BatchNormalizatio…</span> │ <span style=\"color: #00af00; text-decoration-color: #00af00\">16</span>)               │            │                   │\n",
              "├─────────────────────┼───────────────────┼────────────┼───────────────────┤\n",
              "│ activation_3        │ (<span style=\"color: #00d7ff; text-decoration-color: #00d7ff\">None</span>, <span style=\"color: #00af00; text-decoration-color: #00af00\">1</span>, <span style=\"color: #00af00; text-decoration-color: #00af00\">250</span>,    │          <span style=\"color: #00af00; text-decoration-color: #00af00\">0</span> │ batch_normalizat… │\n",
              "│ (<span style=\"color: #0087ff; text-decoration-color: #0087ff\">Activation</span>)        │ <span style=\"color: #00af00; text-decoration-color: #00af00\">16</span>)               │            │                   │\n",
              "├─────────────────────┼───────────────────┼────────────┼───────────────────┤\n",
              "│ average_pooling2d   │ (<span style=\"color: #00d7ff; text-decoration-color: #00d7ff\">None</span>, <span style=\"color: #00af00; text-decoration-color: #00af00\">1</span>, <span style=\"color: #00af00; text-decoration-color: #00af00\">62</span>, <span style=\"color: #00af00; text-decoration-color: #00af00\">16</span>) │          <span style=\"color: #00af00; text-decoration-color: #00af00\">0</span> │ activation_3[<span style=\"color: #00af00; text-decoration-color: #00af00\">0</span>][<span style=\"color: #00af00; text-decoration-color: #00af00\">…</span> │\n",
              "│ (<span style=\"color: #0087ff; text-decoration-color: #0087ff\">AveragePooling2D</span>)  │                   │            │                   │\n",
              "├─────────────────────┼───────────────────┼────────────┼───────────────────┤\n",
              "│ dropout_4 (<span style=\"color: #0087ff; text-decoration-color: #0087ff\">Dropout</span>) │ (<span style=\"color: #00d7ff; text-decoration-color: #00d7ff\">None</span>, <span style=\"color: #00af00; text-decoration-color: #00af00\">1</span>, <span style=\"color: #00af00; text-decoration-color: #00af00\">62</span>, <span style=\"color: #00af00; text-decoration-color: #00af00\">16</span>) │          <span style=\"color: #00af00; text-decoration-color: #00af00\">0</span> │ average_pooling2… │\n",
              "├─────────────────────┼───────────────────┼────────────┼───────────────────┤\n",
              "│ global_average_poo… │ (<span style=\"color: #00d7ff; text-decoration-color: #00d7ff\">None</span>, <span style=\"color: #00af00; text-decoration-color: #00af00\">16</span>)        │          <span style=\"color: #00af00; text-decoration-color: #00af00\">0</span> │ dropout_4[<span style=\"color: #00af00; text-decoration-color: #00af00\">0</span>][<span style=\"color: #00af00; text-decoration-color: #00af00\">0</span>]   │\n",
              "│ (<span style=\"color: #0087ff; text-decoration-color: #0087ff\">GlobalAveragePool…</span> │                   │            │                   │\n",
              "├─────────────────────┼───────────────────┼────────────┼───────────────────┤\n",
              "│ reshape (<span style=\"color: #0087ff; text-decoration-color: #0087ff\">Reshape</span>)   │ (<span style=\"color: #00d7ff; text-decoration-color: #00d7ff\">None</span>, <span style=\"color: #00af00; text-decoration-color: #00af00\">1</span>, <span style=\"color: #00af00; text-decoration-color: #00af00\">1</span>, <span style=\"color: #00af00; text-decoration-color: #00af00\">16</span>)  │          <span style=\"color: #00af00; text-decoration-color: #00af00\">0</span> │ global_average_p… │\n",
              "├─────────────────────┼───────────────────┼────────────┼───────────────────┤\n",
              "│ dense_5 (<span style=\"color: #0087ff; text-decoration-color: #0087ff\">Dense</span>)     │ (<span style=\"color: #00d7ff; text-decoration-color: #00d7ff\">None</span>, <span style=\"color: #00af00; text-decoration-color: #00af00\">1</span>, <span style=\"color: #00af00; text-decoration-color: #00af00\">1</span>, <span style=\"color: #00af00; text-decoration-color: #00af00\">1</span>)   │         <span style=\"color: #00af00; text-decoration-color: #00af00\">16</span> │ reshape[<span style=\"color: #00af00; text-decoration-color: #00af00\">0</span>][<span style=\"color: #00af00; text-decoration-color: #00af00\">0</span>]     │\n",
              "├─────────────────────┼───────────────────┼────────────┼───────────────────┤\n",
              "│ dense_6 (<span style=\"color: #0087ff; text-decoration-color: #0087ff\">Dense</span>)     │ (<span style=\"color: #00d7ff; text-decoration-color: #00d7ff\">None</span>, <span style=\"color: #00af00; text-decoration-color: #00af00\">1</span>, <span style=\"color: #00af00; text-decoration-color: #00af00\">1</span>, <span style=\"color: #00af00; text-decoration-color: #00af00\">16</span>)  │         <span style=\"color: #00af00; text-decoration-color: #00af00\">16</span> │ dense_5[<span style=\"color: #00af00; text-decoration-color: #00af00\">0</span>][<span style=\"color: #00af00; text-decoration-color: #00af00\">0</span>]     │\n",
              "├─────────────────────┼───────────────────┼────────────┼───────────────────┤\n",
              "│ multiply (<span style=\"color: #0087ff; text-decoration-color: #0087ff\">Multiply</span>) │ (<span style=\"color: #00d7ff; text-decoration-color: #00d7ff\">None</span>, <span style=\"color: #00af00; text-decoration-color: #00af00\">1</span>, <span style=\"color: #00af00; text-decoration-color: #00af00\">62</span>, <span style=\"color: #00af00; text-decoration-color: #00af00\">16</span>) │          <span style=\"color: #00af00; text-decoration-color: #00af00\">0</span> │ dropout_4[<span style=\"color: #00af00; text-decoration-color: #00af00\">0</span>][<span style=\"color: #00af00; text-decoration-color: #00af00\">0</span>],  │\n",
              "│                     │                   │            │ dense_6[<span style=\"color: #00af00; text-decoration-color: #00af00\">0</span>][<span style=\"color: #00af00; text-decoration-color: #00af00\">0</span>]     │\n",
              "├─────────────────────┼───────────────────┼────────────┼───────────────────┤\n",
              "│ separable_conv2d    │ (<span style=\"color: #00d7ff; text-decoration-color: #00d7ff\">None</span>, <span style=\"color: #00af00; text-decoration-color: #00af00\">1</span>, <span style=\"color: #00af00; text-decoration-color: #00af00\">47</span>, <span style=\"color: #00af00; text-decoration-color: #00af00\">16</span>) │        <span style=\"color: #00af00; text-decoration-color: #00af00\">512</span> │ multiply[<span style=\"color: #00af00; text-decoration-color: #00af00\">0</span>][<span style=\"color: #00af00; text-decoration-color: #00af00\">0</span>]    │\n",
              "│ (<span style=\"color: #0087ff; text-decoration-color: #0087ff\">SeparableConv2D</span>)   │                   │            │                   │\n",
              "├─────────────────────┼───────────────────┼────────────┼───────────────────┤\n",
              "│ batch_normalizatio… │ (<span style=\"color: #00d7ff; text-decoration-color: #00d7ff\">None</span>, <span style=\"color: #00af00; text-decoration-color: #00af00\">1</span>, <span style=\"color: #00af00; text-decoration-color: #00af00\">47</span>, <span style=\"color: #00af00; text-decoration-color: #00af00\">16</span>) │         <span style=\"color: #00af00; text-decoration-color: #00af00\">64</span> │ separable_conv2d… │\n",
              "│ (<span style=\"color: #0087ff; text-decoration-color: #0087ff\">BatchNormalizatio…</span> │                   │            │                   │\n",
              "├─────────────────────┼───────────────────┼────────────┼───────────────────┤\n",
              "│ activation_4        │ (<span style=\"color: #00d7ff; text-decoration-color: #00d7ff\">None</span>, <span style=\"color: #00af00; text-decoration-color: #00af00\">1</span>, <span style=\"color: #00af00; text-decoration-color: #00af00\">47</span>, <span style=\"color: #00af00; text-decoration-color: #00af00\">16</span>) │          <span style=\"color: #00af00; text-decoration-color: #00af00\">0</span> │ batch_normalizat… │\n",
              "│ (<span style=\"color: #0087ff; text-decoration-color: #0087ff\">Activation</span>)        │                   │            │                   │\n",
              "├─────────────────────┼───────────────────┼────────────┼───────────────────┤\n",
              "│ average_pooling2d_1 │ (<span style=\"color: #00d7ff; text-decoration-color: #00d7ff\">None</span>, <span style=\"color: #00af00; text-decoration-color: #00af00\">1</span>, <span style=\"color: #00af00; text-decoration-color: #00af00\">5</span>, <span style=\"color: #00af00; text-decoration-color: #00af00\">16</span>)  │          <span style=\"color: #00af00; text-decoration-color: #00af00\">0</span> │ activation_4[<span style=\"color: #00af00; text-decoration-color: #00af00\">0</span>][<span style=\"color: #00af00; text-decoration-color: #00af00\">…</span> │\n",
              "│ (<span style=\"color: #0087ff; text-decoration-color: #0087ff\">AveragePooling2D</span>)  │                   │            │                   │\n",
              "├─────────────────────┼───────────────────┼────────────┼───────────────────┤\n",
              "│ dropout_5 (<span style=\"color: #0087ff; text-decoration-color: #0087ff\">Dropout</span>) │ (<span style=\"color: #00d7ff; text-decoration-color: #00d7ff\">None</span>, <span style=\"color: #00af00; text-decoration-color: #00af00\">1</span>, <span style=\"color: #00af00; text-decoration-color: #00af00\">5</span>, <span style=\"color: #00af00; text-decoration-color: #00af00\">16</span>)  │          <span style=\"color: #00af00; text-decoration-color: #00af00\">0</span> │ average_pooling2… │\n",
              "├─────────────────────┼───────────────────┼────────────┼───────────────────┤\n",
              "│ flatten (<span style=\"color: #0087ff; text-decoration-color: #0087ff\">Flatten</span>)   │ (<span style=\"color: #00d7ff; text-decoration-color: #00d7ff\">None</span>, <span style=\"color: #00af00; text-decoration-color: #00af00\">80</span>)        │          <span style=\"color: #00af00; text-decoration-color: #00af00\">0</span> │ dropout_5[<span style=\"color: #00af00; text-decoration-color: #00af00\">0</span>][<span style=\"color: #00af00; text-decoration-color: #00af00\">0</span>]   │\n",
              "├─────────────────────┼───────────────────┼────────────┼───────────────────┤\n",
              "│ dense_7 (<span style=\"color: #0087ff; text-decoration-color: #0087ff\">Dense</span>)     │ (<span style=\"color: #00d7ff; text-decoration-color: #00d7ff\">None</span>, <span style=\"color: #00af00; text-decoration-color: #00af00\">4</span>)         │        <span style=\"color: #00af00; text-decoration-color: #00af00\">324</span> │ flatten[<span style=\"color: #00af00; text-decoration-color: #00af00\">0</span>][<span style=\"color: #00af00; text-decoration-color: #00af00\">0</span>]     │\n",
              "├─────────────────────┼───────────────────┼────────────┼───────────────────┤\n",
              "│ activation_5        │ (<span style=\"color: #00d7ff; text-decoration-color: #00d7ff\">None</span>, <span style=\"color: #00af00; text-decoration-color: #00af00\">4</span>)         │          <span style=\"color: #00af00; text-decoration-color: #00af00\">0</span> │ dense_7[<span style=\"color: #00af00; text-decoration-color: #00af00\">0</span>][<span style=\"color: #00af00; text-decoration-color: #00af00\">0</span>]     │\n",
              "│ (<span style=\"color: #0087ff; text-decoration-color: #0087ff\">Activation</span>)        │                   │            │                   │\n",
              "└─────────────────────┴───────────────────┴────────────┴───────────────────┘\n",
              "</pre>\n"
            ]
          },
          "metadata": {}
        },
        {
          "output_type": "display_data",
          "data": {
            "text/plain": [
              "\u001b[1m Total params: \u001b[0m\u001b[38;5;34m5,508\u001b[0m (21.52 KB)\n"
            ],
            "text/html": [
              "<pre style=\"white-space:pre;overflow-x:auto;line-height:normal;font-family:Menlo,'DejaVu Sans Mono',consolas,'Courier New',monospace\"><span style=\"font-weight: bold\"> Total params: </span><span style=\"color: #00af00; text-decoration-color: #00af00\">5,508</span> (21.52 KB)\n",
              "</pre>\n"
            ]
          },
          "metadata": {}
        },
        {
          "output_type": "display_data",
          "data": {
            "text/plain": [
              "\u001b[1m Trainable params: \u001b[0m\u001b[38;5;34m5,428\u001b[0m (21.20 KB)\n"
            ],
            "text/html": [
              "<pre style=\"white-space:pre;overflow-x:auto;line-height:normal;font-family:Menlo,'DejaVu Sans Mono',consolas,'Courier New',monospace\"><span style=\"font-weight: bold\"> Trainable params: </span><span style=\"color: #00af00; text-decoration-color: #00af00\">5,428</span> (21.20 KB)\n",
              "</pre>\n"
            ]
          },
          "metadata": {}
        },
        {
          "output_type": "display_data",
          "data": {
            "text/plain": [
              "\u001b[1m Non-trainable params: \u001b[0m\u001b[38;5;34m80\u001b[0m (320.00 B)\n"
            ],
            "text/html": [
              "<pre style=\"white-space:pre;overflow-x:auto;line-height:normal;font-family:Menlo,'DejaVu Sans Mono',consolas,'Courier New',monospace\"><span style=\"font-weight: bold\"> Non-trainable params: </span><span style=\"color: #00af00; text-decoration-color: #00af00\">80</span> (320.00 B)\n",
              "</pre>\n"
            ]
          },
          "metadata": {}
        }
      ],
      "source": [
        "def squeeze_excite_block(input_tensor, ratio=16):\n",
        "    \"\"\"Squeeze and Excite block for channelwise attention\"\"\"\n",
        "    init = input_tensor\n",
        "    channel_axis = -1\n",
        "    filters = init.shape[channel_axis]\n",
        "    se_shape = (1, 1, filters)\n",
        "\n",
        "    se = GlobalAveragePooling2D()(init)\n",
        "    se = Reshape(se_shape)(se)\n",
        "    se = Dense(filters // ratio, activation='relu', kernel_initializer='he_normal', use_bias=False)(se)\n",
        "    se = Dense(filters, activation='sigmoid', kernel_initializer='he_normal', use_bias=False)(se)\n",
        "\n",
        "    x = Multiply()([init, se])\n",
        "    return x\n",
        "\n",
        "def EEGNet_with_Attention_Regularized(\n",
        "    nb_classes, Chans=248, Samples=150, dropoutRate=0.5, l2_lambda=0.001\n",
        "):\n",
        "    \"\"\"\n",
        "    EEGNet model with Squeeze-and-Excite attention and L2 regularization\n",
        "    \"\"\"\n",
        "    input1 = Input(shape=(Chans, Samples, 1))\n",
        "\n",
        "    # Block 1: Temporal Conv\n",
        "    block1 = Conv2D(F1, (1, kernLength), padding='same',\n",
        "                    use_bias=False)(input1)\n",
        "    block1 = BatchNormalization()(block1)\n",
        "    block1 = DepthwiseConv2D((Chans, 1), use_bias=False,\n",
        "                             depth_multiplier=D)(block1)\n",
        "    block1 = BatchNormalization()(block1)\n",
        "    block1 = Activation('elu')(block1)\n",
        "    block1 = AveragePooling2D((1, 4))(block1)\n",
        "    block1 = Dropout(dropoutRate)(block1)\n",
        "\n",
        "    # Attention Block\n",
        "    block1 = squeeze_excite_block(block1)\n",
        "\n",
        "    # Block 2: Separable Convolution with L2 regularization\n",
        "    block2 = SeparableConv2D(F2, (1, 16), use_bias=False, padding='valid',\n",
        "                             depthwise_regularizer=l2(l2_lambda),\n",
        "                             pointwise_regularizer=l2(l2_lambda))(block1)\n",
        "    block2 = BatchNormalization()(block2)\n",
        "    block2 = Activation('elu')(block2)\n",
        "    block2 = AveragePooling2D((1, 8))(block2)\n",
        "    block2 = Dropout(dropoutRate)(block2)\n",
        "\n",
        "    # Classification Head\n",
        "    flatten = Flatten()(block2)\n",
        "    dense = Dense(nb_classes, kernel_constraint=max_norm(0.25),\n",
        "                  kernel_regularizer=l2(l2_lambda))(flatten)\n",
        "    softmax = Activation('softmax')(dense)\n",
        "\n",
        "    return Model(inputs=input1, outputs=softmax)\n",
        "\n",
        "eegnet_model = EEGNet_with_Attention_Regularized(\n",
        "    nb_classes=NUM_CLASSES,        # Set this based on your label count\n",
        "    Chans=N_CHANNELS,              # Typically 248 for MEG\n",
        "    Samples=WINDOW_SIZE,           # Use 150 or 250 based on your data\n",
        "    dropoutRate=0.6,\n",
        "    l2_lambda=0.001\n",
        ")\n",
        "\n",
        "def build_eegnet_model(input_shape, num_classes):\n",
        "    # input_shape = (Chans, Samples, 1)\n",
        "    Chans, Samples, _ = input_shape\n",
        "    return EEGNet_with_Attention_Regularized(\n",
        "        nb_classes=num_classes,\n",
        "        Chans=Chans,\n",
        "        Samples=Samples,\n",
        "        dropoutRate=0.6,\n",
        "        l2_lambda=0.001\n",
        "    )\n",
        "\n",
        "# Compile model\n",
        "eegnet_model.compile(\n",
        "    optimizer='adam',\n",
        "    loss='sparse_categorical_crossentropy',\n",
        "    metrics=['accuracy']\n",
        ")\n",
        "\n",
        "# Show model summary\n",
        "eegnet_model.summary()"
      ]
    },
    {
      "cell_type": "markdown",
      "metadata": {
        "id": "nYofWCEl1NIU"
      },
      "source": [
        "# Optimization"
      ]
    },
    {
      "cell_type": "code",
      "source": [
        "import optuna\n",
        "from sklearn.model_selection import train_test_split\n",
        "from tensorflow.keras.callbacks import EarlyStopping\n",
        "\n",
        "# --- Assume preprocess_pipeline and build_eegnet_model are already defined above, and\n",
        "# --- global variables WINDOW_SIZE, STEP, CROSS_TRAIN_DIR, TEST1_DIR, TEST2_DIR, TEST3_DIR exist.\n",
        "\n",
        "def make_optimized_objective(build_fn, output_format, max_epochs=10, batch_size=32):\n",
        "    best = {\"model\": None, \"best_acc\": 0.0}\n",
        "\n",
        "    def objective(trial):\n",
        "        global WINDOW_SIZE, STEP\n",
        "        WINDOW_SIZE = trial.suggest_int(\"window_size\", 100, 350, step=50)\n",
        "        STEP        = trial.suggest_int(\"step_size\", 25, 150, step=25)\n",
        "\n",
        "        # Re-preprocess data\n",
        "        Xtr, ytr = preprocess_pipeline(CROSS_TRAIN_DIR, True,  output_format)\n",
        "        Xt1, y1  = preprocess_pipeline(TEST1_DIR,    False, output_format)\n",
        "        Xt2, y2  = preprocess_pipeline(TEST2_DIR,    False, output_format)\n",
        "        Xt3, y3  = preprocess_pipeline(TEST3_DIR,    False, output_format)\n",
        "\n",
        "        # dimension check\n",
        "        if output_format == '1d':\n",
        "            # Xtr shape: (n_samples, time_steps, channels)\n",
        "            if Xtr.shape[1] != WINDOW_SIZE:\n",
        "                return 0.0\n",
        "        else:  # '2d'\n",
        "            # Xtr shape: (n_samples, channels, time_steps, 1)\n",
        "            if Xtr.shape[2] != WINDOW_SIZE:\n",
        "                return 0.0\n",
        "\n",
        "        # build, compile, train\n",
        "        model = build_fn(Xtr.shape[1:], len(np.unique(ytr)))\n",
        "        model.compile(optimizer='adam',\n",
        "                      loss='sparse_categorical_crossentropy',\n",
        "                      metrics=['accuracy'])\n",
        "\n",
        "        Xsub, Xval, ysub, yval = train_test_split(\n",
        "            Xtr, ytr, test_size=0.2, random_state=42\n",
        "        )\n",
        "        model.fit(\n",
        "            Xsub, ysub,\n",
        "            validation_data=(Xval, yval),\n",
        "            epochs=max_epochs,\n",
        "            batch_size=batch_size,\n",
        "            verbose=0,\n",
        "            callbacks=[EarlyStopping(monitor='val_loss', patience=2, restore_best_weights=True)]\n",
        "        )\n",
        "\n",
        "        # evaluate on the three cross-subject test sets\n",
        "        a1 = model.evaluate(Xt1, y1, verbose=0)[1]\n",
        "        a2 = model.evaluate(Xt2, y2, verbose=0)[1]\n",
        "        a3 = model.evaluate(Xt3, y3, verbose=0)[1]\n",
        "        avg = (a1 + a2 + a3) / 3\n",
        "\n",
        "        if avg > best[\"best_acc\"]:\n",
        "            best[\"best_acc\"], best[\"model\"] = avg, model\n",
        "\n",
        "        return avg\n",
        "\n",
        "    return objective, best\n",
        "\n",
        "# Then your loop stays the same:\n",
        "best_window_step = {}\n",
        "best_models      = {}\n",
        "\n",
        "for name, (builder, fmt) in model_configs.items():\n",
        "    print(f\"\\n=== OPTUNA: tuning pipeline ({name}) ===\")\n",
        "    obj, container = make_optimized_objective(builder, fmt, max_epochs=10, batch_size=32)\n",
        "    study = optuna.create_study(direction=\"maximize\")\n",
        "    study.optimize(obj, n_trials=20)\n",
        "\n",
        "    p = study.best_params\n",
        "    best_window_step[name] = (p[\"window_size\"], p[\"step_size\"])\n",
        "    best_models[name]      = container[\"model\"]\n",
        "\n",
        "    print(f\"{name} → best avg acc {container['best_acc']:.4f}\")\n",
        "    print(f\"{name} → best WINDOW, STEP = {best_window_step[name]}\")"
      ],
      "metadata": {
        "colab": {
          "base_uri": "https://localhost:8080/"
        },
        "id": "geoq1k--dawv",
        "outputId": "270c15ce-9890-4690-838b-6eab9842ddb6"
      },
      "execution_count": 22,
      "outputs": [
        {
          "output_type": "stream",
          "name": "stderr",
          "text": [
            "[I 2025-06-17 15:48:50,746] A new study created in memory with name: no-name-8cf5429b-283e-4350-b741-6b7b3583ab12\n"
          ]
        },
        {
          "output_type": "stream",
          "name": "stdout",
          "text": [
            "\n",
            "=== OPTUNA: tuning pipeline (CNN) ===\n"
          ]
        },
        {
          "output_type": "stream",
          "name": "stderr",
          "text": [
            "[I 2025-06-17 15:49:29,627] Trial 0 finished with value: 0.7339285810788473 and parameters: {'window_size': 100, 'step_size': 50}. Best is trial 0 with value: 0.7339285810788473.\n",
            "[I 2025-06-17 15:50:06,190] Trial 1 finished with value: 0.6619047522544861 and parameters: {'window_size': 100, 'step_size': 50}. Best is trial 0 with value: 0.7339285810788473.\n",
            "[I 2025-06-17 15:50:39,643] Trial 2 finished with value: 0.6653079688549042 and parameters: {'window_size': 150, 'step_size': 75}. Best is trial 0 with value: 0.7339285810788473.\n",
            "[I 2025-06-17 15:51:31,009] Trial 3 finished with value: 0.6888489325841268 and parameters: {'window_size': 100, 'step_size': 25}. Best is trial 0 with value: 0.7339285810788473.\n",
            "[I 2025-06-17 15:52:42,344] Trial 4 finished with value: 0.6302469174067179 and parameters: {'window_size': 200, 'step_size': 25}. Best is trial 0 with value: 0.7339285810788473.\n",
            "[I 2025-06-17 15:53:16,747] Trial 5 finished with value: 0.6525735358397166 and parameters: {'window_size': 200, 'step_size': 100}. Best is trial 0 with value: 0.7339285810788473.\n",
            "[I 2025-06-17 15:53:57,629] Trial 6 finished with value: 0.6376262704531351 and parameters: {'window_size': 300, 'step_size': 100}. Best is trial 0 with value: 0.7339285810788473.\n",
            "[I 2025-06-17 15:54:45,892] Trial 7 finished with value: 0.6498161753018697 and parameters: {'window_size': 200, 'step_size': 50}. Best is trial 0 with value: 0.7339285810788473.\n",
            "[I 2025-06-17 15:55:21,613] Trial 8 finished with value: 0.7370370427767435 and parameters: {'window_size': 200, 'step_size': 75}. Best is trial 8 with value: 0.7370370427767435.\n",
            "[I 2025-06-17 15:56:11,545] Trial 9 finished with value: 0.6896446148554484 and parameters: {'window_size': 200, 'step_size': 50}. Best is trial 8 with value: 0.7370370427767435.\n",
            "[I 2025-06-17 15:56:47,610] Trial 10 finished with value: 0.6259469787279764 and parameters: {'window_size': 350, 'step_size': 150}. Best is trial 8 with value: 0.7370370427767435.\n",
            "[I 2025-06-17 15:57:36,364] Trial 11 finished with value: 0.6775568127632141 and parameters: {'window_size': 300, 'step_size': 75}. Best is trial 8 with value: 0.7370370427767435.\n",
            "[I 2025-06-17 15:58:08,063] Trial 12 finished with value: 0.6696428457895914 and parameters: {'window_size': 150, 'step_size': 125}. Best is trial 8 with value: 0.7370370427767435.\n",
            "[I 2025-06-17 15:58:49,028] Trial 13 finished with value: 0.6907407442728678 and parameters: {'window_size': 250, 'step_size': 75}. Best is trial 8 with value: 0.7370370427767435.\n",
            "[I 2025-06-17 15:59:31,262] Trial 14 finished with value: 0.7080313861370087 and parameters: {'window_size': 150, 'step_size': 50}. Best is trial 8 with value: 0.7370370427767435.\n",
            "[I 2025-06-17 15:59:58,119] Trial 15 finished with value: 0.6369047661622366 and parameters: {'window_size': 100, 'step_size': 100}. Best is trial 8 with value: 0.7370370427767435.\n",
            "[I 2025-06-17 16:01:30,345] Trial 16 finished with value: 0.6531955003738403 and parameters: {'window_size': 250, 'step_size': 25}. Best is trial 8 with value: 0.7370370427767435.\n",
            "[I 2025-06-17 16:02:01,017] Trial 17 finished with value: 0.7008928656578064 and parameters: {'window_size': 150, 'step_size': 125}. Best is trial 8 with value: 0.7370370427767435.\n",
            "[I 2025-06-17 16:02:47,764] Trial 18 finished with value: 0.6534090836842855 and parameters: {'window_size': 300, 'step_size': 75}. Best is trial 8 with value: 0.7370370427767435.\n",
            "[I 2025-06-17 16:03:21,568] Trial 19 finished with value: 0.6830357213815054 and parameters: {'window_size': 100, 'step_size': 50}. Best is trial 8 with value: 0.7370370427767435.\n",
            "[I 2025-06-17 16:03:21,570] A new study created in memory with name: no-name-8512e5fe-26fc-4a2b-ae90-c798e45685ae\n"
          ]
        },
        {
          "output_type": "stream",
          "name": "stdout",
          "text": [
            "CNN → best avg acc 0.7370\n",
            "CNN → best WINDOW, STEP = (200, 75)\n",
            "\n",
            "=== OPTUNA: tuning pipeline (CNN-LSTM) ===\n"
          ]
        },
        {
          "output_type": "stream",
          "name": "stderr",
          "text": [
            "[I 2025-06-17 16:03:53,478] Trial 0 finished with value: 0.6635802487532297 and parameters: {'window_size': 200, 'step_size': 125}. Best is trial 0 with value: 0.6635802487532297.\n",
            "[I 2025-06-17 16:04:39,342] Trial 1 finished with value: 0.6363636453946432 and parameters: {'window_size': 350, 'step_size': 100}. Best is trial 0 with value: 0.6635802487532297.\n",
            "[I 2025-06-17 16:05:06,896] Trial 2 finished with value: 0.7187499900658926 and parameters: {'window_size': 100, 'step_size': 125}. Best is trial 2 with value: 0.7187499900658926.\n",
            "[I 2025-06-17 16:05:32,007] Trial 3 finished with value: 0.6703869005044302 and parameters: {'window_size': 100, 'step_size': 125}. Best is trial 2 with value: 0.7187499900658926.\n",
            "[I 2025-06-17 16:06:10,684] Trial 4 finished with value: 0.6620370348294576 and parameters: {'window_size': 250, 'step_size': 75}. Best is trial 2 with value: 0.7187499900658926.\n",
            "[I 2025-06-17 16:06:55,787] Trial 5 finished with value: 0.6477272709210714 and parameters: {'window_size': 350, 'step_size': 100}. Best is trial 2 with value: 0.7187499900658926.\n",
            "[I 2025-06-17 16:07:22,767] Trial 6 finished with value: 0.7047101557254791 and parameters: {'window_size': 200, 'step_size': 150}. Best is trial 2 with value: 0.7187499900658926.\n",
            "[I 2025-06-17 16:09:39,934] Trial 7 finished with value: 0.6556847393512726 and parameters: {'window_size': 350, 'step_size': 25}. Best is trial 2 with value: 0.7187499900658926.\n",
            "[I 2025-06-17 16:10:30,569] Trial 8 finished with value: 0.6925926009813944 and parameters: {'window_size': 200, 'step_size': 75}. Best is trial 2 with value: 0.7187499900658926.\n",
            "[I 2025-06-17 16:10:54,597] Trial 9 finished with value: 0.7172619104385376 and parameters: {'window_size': 150, 'step_size': 125}. Best is trial 2 with value: 0.7187499900658926.\n",
            "[I 2025-06-17 16:11:54,430] Trial 10 finished with value: 0.6773081521193186 and parameters: {'window_size': 100, 'step_size': 25}. Best is trial 2 with value: 0.7187499900658926.\n",
            "[I 2025-06-17 16:12:21,555] Trial 11 finished with value: 0.7047101457913717 and parameters: {'window_size': 150, 'step_size': 150}. Best is trial 2 with value: 0.7187499900658926.\n",
            "[I 2025-06-17 16:12:51,094] Trial 12 finished with value: 0.642857144276301 and parameters: {'window_size': 150, 'step_size': 125}. Best is trial 2 with value: 0.7187499900658926.\n",
            "[I 2025-06-17 16:13:15,338] Trial 13 finished with value: 0.7566964427630106 and parameters: {'window_size': 100, 'step_size': 125}. Best is trial 13 with value: 0.7566964427630106.\n",
            "[I 2025-06-17 16:13:36,918] Trial 14 finished with value: 0.6901041666666666 and parameters: {'window_size': 100, 'step_size': 150}. Best is trial 13 with value: 0.7566964427630106.\n",
            "[I 2025-06-17 16:14:09,461] Trial 15 finished with value: 0.6194852789243063 and parameters: {'window_size': 250, 'step_size': 100}. Best is trial 13 with value: 0.7566964427630106.\n",
            "[I 2025-06-17 16:14:45,451] Trial 16 finished with value: 0.6898809472719828 and parameters: {'window_size': 100, 'step_size': 50}. Best is trial 13 with value: 0.7566964427630106.\n",
            "[I 2025-06-17 16:15:15,447] Trial 17 finished with value: 0.7120535572369894 and parameters: {'window_size': 150, 'step_size': 125}. Best is trial 13 with value: 0.7566964427630106.\n",
            "[I 2025-06-17 16:15:45,235] Trial 18 finished with value: 0.6708333392937978 and parameters: {'window_size': 100, 'step_size': 100}. Best is trial 13 with value: 0.7566964427630106.\n",
            "[I 2025-06-17 16:16:17,525] Trial 19 finished with value: 0.658143937587738 and parameters: {'window_size': 300, 'step_size': 150}. Best is trial 13 with value: 0.7566964427630106.\n",
            "[I 2025-06-17 16:16:17,526] A new study created in memory with name: no-name-c5d127c1-73e1-456c-8bed-9833f04f85c2\n"
          ]
        },
        {
          "output_type": "stream",
          "name": "stdout",
          "text": [
            "CNN-LSTM → best avg acc 0.7567\n",
            "CNN-LSTM → best WINDOW, STEP = (100, 125)\n",
            "\n",
            "=== OPTUNA: tuning pipeline (TCN) ===\n"
          ]
        },
        {
          "output_type": "stream",
          "name": "stderr",
          "text": [
            "[I 2025-06-17 16:17:01,531] Trial 0 finished with value: 0.623106062412262 and parameters: {'window_size': 300, 'step_size': 100}. Best is trial 0 with value: 0.623106062412262.\n",
            "[I 2025-06-17 16:19:03,172] Trial 1 finished with value: 0.7097868323326111 and parameters: {'window_size': 350, 'step_size': 25}. Best is trial 1 with value: 0.7097868323326111.\n",
            "[I 2025-06-17 16:19:58,405] Trial 2 finished with value: 0.686274508635203 and parameters: {'window_size': 250, 'step_size': 100}. Best is trial 1 with value: 0.7097868323326111.\n",
            "[I 2025-06-17 16:20:34,780] Trial 3 finished with value: 0.7182971040407816 and parameters: {'window_size': 200, 'step_size': 150}. Best is trial 3 with value: 0.7182971040407816.\n",
            "[I 2025-06-17 16:21:16,025] Trial 4 finished with value: 0.7689393957455953 and parameters: {'window_size': 350, 'step_size': 150}. Best is trial 4 with value: 0.7689393957455953.\n",
            "[I 2025-06-17 16:23:11,319] Trial 5 finished with value: 0.7067183454831442 and parameters: {'window_size': 350, 'step_size': 25}. Best is trial 4 with value: 0.7689393957455953.\n",
            "[I 2025-06-17 16:23:46,297] Trial 6 finished with value: 0.6833333273728689 and parameters: {'window_size': 100, 'step_size': 100}. Best is trial 4 with value: 0.7689393957455953.\n",
            "[I 2025-06-17 16:24:34,968] Trial 7 finished with value: 0.6603535413742065 and parameters: {'window_size': 350, 'step_size': 100}. Best is trial 4 with value: 0.7689393957455953.\n",
            "[I 2025-06-17 16:25:21,466] Trial 8 finished with value: 0.6439951062202454 and parameters: {'window_size': 250, 'step_size': 100}. Best is trial 4 with value: 0.7689393957455953.\n",
            "[I 2025-06-17 16:27:07,687] Trial 9 finished with value: 0.7034774521986643 and parameters: {'window_size': 250, 'step_size': 25}. Best is trial 4 with value: 0.7689393957455953.\n",
            "[I 2025-06-17 16:27:41,822] Trial 10 finished with value: 0.7048611243565878 and parameters: {'window_size': 100, 'step_size': 150}. Best is trial 4 with value: 0.7689393957455953.\n",
            "[I 2025-06-17 16:28:17,285] Trial 11 finished with value: 0.6893116037050883 and parameters: {'window_size': 150, 'step_size': 150}. Best is trial 4 with value: 0.7689393957455953.\n",
            "[I 2025-06-17 16:28:54,373] Trial 12 finished with value: 0.6367753545443217 and parameters: {'window_size': 200, 'step_size': 150}. Best is trial 4 with value: 0.7689393957455953.\n",
            "[I 2025-06-17 16:29:33,328] Trial 13 finished with value: 0.6913580099741617 and parameters: {'window_size': 200, 'step_size': 125}. Best is trial 4 with value: 0.7689393957455953.\n",
            "[I 2025-06-17 16:30:12,681] Trial 14 finished with value: 0.577160487572352 and parameters: {'window_size': 300, 'step_size': 125}. Best is trial 4 with value: 0.7689393957455953.\n",
            "[I 2025-06-17 16:31:03,776] Trial 15 finished with value: 0.6334540943304697 and parameters: {'window_size': 150, 'step_size': 50}. Best is trial 4 with value: 0.7689393957455953.\n",
            "[I 2025-06-17 16:31:48,206] Trial 16 finished with value: 0.6111111144224802 and parameters: {'window_size': 300, 'step_size': 125}. Best is trial 4 with value: 0.7689393957455953.\n",
            "[I 2025-06-17 16:32:31,465] Trial 17 finished with value: 0.6879529058933258 and parameters: {'window_size': 150, 'step_size': 75}. Best is trial 4 with value: 0.7689393957455953.\n",
            "[I 2025-06-17 16:33:08,104] Trial 18 finished with value: 0.6648550629615784 and parameters: {'window_size': 200, 'step_size': 150}. Best is trial 4 with value: 0.7689393957455953.\n",
            "[I 2025-06-17 16:33:49,481] Trial 19 finished with value: 0.6080246865749359 and parameters: {'window_size': 300, 'step_size': 125}. Best is trial 4 with value: 0.7689393957455953.\n",
            "[I 2025-06-17 16:33:49,482] A new study created in memory with name: no-name-07076fc9-f8fb-4289-b4e1-3c95b4b5541d\n"
          ]
        },
        {
          "output_type": "stream",
          "name": "stdout",
          "text": [
            "TCN → best avg acc 0.7689\n",
            "TCN → best WINDOW, STEP = (350, 150)\n",
            "\n",
            "=== OPTUNA: tuning pipeline (EEGNet) ===\n"
          ]
        },
        {
          "output_type": "stream",
          "name": "stderr",
          "text": [
            "[I 2025-06-17 16:34:27,927] Trial 0 finished with value: 0.7166666686534882 and parameters: {'window_size': 150, 'step_size': 100}. Best is trial 0 with value: 0.7166666686534882.\n",
            "[I 2025-06-17 16:36:43,109] Trial 1 finished with value: 0.74577068289121 and parameters: {'window_size': 250, 'step_size': 25}. Best is trial 1 with value: 0.74577068289121.\n",
            "[I 2025-06-17 16:37:14,447] Trial 2 finished with value: 0.6597222338120142 and parameters: {'window_size': 100, 'step_size': 150}. Best is trial 1 with value: 0.74577068289121.\n",
            "[I 2025-06-17 16:37:52,880] Trial 3 finished with value: 0.7285714348157247 and parameters: {'window_size': 150, 'step_size': 100}. Best is trial 1 with value: 0.74577068289121.\n",
            "[I 2025-06-17 16:39:26,436] Trial 4 finished with value: 0.736858973900477 and parameters: {'window_size': 350, 'step_size': 50}. Best is trial 1 with value: 0.74577068289121.\n",
            "[I 2025-06-17 16:40:37,817] Trial 5 finished with value: 0.6841085155804952 and parameters: {'window_size': 350, 'step_size': 75}. Best is trial 1 with value: 0.74577068289121.\n",
            "[I 2025-06-17 16:41:16,468] Trial 6 finished with value: 0.7400362292925516 and parameters: {'window_size': 200, 'step_size': 150}. Best is trial 1 with value: 0.74577068289121.\n",
            "[I 2025-06-17 16:42:06,759] Trial 7 finished with value: 0.6560185253620148 and parameters: {'window_size': 200, 'step_size': 75}. Best is trial 1 with value: 0.74577068289121.\n",
            "[I 2025-06-17 16:43:08,103] Trial 8 finished with value: 0.7466787397861481 and parameters: {'window_size': 150, 'step_size': 50}. Best is trial 8 with value: 0.7466787397861481.\n",
            "[I 2025-06-17 16:45:01,056] Trial 9 finished with value: 0.6816358168919882 and parameters: {'window_size': 200, 'step_size': 25}. Best is trial 8 with value: 0.7466787397861481.\n",
            "[I 2025-06-17 16:45:47,631] Trial 10 finished with value: 0.7625000178813934 and parameters: {'window_size': 100, 'step_size': 50}. Best is trial 10 with value: 0.7625000178813934.\n",
            "[I 2025-06-17 16:46:33,708] Trial 11 finished with value: 0.732142855723699 and parameters: {'window_size': 100, 'step_size': 50}. Best is trial 10 with value: 0.7625000178813934.\n",
            "[I 2025-06-17 16:47:24,149] Trial 12 finished with value: 0.6255952479938666 and parameters: {'window_size': 100, 'step_size': 50}. Best is trial 10 with value: 0.7625000178813934.\n",
            "[I 2025-06-17 16:48:24,765] Trial 13 finished with value: 0.7324879268805186 and parameters: {'window_size': 150, 'step_size': 50}. Best is trial 10 with value: 0.7625000178813934.\n",
            "[I 2025-06-17 16:50:41,324] Trial 14 finished with value: 0.8142230610052744 and parameters: {'window_size': 250, 'step_size': 25}. Best is trial 14 with value: 0.8142230610052744.\n",
            "[I 2025-06-17 16:53:22,155] Trial 15 finished with value: 0.765744278828303 and parameters: {'window_size': 300, 'step_size': 25}. Best is trial 14 with value: 0.8142230610052744.\n",
            "[I 2025-06-17 16:55:59,665] Trial 16 finished with value: 0.7229643861452738 and parameters: {'window_size': 300, 'step_size': 25}. Best is trial 14 with value: 0.8142230610052744.\n",
            "[I 2025-06-17 16:56:49,165] Trial 17 finished with value: 0.6111111044883728 and parameters: {'window_size': 300, 'step_size': 125}. Best is trial 14 with value: 0.8142230610052744.\n",
            "[I 2025-06-17 16:59:28,280] Trial 18 finished with value: 0.7576335867245992 and parameters: {'window_size': 300, 'step_size': 25}. Best is trial 14 with value: 0.8142230610052744.\n",
            "[I 2025-06-17 17:00:25,337] Trial 19 finished with value: 0.6712962985038757 and parameters: {'window_size': 250, 'step_size': 75}. Best is trial 14 with value: 0.8142230610052744.\n"
          ]
        },
        {
          "output_type": "stream",
          "name": "stdout",
          "text": [
            "EEGNet → best avg acc 0.8142\n",
            "EEGNet → best WINDOW, STEP = (250, 25)\n"
          ]
        }
      ]
    },
    {
      "cell_type": "code",
      "execution_count": 23,
      "metadata": {
        "colab": {
          "base_uri": "https://localhost:8080/"
        },
        "id": "_SW2cyvB6iCx",
        "outputId": "4a1a2754-deb7-44bf-ce39-f490f02c55b7"
      },
      "outputs": [
        {
          "output_type": "stream",
          "name": "stdout",
          "text": [
            "\n",
            "=== KT: tuning model (CNN) on WINDOW=200,STEP=75 ===\n",
            "Reloading Tuner from kt_logs/CNN/tuner0.json\n",
            "CNN → best model HPs: {'learning_rate': 0.01}\n",
            "\n",
            "=== KT: tuning model (CNN-LSTM) on WINDOW=100,STEP=125 ===\n",
            "Reloading Tuner from kt_logs/CNN-LSTM/tuner0.json\n",
            "CNN-LSTM → best model HPs: {'learning_rate': 0.0001}\n",
            "\n",
            "=== KT: tuning model (TCN) on WINDOW=350,STEP=150 ===\n",
            "Reloading Tuner from kt_logs/TCN/tuner0.json\n",
            "TCN → best model HPs: {'learning_rate': 0.001}\n",
            "\n",
            "=== KT: tuning model (EEGNet) on WINDOW=250,STEP=25 ===\n",
            "Reloading Tuner from kt_logs/EEGNet/tuner0.json\n",
            "EEGNet → best model HPs: {'learning_rate': 0.01}\n"
          ]
        }
      ],
      "source": [
        "# 7) PHASE 2 – KERAS-TUNER FOR MODEL HYPERPARAMETERS\n",
        "results = {}\n",
        "for name, (builder, fmt) in model_configs.items():\n",
        "    w, s = best_window_step[name]\n",
        "    print(f\"\\n=== KT: tuning model ({name}) on WINDOW={w},STEP={s} ===\")\n",
        "    WINDOW_SIZE, STEP = w, s\n",
        "    X, y = preprocess_pipeline(CROSS_TRAIN_DIR, True, fmt)\n",
        "    Xtr, Xval, ytr, yval = train_test_split(X, y, test_size=0.2, random_state=42)\n",
        "\n",
        "    def build_model_hp(hp):\n",
        "        num_classes = len(np.unique(y))\n",
        "        model = builder(Xtr.shape[1:], num_classes)\n",
        "        # Tune learning rate:\n",
        "        lr = hp.Choice(\"learning_rate\", [1e-2, 1e-3, 1e-4])\n",
        "        model.compile(\n",
        "            optimizer=__import__('tensorflow').keras.optimizers.Adam(lr),\n",
        "            loss=\"sparse_categorical_crossentropy\",\n",
        "            metrics=[\"accuracy\"]\n",
        "        )\n",
        "        return model\n",
        "\n",
        "    tuner = kt.RandomSearch(\n",
        "        hypermodel=build_model_hp,\n",
        "        objective=\"val_accuracy\",\n",
        "        max_trials=10,\n",
        "        executions_per_trial=1,\n",
        "        directory=\"kt_logs\",\n",
        "        project_name=name\n",
        "    )\n",
        "    tuner.search(Xtr, ytr, validation_data=(Xval, yval), epochs=10, batch_size=32, verbose=1)\n",
        "\n",
        "    best_hp = tuner.get_best_hyperparameters(1)[0]\n",
        "    results[name] = best_hp.values\n",
        "    print(f\"{name} → best model HPs: {best_hp.values}\")"
      ]
    },
    {
      "cell_type": "code",
      "execution_count": 24,
      "metadata": {
        "id": "r5uWCPm4_BTI",
        "colab": {
          "base_uri": "https://localhost:8080/"
        },
        "outputId": "3cde973c-6bcc-4c0c-ed72-12f1d2cc550d"
      },
      "outputs": [
        {
          "output_type": "stream",
          "name": "stdout",
          "text": [
            "Best window/step per model: {'CNN': (200, 75), 'CNN-LSTM': (100, 125), 'TCN': (350, 150), 'EEGNet': (250, 25)}\n",
            "Best model hyperparameters per model: {'CNN': {'learning_rate': 0.01}, 'CNN-LSTM': {'learning_rate': 0.0001}, 'TCN': {'learning_rate': 0.001}, 'EEGNet': {'learning_rate': 0.01}}\n"
          ]
        }
      ],
      "source": [
        "# final outputs:\n",
        "print(\"Best window/step per model:\", best_window_step)\n",
        "print(\"Best model hyperparameters per model:\", results)"
      ]
    },
    {
      "cell_type": "code",
      "execution_count": 25,
      "metadata": {
        "id": "ENQLliWe1NIZ",
        "outputId": "8d972eed-c23a-4626-fce9-a32f5303c00a",
        "colab": {
          "base_uri": "https://localhost:8080/"
        }
      },
      "outputs": [
        {
          "output_type": "stream",
          "name": "stdout",
          "text": [
            "CNN Accuracy on Test Set 1: 93.75%\n",
            "CNN Accuracy on Test Set 2: 44.21%\n",
            "CNN Accuracy on Test Set 3: 82.41%\n",
            "CNN Average accuracy: 73.46%\n",
            "\n",
            "CNN-LSTM Accuracy on Test Set 1: 96.06%\n",
            "CNN-LSTM Accuracy on Test Set 2: 43.06%\n",
            "CNN-LSTM Accuracy on Test Set 3: 87.50%\n",
            "CNN-LSTM Average accuracy: 75.54%\n",
            "\n",
            "TCN Accuracy on Test Set 1: 94.68%\n",
            "TCN Accuracy on Test Set 2: 57.64%\n",
            "TCN Accuracy on Test Set 3: 78.70%\n",
            "TCN Average accuracy: 77.01%\n",
            "\n",
            "EEGNet Accuracy on Test Set 1: 96.62%\n",
            "EEGNet Accuracy on Test Set 2: 49.39%\n",
            "EEGNet Accuracy on Test Set 3: 98.26%\n",
            "EEGNet Average accuracy: 81.42%\n"
          ]
        }
      ],
      "source": [
        "import numpy as np\n",
        "\n",
        "# --- Assign the best models from your Optuna containers ---\n",
        "best_model_cnn   = best_models[\"CNN\"]\n",
        "best_model_lstm = best_models[\"CNN-LSTM\"]\n",
        "best_model_tcn   = best_models[\"TCN\"]\n",
        "best_model_eeg   = best_models[\"EEGNet\"]\n",
        "\n",
        "# --- Prepare EEGNet test data (2D) ---\n",
        "X_test1_2D, y_test1_2D = preprocess_pipeline(TEST1_DIR, is_training=False, output_format='2d')\n",
        "X_test2_2D, y_test2_2D = preprocess_pipeline(TEST2_DIR, is_training=False, output_format='2d')\n",
        "X_test3_2D, y_test3_2D = preprocess_pipeline(TEST3_DIR, is_training=False, output_format='2d')\n",
        "\n",
        "# --- Evaluate best CNN (1D) ---\n",
        "cnn_accs = []\n",
        "for i, (X_test, y_test) in enumerate([\n",
        "        (X_test1_1D, y_test1_1D_final),\n",
        "        (X_test2_1D, y_test2_1D_final),\n",
        "        (X_test3_1D, y_test3_1D_final)\n",
        "    ], 1):\n",
        "    loss, acc = best_model_cnn.evaluate(X_test, y_test, verbose=0)\n",
        "    print(f\"CNN Accuracy on Test Set {i}: {acc*100:.2f}%\")\n",
        "    cnn_accs.append(acc)\n",
        "print(f\"CNN Average accuracy: {np.mean(cnn_accs)*100:.2f}%\\n\")\n",
        "\n",
        "# --- Evaluate best CNN-LSTM (1D) ---\n",
        "lstm_accs = []\n",
        "for i, (X_test, y_test) in enumerate([\n",
        "        (X_test1_1D, y_test1_1D_final),\n",
        "        (X_test2_1D, y_test2_1D_final),\n",
        "        (X_test3_1D, y_test3_1D_final)\n",
        "    ], 1):\n",
        "    loss, acc = best_model_lstm.evaluate(X_test, y_test, verbose=0)\n",
        "    print(f\"CNN-LSTM Accuracy on Test Set {i}: {acc*100:.2f}%\")\n",
        "    lstm_accs.append(acc)\n",
        "print(f\"CNN-LSTM Average accuracy: {np.mean(lstm_accs)*100:.2f}%\\n\")\n",
        "\n",
        "# --- Evaluate best TCN (1D) ---\n",
        "tcn_accs = []\n",
        "for i, (X_test, y_test) in enumerate([\n",
        "        (X_test1_1D, y_test1_1D_final),\n",
        "        (X_test2_1D, y_test2_1D_final),\n",
        "        (X_test3_1D, y_test3_1D_final)\n",
        "    ], 1):\n",
        "    loss, acc = best_model_tcn.evaluate(X_test, y_test, verbose=0)\n",
        "    print(f\"TCN Accuracy on Test Set {i}: {acc*100:.2f}%\")\n",
        "    tcn_accs.append(acc)\n",
        "print(f\"TCN Average accuracy: {np.mean(tcn_accs)*100:.2f}%\\n\")\n",
        "\n",
        "# --- Evaluate best EEGNet (2D) ---\n",
        "eegnet_accs = []\n",
        "for i, (X_test, y_test) in enumerate([\n",
        "        (X_test1_2D, y_test1_2D),\n",
        "        (X_test2_2D, y_test2_2D),\n",
        "        (X_test3_2D, y_test3_2D)\n",
        "    ], 1):\n",
        "    loss, acc = best_model_eeg.evaluate(X_test, y_test, verbose=0)\n",
        "    print(f\"EEGNet Accuracy on Test Set {i}: {acc*100:.2f}%\")\n",
        "    eegnet_accs.append(acc)\n",
        "print(f\"EEGNet Average accuracy: {np.mean(eegnet_accs)*100:.2f}%\")"
      ]
    },
    {
      "cell_type": "code",
      "execution_count": 31,
      "metadata": {
        "id": "5bgrUr8z1NIa",
        "outputId": "91a20c46-37bc-4805-fa70-a53f9ba20936",
        "colab": {
          "base_uri": "https://localhost:8080/",
          "height": 1000
        }
      },
      "outputs": [
        {
          "output_type": "display_data",
          "data": {
            "text/plain": [
              "<Figure size 1400x1000 with 1 Axes>"
            ],
            "image/png": "[encoded data removed]"
          },
          "metadata": {}
        },
        {
          "output_type": "display_data",
          "data": {
            "text/plain": [
              "<Figure size 1000x600 with 1 Axes>"
            ],
            "image/png": "[encoded data removed]"
          },
          "metadata": {}
        }
      ],
      "source": [
        "import numpy as np\n",
        "import matplotlib.pyplot as plt\n",
        "\n",
        "# --- Evaluate all four best models on their test sets ---\n",
        "\n",
        "# 1D test data already loaded as X_test1_1D, y_test1_1D_final, etc.\n",
        "# 2D EEGNet test data:\n",
        "X_test1_2D, y_test1_2D = preprocess_pipeline(TEST1_DIR, is_training=False, output_format='2d')\n",
        "X_test2_2D, y_test2_2D = preprocess_pipeline(TEST2_DIR, is_training=False, output_format='2d')\n",
        "X_test3_2D, y_test3_2D = preprocess_pipeline(TEST3_DIR, is_training=False, output_format='2d')\n",
        "\n",
        "# CNN\n",
        "_, acc1_simple_cnn = best_model_cnn.evaluate(X_test1_1D, y_test1_1D_final, verbose=0)\n",
        "_, acc2_simple_cnn = best_model_cnn.evaluate(X_test2_1D, y_test2_1D_final, verbose=0)\n",
        "_, acc3_simple_cnn = best_model_cnn.evaluate(X_test3_1D, y_test3_1D_final, verbose=0)\n",
        "\n",
        "# CNN-LSTM\n",
        "_, acc1_hybrid = best_model_lstm.evaluate(X_test1_1D, y_test1_1D_final, verbose=0)\n",
        "_, acc2_hybrid = best_model_lstm.evaluate(X_test2_1D, y_test2_1D_final, verbose=0)\n",
        "_, acc3_hybrid = best_model_lstm.evaluate(X_test3_1D, y_test3_1D_final, verbose=0)\n",
        "\n",
        "# TCN\n",
        "_, acc1_tcn = best_model_tcn.evaluate(X_test1_1D, y_test1_1D_final, verbose=0)\n",
        "_, acc2_tcn = best_model_tcn.evaluate(X_test2_1D, y_test2_1D_final, verbose=0)\n",
        "_, acc3_tcn = best_model_tcn.evaluate(X_test3_1D, y_test3_1D_final, verbose=0)\n",
        "\n",
        "# EEGNet\n",
        "_, acc1_eegnet = best_model_eeg.evaluate(X_test1_2D, y_test1_2D, verbose=0)\n",
        "_, acc2_eegnet = best_model_eeg.evaluate(X_test2_2D, y_test2_2D, verbose=0)\n",
        "_, acc3_eegnet = best_model_eeg.evaluate(X_test3_2D, y_test3_2D, verbose=0)\n",
        "\n",
        "# Convert to percentages\n",
        "cnn_accs    = [acc1_simple_cnn*100, acc2_simple_cnn*100, acc3_simple_cnn*100]\n",
        "lstm_accs   = [acc1_hybrid*100,       acc2_hybrid*100,       acc3_hybrid*100]\n",
        "tcn_accs    = [acc1_tcn*100,          acc2_tcn*100,          acc3_tcn*100]\n",
        "eegnet_accs = [acc1_eegnet*100,       acc2_eegnet*100,       acc3_eegnet*100]\n",
        "\n",
        "test_sets = ['Test Set 1', 'Test Set 2', 'Test Set 3']\n",
        "x = np.arange(len(test_sets))\n",
        "width = 0.2\n",
        "\n",
        "# === Grouped Bar Plot ===\n",
        "plt.figure(figsize=(14,10))\n",
        "plt.bar(x - 1.5*width, cnn_accs,    width, label='CNN')\n",
        "plt.bar(x - 0.5*width, lstm_accs,   width, label='CNN-LSTM')\n",
        "plt.bar(x + 0.5*width, tcn_accs,    width, label='TCN')\n",
        "plt.bar(x + 1.5*width, eegnet_accs, width, label='EEGNet')\n",
        "for bar in plt.gca().patches:\n",
        "    h = bar.get_height()\n",
        "    plt.text(\n",
        "        bar.get_x() + bar.get_width()/2,  # x = bar center\n",
        "        h + 1,                            # y = just above bar\n",
        "        f\"{h:.1f}%\",                      # label\n",
        "        ha='center', va='bottom'\n",
        "    )\n",
        "plt.ylabel('Accuracy (%)')\n",
        "plt.title('Model Accuracy on Test Sets')\n",
        "plt.xticks(x, test_sets)\n",
        "plt.ylim(0, 110)\n",
        "plt.legend()\n",
        "plt.grid(axis='y', linestyle='--', alpha=0.5)\n",
        "plt.tight_layout()\n",
        "plt.show()\n",
        "\n",
        "# === Line Plot for Model Trends ===\n",
        "plt.figure(figsize=(10,6))\n",
        "plt.plot(test_sets, cnn_accs,    marker='o', label='CNN')\n",
        "plt.plot(test_sets, lstm_accs,   marker='o', label='CNN-LSTM')\n",
        "plt.plot(test_sets, tcn_accs,    marker='o', label='TCN')\n",
        "plt.plot(test_sets, eegnet_accs, marker='o', label='EEGNet')\n",
        "\n",
        "plt.ylabel('Accuracy (%)')\n",
        "plt.title('Model Performance Trends Across Test Sets')\n",
        "plt.ylim(0, 100)\n",
        "plt.legend()\n",
        "plt.grid(True, linestyle='--', alpha=0.5)\n",
        "plt.tight_layout()\n",
        "plt.show()"
      ]
    },
    {
      "cell_type": "code",
      "source": [
        "from sklearn.metrics import classification_report, confusion_matrix\n",
        "import numpy as np\n",
        "\n",
        "# --- Prepare test sets for 1D models (CNN, CNN-LSTM, TCN) ---\n",
        "test_data_1d = {\n",
        "    \"Test Set 1\": (X_test1_1D, y_test1_1D_final),\n",
        "    \"Test Set 2\": (X_test2_1D, y_test2_1D_final),\n",
        "    \"Test Set 3\": (X_test3_1D, y_test3_1D_final),\n",
        "}\n",
        "\n",
        "# --- Prepare test sets for EEGNet (2D) ---\n",
        "X_test1_2D, y_test1_2D = preprocess_pipeline(TEST1_DIR, is_training=False, output_format='2d')\n",
        "X_test2_2D, y_test2_2D = preprocess_pipeline(TEST2_DIR, is_training=False, output_format='2d')\n",
        "X_test3_2D, y_test3_2D = preprocess_pipeline(TEST3_DIR, is_training=False, output_format='2d')\n",
        "test_data_2d = {\n",
        "    \"Test Set 1\": (X_test1_2D, y_test1_2D),\n",
        "    \"Test Set 2\": (X_test2_2D, y_test2_2D),\n",
        "    \"Test Set 3\": (X_test3_2D, y_test3_2D),\n",
        "}\n",
        "\n",
        "models = {\n",
        "    \"CNN\":      best_models[\"CNN\"],\n",
        "    \"CNN-LSTM\": best_models[\"CNN-LSTM\"],\n",
        "    \"TCN\":      best_models[\"TCN\"],\n",
        "    \"EEGNet\":   best_models[\"EEGNet\"],\n",
        "}\n",
        "\n",
        "for name, model in models.items():\n",
        "    print(f\"\\n=== {name} ===\\n\")\n",
        "    data_dict = test_data_2d if name == \"EEGNet\" else test_data_1d\n",
        "\n",
        "    for ds_name, (X_test, y_test) in data_dict.items():\n",
        "        # predict\n",
        "        y_pred_probs = model.predict(X_test, verbose=0)\n",
        "        y_pred = np.argmax(y_pred_probs, axis=1)\n",
        "\n",
        "        # classification report\n",
        "        print(f\"--- {ds_name} ---\")\n",
        "        print(classification_report(\n",
        "            y_test, y_pred,\n",
        "            target_names=TASKS,\n",
        "            digits=4\n",
        "        ))\n",
        "\n",
        "        # confusion matrix\n",
        "        cm = confusion_matrix(y_test, y_pred)\n",
        "        print(\"Confusion matrix:\")\n",
        "        print(cm)\n",
        "        print()\n"
      ],
      "metadata": {
        "colab": {
          "base_uri": "https://localhost:8080/"
        },
        "id": "_RGIQ23pDWVN",
        "outputId": "c24f050b-bf39-4098-b2c7-c90f20b967d1"
      },
      "execution_count": 36,
      "outputs": [
        {
          "output_type": "stream",
          "name": "stdout",
          "text": [
            "\n",
            "=== CNN ===\n",
            "\n",
            "--- Test Set 1 ---\n",
            "                     precision    recall  f1-score   support\n",
            "\n",
            "               rest     1.0000    1.0000    1.0000       108\n",
            "         task_motor     0.8000    1.0000    0.8889       108\n",
            "    task_story_math     1.0000    1.0000    1.0000       108\n",
            "task_working_memory     1.0000    0.7500    0.8571       108\n",
            "\n",
            "           accuracy                         0.9375       432\n",
            "          macro avg     0.9500    0.9375    0.9365       432\n",
            "       weighted avg     0.9500    0.9375    0.9365       432\n",
            "\n",
            "Confusion matrix:\n",
            "[[108   0   0   0]\n",
            " [  0 108   0   0]\n",
            " [  0   0 108   0]\n",
            " [  0  27   0  81]]\n",
            "\n",
            "--- Test Set 2 ---\n",
            "                     precision    recall  f1-score   support\n",
            "\n",
            "               rest     1.0000    1.0000    1.0000       108\n",
            "         task_motor     0.4346    0.7685    0.5552       108\n",
            "    task_story_math     0.0000    0.0000    0.0000       108\n",
            "task_working_memory     0.0000    0.0000    0.0000       108\n",
            "\n",
            "           accuracy                         0.4421       432\n",
            "          macro avg     0.3586    0.4421    0.3888       432\n",
            "       weighted avg     0.3586    0.4421    0.3888       432\n",
            "\n",
            "Confusion matrix:\n",
            "[[108   0   0   0]\n",
            " [  0  83  25   0]\n",
            " [  0 108   0   0]\n",
            " [  0   0 108   0]]\n",
            "\n"
          ]
        },
        {
          "output_type": "stream",
          "name": "stderr",
          "text": [
            "/usr/local/lib/python3.11/dist-packages/sklearn/metrics/_classification.py:1565: UndefinedMetricWarning: Precision is ill-defined and being set to 0.0 in labels with no predicted samples. Use `zero_division` parameter to control this behavior.\n",
            "  _warn_prf(average, modifier, f\"{metric.capitalize()} is\", len(result))\n",
            "/usr/local/lib/python3.11/dist-packages/sklearn/metrics/_classification.py:1565: UndefinedMetricWarning: Precision is ill-defined and being set to 0.0 in labels with no predicted samples. Use `zero_division` parameter to control this behavior.\n",
            "  _warn_prf(average, modifier, f\"{metric.capitalize()} is\", len(result))\n",
            "/usr/local/lib/python3.11/dist-packages/sklearn/metrics/_classification.py:1565: UndefinedMetricWarning: Precision is ill-defined and being set to 0.0 in labels with no predicted samples. Use `zero_division` parameter to control this behavior.\n",
            "  _warn_prf(average, modifier, f\"{metric.capitalize()} is\", len(result))\n"
          ]
        },
        {
          "output_type": "stream",
          "name": "stdout",
          "text": [
            "--- Test Set 3 ---\n",
            "                     precision    recall  f1-score   support\n",
            "\n",
            "               rest     1.0000    1.0000    1.0000       108\n",
            "         task_motor     0.5879    0.9907    0.7379       108\n",
            "    task_story_math     0.9706    0.3056    0.4648       108\n",
            "task_working_memory     1.0000    1.0000    1.0000       108\n",
            "\n",
            "           accuracy                         0.8241       432\n",
            "          macro avg     0.8896    0.8241    0.8007       432\n",
            "       weighted avg     0.8896    0.8241    0.8007       432\n",
            "\n",
            "Confusion matrix:\n",
            "[[108   0   0   0]\n",
            " [  0 107   1   0]\n",
            " [  0  75  33   0]\n",
            " [  0   0   0 108]]\n",
            "\n",
            "\n",
            "=== CNN-LSTM ===\n",
            "\n",
            "--- Test Set 1 ---\n",
            "                     precision    recall  f1-score   support\n",
            "\n",
            "               rest     1.0000    1.0000    1.0000       108\n",
            "         task_motor     0.8640    1.0000    0.9270       108\n",
            "    task_story_math     1.0000    1.0000    1.0000       108\n",
            "task_working_memory     1.0000    0.8426    0.9146       108\n",
            "\n",
            "           accuracy                         0.9606       432\n",
            "          macro avg     0.9660    0.9606    0.9604       432\n",
            "       weighted avg     0.9660    0.9606    0.9604       432\n",
            "\n",
            "Confusion matrix:\n",
            "[[108   0   0   0]\n",
            " [  0 108   0   0]\n",
            " [  0   0 108   0]\n",
            " [  0  17   0  91]]\n",
            "\n",
            "--- Test Set 2 ---\n",
            "                     precision    recall  f1-score   support\n",
            "\n",
            "               rest     0.9908    1.0000    0.9954       108\n",
            "         task_motor     0.4194    0.7222    0.5306       108\n",
            "    task_story_math     0.0000    0.0000    0.0000       108\n",
            "task_working_memory     0.0000    0.0000    0.0000       108\n",
            "\n",
            "           accuracy                         0.4306       432\n",
            "          macro avg     0.3525    0.4306    0.3815       432\n",
            "       weighted avg     0.3525    0.4306    0.3815       432\n",
            "\n",
            "Confusion matrix:\n",
            "[[108   0   0   0]\n",
            " [  0  78  21   9]\n",
            " [  0 108   0   0]\n",
            " [  1   0 107   0]]\n",
            "\n",
            "--- Test Set 3 ---\n",
            "                     precision    recall  f1-score   support\n",
            "\n",
            "               rest     0.9908    1.0000    0.9954       108\n",
            "         task_motor     0.6753    0.9630    0.7939       108\n",
            "    task_story_math     0.9508    0.5370    0.6864       108\n",
            "task_working_memory     1.0000    1.0000    1.0000       108\n",
            "\n",
            "           accuracy                         0.8750       432\n",
            "          macro avg     0.9042    0.8750    0.8689       432\n",
            "       weighted avg     0.9042    0.8750    0.8689       432\n",
            "\n",
            "Confusion matrix:\n",
            "[[108   0   0   0]\n",
            " [  1 104   3   0]\n",
            " [  0  50  58   0]\n",
            " [  0   0   0 108]]\n",
            "\n",
            "\n",
            "=== TCN ===\n",
            "\n",
            "--- Test Set 1 ---\n",
            "                     precision    recall  f1-score   support\n",
            "\n",
            "               rest     1.0000    1.0000    1.0000       108\n",
            "         task_motor     0.9000    1.0000    0.9474       108\n",
            "    task_story_math     0.9076    1.0000    0.9515       108\n",
            "task_working_memory     1.0000    0.7870    0.8808       108\n",
            "\n",
            "           accuracy                         0.9468       432\n",
            "          macro avg     0.9519    0.9468    0.9449       432\n",
            "       weighted avg     0.9519    0.9468    0.9449       432\n",
            "\n",
            "Confusion matrix:\n",
            "[[108   0   0   0]\n",
            " [  0 108   0   0]\n",
            " [  0   0 108   0]\n",
            " [  0  12  11  85]]\n",
            "\n",
            "--- Test Set 2 ---\n",
            "                     precision    recall  f1-score   support\n",
            "\n",
            "               rest     0.9076    1.0000    0.9515       108\n",
            "         task_motor     0.3571    0.5556    0.4348       108\n",
            "    task_story_math     0.0000    0.0000    0.0000       108\n",
            "task_working_memory     0.9759    0.7500    0.8482       108\n",
            "\n",
            "           accuracy                         0.5764       432\n",
            "          macro avg     0.5602    0.5764    0.5586       432\n",
            "       weighted avg     0.5602    0.5764    0.5586       432\n",
            "\n",
            "Confusion matrix:\n",
            "[[108   0   0   0]\n",
            " [  0  60  46   2]\n",
            " [  0 108   0   0]\n",
            " [ 11   0  16  81]]\n",
            "\n",
            "--- Test Set 3 ---\n",
            "                     precision    recall  f1-score   support\n",
            "\n",
            "               rest     1.0000    1.0000    1.0000       108\n",
            "         task_motor     0.5548    0.7500    0.6378       108\n",
            "    task_story_math     0.6143    0.3981    0.4831       108\n",
            "task_working_memory     1.0000    1.0000    1.0000       108\n",
            "\n",
            "           accuracy                         0.7870       432\n",
            "          macro avg     0.7923    0.7870    0.7802       432\n",
            "       weighted avg     0.7923    0.7870    0.7802       432\n",
            "\n",
            "Confusion matrix:\n",
            "[[108   0   0   0]\n",
            " [  0  81  27   0]\n",
            " [  0  65  43   0]\n",
            " [  0   0   0 108]]\n",
            "\n",
            "\n",
            "=== EEGNet ===\n",
            "\n",
            "--- Test Set 1 ---\n",
            "                     precision    recall  f1-score   support\n",
            "\n",
            "               rest     0.9907    1.0000    0.9953       532\n",
            "         task_motor     0.9515    0.9211    0.9360       532\n",
            "    task_story_math     1.0000    1.0000    1.0000       532\n",
            "task_working_memory     0.9228    0.9436    0.9331       532\n",
            "\n",
            "           accuracy                         0.9662      2128\n",
            "          macro avg     0.9662    0.9662    0.9661      2128\n",
            "       weighted avg     0.9662    0.9662    0.9661      2128\n",
            "\n",
            "Confusion matrix:\n",
            "[[532   0   0   0]\n",
            " [  0 490   0  42]\n",
            " [  0   0 532   0]\n",
            " [  5  25   0 502]]\n",
            "\n",
            "--- Test Set 2 ---\n",
            "                     precision    recall  f1-score   support\n",
            "\n",
            "               rest     1.0000    1.0000    1.0000       532\n",
            "         task_motor     0.5340    0.9756    0.6902       532\n",
            "    task_story_math     0.0000    0.0000    0.0000       532\n",
            "task_working_memory     0.0000    0.0000    0.0000       532\n",
            "\n",
            "           accuracy                         0.4939      2128\n",
            "          macro avg     0.3835    0.4939    0.4225      2128\n",
            "       weighted avg     0.3835    0.4939    0.4225      2128\n",
            "\n",
            "Confusion matrix:\n",
            "[[532   0   0   0]\n",
            " [  0 519  13   0]\n",
            " [  0 409   0 123]\n",
            " [  0  44 488   0]]\n",
            "\n",
            "--- Test Set 3 ---\n",
            "                     precision    recall  f1-score   support\n",
            "\n",
            "               rest     1.0000    1.0000    1.0000       532\n",
            "         task_motor     0.9350    1.0000    0.9664       532\n",
            "    task_story_math     1.0000    0.9305    0.9640       532\n",
            "task_working_memory     1.0000    1.0000    1.0000       532\n",
            "\n",
            "           accuracy                         0.9826      2128\n",
            "          macro avg     0.9837    0.9826    0.9826      2128\n",
            "       weighted avg     0.9837    0.9826    0.9826      2128\n",
            "\n",
            "Confusion matrix:\n",
            "[[532   0   0   0]\n",
            " [  0 532   0   0]\n",
            " [  0  37 495   0]\n",
            " [  0   0   0 532]]\n",
            "\n"
          ]
        }
      ]
    },
    {
      "cell_type": "code",
      "source": [
        "from sklearn.metrics import classification_report\n",
        "import numpy as np\n",
        "\n",
        "# 1) Stack all three 1D test sets\n",
        "X_test_all_1D = np.concatenate([X_test1_1D, X_test2_1D, X_test3_1D], axis=0)\n",
        "y_test_all_1D = np.concatenate([y_test1_1D_final, y_test2_1D_final, y_test3_1D_final], axis=0)\n",
        "\n",
        "# 2) Stack all three 2D test sets\n",
        "X_test_all_2D = np.concatenate([X_test1_2D, X_test2_2D, X_test3_2D], axis=0)\n",
        "y_test_all_2D = np.concatenate([y_test1_2D,   y_test2_2D,   y_test3_2D],   axis=0)\n",
        "\n",
        "# 3) Get per‐class recall from the classification report for each model\n",
        "def per_class_recall(model, X, y):\n",
        "    y_pred = np.argmax(model.predict(X), axis=1)\n",
        "    rep = classification_report(y, y_pred, target_names=TASKS, output_dict=True)\n",
        "    return [rep[t]['recall'] * 100 for t in TASKS]\n",
        "\n",
        "cnn_accs    = per_class_recall(best_models[\"CNN\"],      X_test_all_1D, y_test_all_1D)\n",
        "lstm_accs   = per_class_recall(best_models[\"CNN-LSTM\"], X_test_all_1D, y_test_all_1D)\n",
        "tcn_accs    = per_class_recall(best_models[\"TCN\"],      X_test_all_1D, y_test_all_1D)\n",
        "eegnet_accs = per_class_recall(best_models[\"EEGNet\"],   X_test_all_2D, y_test_all_2D)\n",
        "\n",
        "# 4) Now draw exactly your same grouped‐bar code:\n",
        "tasks = ['task_motor', 'task_story_math', 'task_working_memory', 'rest']\n",
        "x = np.arange(len(tasks))\n",
        "width = 0.2\n",
        "\n",
        "plt.figure(figsize=(12, 6))\n",
        "plt.bar(x - 1.5*width, cnn_accs,    width, label='CNN')\n",
        "plt.bar(x - 0.5*width, lstm_accs,   width, label='CNN-LSTM')\n",
        "plt.bar(x + 0.5*width, tcn_accs,    width, label='TCN')\n",
        "plt.bar(x + 1.5*width, eegnet_accs, width, label='EEGNet')\n",
        "\n",
        "# Annotate each bar\n",
        "for i in range(len(tasks)):\n",
        "    plt.text(x[i] - 1.5*width, cnn_accs[i]    + 1, f\"{cnn_accs[i]:.1f}%\", ha='center')\n",
        "    plt.text(x[i] - 0.5*width, lstm_accs[i]   + 1, f\"{lstm_accs[i]:.1f}%\", ha='center')\n",
        "    plt.text(x[i] + 0.5*width, tcn_accs[i]    + 1, f\"{tcn_accs[i]:.1f}%\", ha='center')\n",
        "    plt.text(x[i] + 1.5*width, eegnet_accs[i] + 1, f\"{eegnet_accs[i]:.1f}%\", ha='center')\n",
        "\n",
        "plt.ylabel('Accuracy (%)')\n",
        "plt.title('Model Performance Across Different Tasks')\n",
        "plt.xticks(x, tasks)\n",
        "plt.ylim(0, 110)\n",
        "plt.legend(title='Models')\n",
        "plt.grid(axis='y', linestyle='--', alpha=0.5)\n",
        "plt.tight_layout()\n",
        "plt.show()\n"
      ],
      "metadata": {
        "colab": {
          "base_uri": "https://localhost:8080/",
          "height": 676
        },
        "id": "Gk1yYvjWDD1G",
        "outputId": "953c4775-a870-477e-f6c8-717f79d601ce"
      },
      "execution_count": 35,
      "outputs": [
        {
          "output_type": "stream",
          "name": "stdout",
          "text": [
            "\u001b[1m41/41\u001b[0m \u001b[32m━━━━━━━━━━━━━━━━━━━━\u001b[0m\u001b[37m\u001b[0m \u001b[1m2s\u001b[0m 20ms/step\n",
            "\u001b[1m41/41\u001b[0m \u001b[32m━━━━━━━━━━━━━━━━━━━━\u001b[0m\u001b[37m\u001b[0m \u001b[1m1s\u001b[0m 9ms/step\n",
            "\u001b[1m41/41\u001b[0m \u001b[32m━━━━━━━━━━━━━━━━━━━━\u001b[0m\u001b[37m\u001b[0m \u001b[1m3s\u001b[0m 36ms/step\n",
            "\u001b[1m200/200\u001b[0m \u001b[32m━━━━━━━━━━━━━━━━━━━━\u001b[0m\u001b[37m\u001b[0m \u001b[1m2s\u001b[0m 6ms/step\n"
          ]
        },
        {
          "output_type": "display_data",
          "data": {
            "text/plain": [
              "<Figure size 1200x600 with 1 Axes>"
            ],
            "image/png": "[encoded data removed]"
          },
          "metadata": {}
        }
      ]
    },
    {
      "cell_type": "code",
      "execution_count": 28,
      "metadata": {
        "id": "v_7G50_41NIc"
      },
      "outputs": [],
      "source": [
        "best_model_cnn.save('cnn_model.keras')  # Folder will be created if it doesn't exist\n",
        "best_model_lstm.save('lstm_model.keras')  # Folder will be created if it doesn't exist\n",
        "best_model_tcn.save('tcn_model.keras')  # Folder will be created if it doesn't exist\n",
        "best_model_tcn.save('eeg_model.keras')"
      ]
    },
    {
      "cell_type": "code",
      "execution_count": null,
      "metadata": {
        "id": "OANCYg1o1NId"
      },
      "outputs": [],
      "source": [
        "# from tensorflow.keras.models import load_model\n",
        "# cnn_load_model = load_model('/Users/youssefbenmansour/Desktop/Master/Period 4/DL/cnn_model.keras')\n",
        "# lstm_load_model = load_model('/Users/youssefbenmansour/Desktop/Master/Period 4/DL/lstm_model.keras')\n",
        "# tcn_load_model = load_model('/Users/youssefbenmansour/Desktop/Master/Period 4/DL/tcn_model.keras')\n",
        "# eeg_load_model = load_model('/Users/youssefbenmansour/Desktop/Master/Period 4/DL/eegnet_cross.h5')"
      ]
    },
    {
      "cell_type": "code",
      "execution_count": 37,
      "metadata": {
        "id": "UxZln11v1NIf",
        "outputId": "8140816a-cace-4e10-8584-d69e99516bbd",
        "colab": {
          "base_uri": "https://localhost:8080/",
          "height": 607
        }
      },
      "outputs": [
        {
          "output_type": "display_data",
          "data": {
            "text/plain": [
              "<Figure size 1000x600 with 1 Axes>"
            ],
            "image/png": "[encoded data removed]"
          },
          "metadata": {}
        }
      ],
      "source": [
        "import matplotlib.pyplot as plt\n",
        "import numpy as np\n",
        "\n",
        "# --- (Re-)evaluate each best model on the three test sets ---\n",
        "\n",
        "# CNN (1D)\n",
        "_, acc1_simple_cnn = best_models[\"CNN\"].evaluate(X_test1_1D, y_test1_1D_final, verbose=0)\n",
        "_, acc2_simple_cnn = best_models[\"CNN\"].evaluate(X_test2_1D, y_test2_1D_final, verbose=0)\n",
        "_, acc3_simple_cnn = best_models[\"CNN\"].evaluate(X_test3_1D, y_test3_1D_final, verbose=0)\n",
        "\n",
        "# CNN-LSTM (1D)\n",
        "_, acc1_hybrid = best_models[\"CNN-LSTM\"].evaluate(X_test1_1D, y_test1_1D_final, verbose=0)\n",
        "_, acc2_hybrid = best_models[\"CNN-LSTM\"].evaluate(X_test2_1D, y_test2_1D_final, verbose=0)\n",
        "_, acc3_hybrid = best_models[\"CNN-LSTM\"].evaluate(X_test3_1D, y_test3_1D_final, verbose=0)\n",
        "\n",
        "# TCN (1D)\n",
        "_, acc1_tcn = best_models[\"TCN\"].evaluate(X_test1_1D, y_test1_1D_final, verbose=0)\n",
        "_, acc2_tcn = best_models[\"TCN\"].evaluate(X_test2_1D, y_test2_1D_final, verbose=0)\n",
        "_, acc3_tcn = best_models[\"TCN\"].evaluate(X_test3_1D, y_test3_1D_final, verbose=0)\n",
        "\n",
        "# EEGNet (2D)\n",
        "X_test1_2D, y_test1_2D = preprocess_pipeline(TEST1_DIR, is_training=False, output_format='2d')\n",
        "X_test2_2D, y_test2_2D = preprocess_pipeline(TEST2_DIR, is_training=False, output_format='2d')\n",
        "X_test3_2D, y_test3_2D = preprocess_pipeline(TEST3_DIR, is_training=False, output_format='2d')\n",
        "_, acc1_eegnet = best_models[\"EEGNet\"].evaluate(X_test1_2D, y_test1_2D, verbose=0)\n",
        "_, acc2_eegnet = best_models[\"EEGNet\"].evaluate(X_test2_2D, y_test2_2D, verbose=0)\n",
        "_, acc3_eegnet = best_models[\"EEGNet\"].evaluate(X_test3_2D, y_test3_2D, verbose=0)\n",
        "\n",
        "# --- Assemble into lists (percentages) ---\n",
        "test1_acc = [acc1_simple_cnn*100, acc1_hybrid*100, acc1_tcn*100, acc1_eegnet*100]\n",
        "test2_acc = [acc2_simple_cnn*100, acc2_hybrid*100, acc2_tcn*100, acc2_eegnet*100]\n",
        "test3_acc = [acc3_simple_cnn*100, acc3_hybrid*100, acc3_tcn*100, acc3_eegnet*100]\n",
        "\n",
        "models = ['CNN', 'CNN-LSTM', 'TCN', 'EEG-Attention']\n",
        "x = np.arange(len(models))\n",
        "width = 0.25  # width of each bar\n",
        "\n",
        "# === Grouped bar chart ===\n",
        "plt.figure(figsize=(10,6))\n",
        "plt.bar(x - width, test1_acc, width, label='Test Set 1')\n",
        "plt.bar(x,         test2_acc, width, label='Test Set 2')\n",
        "plt.bar(x + width, test3_acc, width, label='Test Set 3')\n",
        "\n",
        "# annotate\n",
        "for i in range(len(models)):\n",
        "    plt.text(x[i] - width, test1_acc[i] + 1, f\"{test1_acc[i]:.1f}%\", ha='center')\n",
        "    plt.text(x[i],         test2_acc[i] + 1, f\"{test2_acc[i]:.1f}%\", ha='center')\n",
        "    plt.text(x[i] + width, test3_acc[i] + 1, f\"{test3_acc[i]:.1f}%\", ha='center')\n",
        "\n",
        "plt.xticks(x, models)\n",
        "plt.ylabel('Accuracy (%)')\n",
        "plt.title('Model Accuracies Across Test Sets')\n",
        "plt.ylim(0, 110)\n",
        "plt.legend(title='Test Sets')\n",
        "plt.grid(axis='y', linestyle='--', alpha=0.5)\n",
        "plt.tight_layout()\n",
        "plt.show()\n"
      ]
    },
    {
      "cell_type": "code",
      "source": [
        "from sklearn.metrics import log_loss, matthews_corrcoef\n",
        "import numpy as np\n",
        "import tensorflow as tf  # for to_categorical\n",
        "\n",
        "models = {\n",
        "    \"CNN\":      best_models[\"CNN\"],\n",
        "    \"CNN-LSTM\": best_models[\"CNN-LSTM\"],\n",
        "    \"TCN\":      best_models[\"TCN\"],\n",
        "    \"EEGNet\":   best_models[\"EEGNet\"],\n",
        "}\n",
        "\n",
        "for name, model in models.items():\n",
        "    print(f\"\\n=== {name} ===\")\n",
        "    data_dict = test_data_2d if name == \"EEGNet\" else test_data_1d\n",
        "\n",
        "    for ds_name, (X_test, y_test) in data_dict.items():\n",
        "        # predict\n",
        "        y_pred_probs = model.predict(X_test, verbose=0)\n",
        "        y_pred       = np.argmax(y_pred_probs, axis=1)\n",
        "\n",
        "        # one-hot encode the true labels\n",
        "        y_true_oh = tf.keras.utils.to_categorical(y_test, num_classes=len(TASKS))\n",
        "\n",
        "        # classification report & confusion matrix (from before)\n",
        "        print(f\"\\n-- {ds_name} --\")\n",
        "        print(classification_report(y_test, y_pred, target_names=TASKS, digits=4))\n",
        "        print(\"Confusion matrix:\\n\", confusion_matrix(y_test, y_pred))\n",
        "\n",
        "        # ----- new metrics -----\n",
        "        # RMSE\n",
        "        mse  = np.mean((y_pred_probs - y_true_oh)**2)\n",
        "        rmse = np.sqrt(mse)\n",
        "        print(f\"RMSE (on probas): {rmse:.4f}\")\n",
        "\n",
        "        # log‐loss\n",
        "        ll = log_loss(y_test, y_pred_probs)\n",
        "        print(f\"Log‐loss:       {ll:.4f}\")\n",
        "\n",
        "        # MCC (requires discrete preds)\n",
        "        mcc = matthews_corrcoef(y_test, y_pred)\n",
        "        print(f\"Matthews CC:   {mcc:.4f}\")\n",
        "    print(\"\\n\" + \"=\"*60)\n"
      ],
      "metadata": {
        "colab": {
          "base_uri": "https://localhost:8080/"
        },
        "id": "sGQ9IVebEV9h",
        "outputId": "341a730b-6f4b-41cd-c27a-763d014bdbf0"
      },
      "execution_count": 39,
      "outputs": [
        {
          "output_type": "stream",
          "name": "stdout",
          "text": [
            "\n",
            "=== CNN ===\n",
            "\n",
            "-- Test Set 1 --\n",
            "                     precision    recall  f1-score   support\n",
            "\n",
            "               rest     1.0000    1.0000    1.0000       108\n",
            "         task_motor     0.8000    1.0000    0.8889       108\n",
            "    task_story_math     1.0000    1.0000    1.0000       108\n",
            "task_working_memory     1.0000    0.7500    0.8571       108\n",
            "\n",
            "           accuracy                         0.9375       432\n",
            "          macro avg     0.9500    0.9375    0.9365       432\n",
            "       weighted avg     0.9500    0.9375    0.9365       432\n",
            "\n",
            "Confusion matrix:\n",
            " [[108   0   0   0]\n",
            " [  0 108   0   0]\n",
            " [  0   0 108   0]\n",
            " [  0  27   0  81]]\n",
            "RMSE (on probas): 0.1657\n",
            "Log‐loss:       0.5798\n",
            "Matthews CC:   0.9215\n",
            "\n",
            "-- Test Set 2 --\n",
            "                     precision    recall  f1-score   support\n",
            "\n",
            "               rest     1.0000    1.0000    1.0000       108\n",
            "         task_motor     0.4346    0.7685    0.5552       108\n",
            "    task_story_math     0.0000    0.0000    0.0000       108\n",
            "task_working_memory     0.0000    0.0000    0.0000       108\n",
            "\n",
            "           accuracy                         0.4421       432\n",
            "          macro avg     0.3586    0.4421    0.3888       432\n",
            "       weighted avg     0.3586    0.4421    0.3888       432\n",
            "\n",
            "Confusion matrix:\n",
            " [[108   0   0   0]\n",
            " [  0  83  25   0]\n",
            " [  0 108   0   0]\n",
            " [  0   0 108   0]]\n",
            "RMSE (on probas): 0.5232\n",
            "Log‐loss:       7.6699\n",
            "Matthews CC:   0.2758\n"
          ]
        },
        {
          "output_type": "stream",
          "name": "stderr",
          "text": [
            "/usr/local/lib/python3.11/dist-packages/sklearn/metrics/_classification.py:1565: UndefinedMetricWarning: Precision is ill-defined and being set to 0.0 in labels with no predicted samples. Use `zero_division` parameter to control this behavior.\n",
            "  _warn_prf(average, modifier, f\"{metric.capitalize()} is\", len(result))\n",
            "/usr/local/lib/python3.11/dist-packages/sklearn/metrics/_classification.py:1565: UndefinedMetricWarning: Precision is ill-defined and being set to 0.0 in labels with no predicted samples. Use `zero_division` parameter to control this behavior.\n",
            "  _warn_prf(average, modifier, f\"{metric.capitalize()} is\", len(result))\n",
            "/usr/local/lib/python3.11/dist-packages/sklearn/metrics/_classification.py:1565: UndefinedMetricWarning: Precision is ill-defined and being set to 0.0 in labels with no predicted samples. Use `zero_division` parameter to control this behavior.\n",
            "  _warn_prf(average, modifier, f\"{metric.capitalize()} is\", len(result))\n"
          ]
        },
        {
          "output_type": "stream",
          "name": "stdout",
          "text": [
            "\n",
            "-- Test Set 3 --\n",
            "                     precision    recall  f1-score   support\n",
            "\n",
            "               rest     1.0000    1.0000    1.0000       108\n",
            "         task_motor     0.5879    0.9907    0.7379       108\n",
            "    task_story_math     0.9706    0.3056    0.4648       108\n",
            "task_working_memory     1.0000    1.0000    1.0000       108\n",
            "\n",
            "           accuracy                         0.8241       432\n",
            "          macro avg     0.8896    0.8241    0.8007       432\n",
            "       weighted avg     0.8896    0.8241    0.8007       432\n",
            "\n",
            "Confusion matrix:\n",
            " [[108   0   0   0]\n",
            " [  0 107   1   0]\n",
            " [  0  75  33   0]\n",
            " [  0   0   0 108]]\n",
            "RMSE (on probas): 0.2929\n",
            "Log‐loss:       1.9104\n",
            "Matthews CC:   0.7973\n",
            "\n",
            "============================================================\n",
            "\n",
            "=== CNN-LSTM ===\n",
            "\n",
            "-- Test Set 1 --\n",
            "                     precision    recall  f1-score   support\n",
            "\n",
            "               rest     1.0000    1.0000    1.0000       108\n",
            "         task_motor     0.8640    1.0000    0.9270       108\n",
            "    task_story_math     1.0000    1.0000    1.0000       108\n",
            "task_working_memory     1.0000    0.8426    0.9146       108\n",
            "\n",
            "           accuracy                         0.9606       432\n",
            "          macro avg     0.9660    0.9606    0.9604       432\n",
            "       weighted avg     0.9660    0.9606    0.9604       432\n",
            "\n",
            "Confusion matrix:\n",
            " [[108   0   0   0]\n",
            " [  0 108   0   0]\n",
            " [  0   0 108   0]\n",
            " [  0  17   0  91]]\n",
            "RMSE (on probas): 0.1326\n",
            "Log‐loss:       0.2217\n",
            "Matthews CC:   0.9495\n",
            "\n",
            "-- Test Set 2 --\n",
            "                     precision    recall  f1-score   support\n",
            "\n",
            "               rest     0.9908    1.0000    0.9954       108\n",
            "         task_motor     0.4194    0.7222    0.5306       108\n",
            "    task_story_math     0.0000    0.0000    0.0000       108\n",
            "task_working_memory     0.0000    0.0000    0.0000       108\n",
            "\n",
            "           accuracy                         0.4306       432\n",
            "          macro avg     0.3525    0.4306    0.3815       432\n",
            "       weighted avg     0.3525    0.4306    0.3815       432\n",
            "\n",
            "Confusion matrix:\n",
            " [[108   0   0   0]\n",
            " [  0  78  21   9]\n",
            " [  0 108   0   0]\n",
            " [  1   0 107   0]]\n",
            "RMSE (on probas): 0.5277\n",
            "Log‐loss:       6.4101\n",
            "Matthews CC:   0.2561\n",
            "\n",
            "-- Test Set 3 --\n",
            "                     precision    recall  f1-score   support\n",
            "\n",
            "               rest     0.9908    1.0000    0.9954       108\n",
            "         task_motor     0.6753    0.9630    0.7939       108\n",
            "    task_story_math     0.9508    0.5370    0.6864       108\n",
            "task_working_memory     1.0000    1.0000    1.0000       108\n",
            "\n",
            "           accuracy                         0.8750       432\n",
            "          macro avg     0.9042    0.8750    0.8689       432\n",
            "       weighted avg     0.9042    0.8750    0.8689       432\n",
            "\n",
            "Confusion matrix:\n",
            " [[108   0   0   0]\n",
            " [  1 104   3   0]\n",
            " [  0  50  58   0]\n",
            " [  0   0   0 108]]\n",
            "RMSE (on probas): 0.2452\n",
            "Log‐loss:       1.0817\n",
            "Matthews CC:   0.8465\n",
            "\n",
            "============================================================\n",
            "\n",
            "=== TCN ===\n",
            "\n",
            "-- Test Set 1 --\n",
            "                     precision    recall  f1-score   support\n",
            "\n",
            "               rest     1.0000    1.0000    1.0000       108\n",
            "         task_motor     0.9000    1.0000    0.9474       108\n",
            "    task_story_math     0.9076    1.0000    0.9515       108\n",
            "task_working_memory     1.0000    0.7870    0.8808       108\n",
            "\n",
            "           accuracy                         0.9468       432\n",
            "          macro avg     0.9519    0.9468    0.9449       432\n",
            "       weighted avg     0.9519    0.9468    0.9449       432\n",
            "\n",
            "Confusion matrix:\n",
            " [[108   0   0   0]\n",
            " [  0 108   0   0]\n",
            " [  0   0 108   0]\n",
            " [  0  12  11  85]]\n",
            "RMSE (on probas): 0.1609\n",
            "Log‐loss:       0.6889\n",
            "Matthews CC:   0.9317\n",
            "\n",
            "-- Test Set 2 --\n",
            "                     precision    recall  f1-score   support\n",
            "\n",
            "               rest     0.9076    1.0000    0.9515       108\n",
            "         task_motor     0.3571    0.5556    0.4348       108\n",
            "    task_story_math     0.0000    0.0000    0.0000       108\n",
            "task_working_memory     0.9759    0.7500    0.8482       108\n",
            "\n",
            "           accuracy                         0.5764       432\n",
            "          macro avg     0.5602    0.5764    0.5586       432\n",
            "       weighted avg     0.5602    0.5764    0.5586       432\n",
            "\n",
            "Confusion matrix:\n",
            " [[108   0   0   0]\n",
            " [  0  60  46   2]\n",
            " [  0 108   0   0]\n",
            " [ 11   0  16  81]]\n",
            "RMSE (on probas): 0.4523\n",
            "Log‐loss:       5.2209\n",
            "Matthews CC:   0.4456\n",
            "\n",
            "-- Test Set 3 --\n",
            "                     precision    recall  f1-score   support\n",
            "\n",
            "               rest     1.0000    1.0000    1.0000       108\n",
            "         task_motor     0.5548    0.7500    0.6378       108\n",
            "    task_story_math     0.6143    0.3981    0.4831       108\n",
            "task_working_memory     1.0000    1.0000    1.0000       108\n",
            "\n",
            "           accuracy                         0.7870       432\n",
            "          macro avg     0.7923    0.7870    0.7802       432\n",
            "       weighted avg     0.7923    0.7870    0.7802       432\n",
            "\n",
            "Confusion matrix:\n",
            " [[108   0   0   0]\n",
            " [  0  81  27   0]\n",
            " [  0  65  43   0]\n",
            " [  0   0   0 108]]\n",
            "RMSE (on probas): 0.3143\n",
            "Log‐loss:       1.2425\n",
            "Matthews CC:   0.7236\n",
            "\n",
            "============================================================\n",
            "\n",
            "=== EEGNet ===\n",
            "\n",
            "-- Test Set 1 --\n",
            "                     precision    recall  f1-score   support\n",
            "\n",
            "               rest     0.9907    1.0000    0.9953       532\n",
            "         task_motor     0.9515    0.9211    0.9360       532\n",
            "    task_story_math     1.0000    1.0000    1.0000       532\n",
            "task_working_memory     0.9228    0.9436    0.9331       532\n",
            "\n",
            "           accuracy                         0.9662      2128\n",
            "          macro avg     0.9662    0.9662    0.9661      2128\n",
            "       weighted avg     0.9662    0.9662    0.9661      2128\n",
            "\n",
            "Confusion matrix:\n",
            " [[532   0   0   0]\n",
            " [  0 490   0  42]\n",
            " [  0   0 532   0]\n",
            " [  5  25   0 502]]\n",
            "RMSE (on probas): 0.1076\n",
            "Log‐loss:       0.1124\n",
            "Matthews CC:   0.9550\n",
            "\n",
            "-- Test Set 2 --\n",
            "                     precision    recall  f1-score   support\n",
            "\n",
            "               rest     1.0000    1.0000    1.0000       532\n",
            "         task_motor     0.5340    0.9756    0.6902       532\n",
            "    task_story_math     0.0000    0.0000    0.0000       532\n",
            "task_working_memory     0.0000    0.0000    0.0000       532\n",
            "\n",
            "           accuracy                         0.4939      2128\n",
            "          macro avg     0.3835    0.4939    0.4225      2128\n",
            "       weighted avg     0.3835    0.4939    0.4225      2128\n",
            "\n",
            "Confusion matrix:\n",
            " [[532   0   0   0]\n",
            " [  0 519  13   0]\n",
            " [  0 409   0 123]\n",
            " [  0  44 488   0]]\n",
            "RMSE (on probas): 0.4777\n",
            "Log‐loss:       4.2661\n",
            "Matthews CC:   0.3440\n",
            "\n",
            "-- Test Set 3 --\n",
            "                     precision    recall  f1-score   support\n",
            "\n",
            "               rest     1.0000    1.0000    1.0000       532\n",
            "         task_motor     0.9350    1.0000    0.9664       532\n",
            "    task_story_math     1.0000    0.9305    0.9640       532\n",
            "task_working_memory     1.0000    1.0000    1.0000       532\n",
            "\n",
            "           accuracy                         0.9826      2128\n",
            "          macro avg     0.9837    0.9826    0.9826      2128\n",
            "       weighted avg     0.9837    0.9826    0.9826      2128\n",
            "\n",
            "Confusion matrix:\n",
            " [[532   0   0   0]\n",
            " [  0 532   0   0]\n",
            " [  0  37 495   0]\n",
            " [  0   0   0 532]]\n",
            "RMSE (on probas): 0.1142\n",
            "Log‐loss:       0.1270\n",
            "Matthews CC:   0.9772\n",
            "\n",
            "============================================================\n"
          ]
        }
      ]
    },
    {
      "cell_type": "code",
      "execution_count": 38,
      "metadata": {
        "id": "tkueGy3I1NIg",
        "outputId": "e755ebd5-b733-4ad3-eccd-fc6bf7ae0036",
        "colab": {
          "base_uri": "https://localhost:8080/",
          "height": 211
        }
      },
      "outputs": [
        {
          "output_type": "error",
          "ename": "NameError",
          "evalue": "name 'study_cnn' is not defined",
          "traceback": [
            "\u001b[0;31m---------------------------------------------------------------------------\u001b[0m",
            "\u001b[0;31mNameError\u001b[0m                                 Traceback (most recent call last)",
            "\u001b[0;32m<ipython-input-38-1187655616>\u001b[0m in \u001b[0;36m<cell line: 0>\u001b[0;34m()\u001b[0m\n\u001b[1;32m      3\u001b[0m \u001b[0;34m\u001b[0m\u001b[0m\n\u001b[1;32m      4\u001b[0m \u001b[0;31m# List of studies and corresponding titles\u001b[0m\u001b[0;34m\u001b[0m\u001b[0;34m\u001b[0m\u001b[0m\n\u001b[0;32m----> 5\u001b[0;31m \u001b[0mstudies\u001b[0m \u001b[0;34m=\u001b[0m \u001b[0;34m[\u001b[0m\u001b[0mstudy_cnn\u001b[0m\u001b[0;34m,\u001b[0m \u001b[0mstudy_lstm\u001b[0m\u001b[0;34m,\u001b[0m \u001b[0mstudy_tcn\u001b[0m\u001b[0;34m]\u001b[0m\u001b[0;34m\u001b[0m\u001b[0;34m\u001b[0m\u001b[0m\n\u001b[0m\u001b[1;32m      6\u001b[0m \u001b[0mtitles\u001b[0m \u001b[0;34m=\u001b[0m \u001b[0;34m[\u001b[0m\u001b[0;34m'CNN Study'\u001b[0m\u001b[0;34m,\u001b[0m \u001b[0;34m'LSTM Study'\u001b[0m\u001b[0;34m,\u001b[0m \u001b[0;34m'TCM Study'\u001b[0m\u001b[0;34m]\u001b[0m\u001b[0;34m\u001b[0m\u001b[0;34m\u001b[0m\u001b[0m\n\u001b[1;32m      7\u001b[0m \u001b[0;34m\u001b[0m\u001b[0m\n",
            "\u001b[0;31mNameError\u001b[0m: name 'study_cnn' is not defined"
          ]
        }
      ],
      "source": [
        "import numpy as np\n",
        "import matplotlib.pyplot as plt\n",
        "\n",
        "# List of studies and corresponding titles\n",
        "studies = [study_cnn, study_lstm, study_tcn]\n",
        "titles = ['CNN Study', 'LSTM Study', 'TCM Study']\n",
        "\n",
        "for study, title in zip(studies, titles):\n",
        "    window_sizes = []\n",
        "    step_sizes = []\n",
        "    accuracies = []\n",
        "\n",
        "    for trial in study.trials:\n",
        "        if trial.value is not None and \"window_size\" in trial.params and \"step_size\" in trial.params:\n",
        "            window_sizes.append(trial.params[\"window_size\"])\n",
        "            step_sizes.append(trial.params[\"step_size\"])\n",
        "            accuracies.append(trial.value)\n",
        "\n",
        "    if not accuracies:\n",
        "        print(f\"No valid trials for {title}. Skipping plot.\")\n",
        "        continue\n",
        "\n",
        "    window_sizes = np.array(window_sizes)\n",
        "    step_sizes = np.array(step_sizes)\n",
        "    accuracies = np.array(accuracies)\n",
        "\n",
        "    plt.figure(figsize=(8, 6))\n",
        "    scatter = plt.scatter(window_sizes, step_sizes, c=accuracies, cmap='viridis', s=100, edgecolors='k')\n",
        "    plt.colorbar(scatter, label='Accuracy')\n",
        "    plt.xlabel('Window Size')\n",
        "    plt.ylabel('Step Size')\n",
        "    plt.title(f'Accuracy per Window Size and Step Size ({title})')\n",
        "    plt.grid(True)\n",
        "    plt.tight_layout()\n",
        "    plt.show()\n"
      ]
    },
    {
      "cell_type": "code",
      "execution_count": null,
      "metadata": {
        "id": "noA0p6S31NIh"
      },
      "outputs": [],
      "source": []
    }
  ],
  "metadata": {
    "accelerator": "GPU",
    "colab": {
      "gpuType": "A100",
      "machine_shape": "hm",
      "provenance": [],
      "include_colab_link": true
    },
    "kernelspec": {
      "display_name": "Python 3",
      "name": "python3"
    },
    "language_info": {
      "codemirror_mode": {
        "name": "ipython",
        "version": 3
      },
      "file_extension": ".py",
      "mimetype": "text/x-python",
      "name": "python",
      "nbconvert_exporter": "python",
      "pygments_lexer": "ipython3",
      "version": "3.12.5"
    }
  },
  "nbformat": 4,
  "nbformat_minor": 0
}